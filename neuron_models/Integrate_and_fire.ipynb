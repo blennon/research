{
 "metadata": {
  "name": "Integrate_and_fire"
 }, 
 "nbformat": 2, 
 "worksheets": [
  {
   "cells": [
    {
     "cell_type": "code", 
     "collapsed": true, 
     "input": [
      "from scipy.signal import convolve"
     ], 
     "language": "python", 
     "outputs": [], 
     "prompt_number": 1
    }, 
    {
     "cell_type": "code", 
     "collapsed": false, 
     "input": [
      "class LIFNeuron(object):", 
      "    '''Leaky integrate and fire neuron model'''", 
      "    ", 
      "    def __init__(self, Cm, gL, EL, Vth, refr_per, ", 
      "                 gExc=0., EExc=0., exc_tau=1., V0=None,", 
      "                 tstep=1.):", 
      "        '''", 
      "        Cm: membrane capacitance", 
      "        gL: leak conductance", 
      "        EL: leak reversal potential", 
      "        Vth: spike threshold in volts", 
      "        refr_per: refractory period of neuron, in seconds", 
      "        gExc: excitatory synaptic conductance", 
      "        EExc: excitatory conductance reversal potential", 
      "        V0: inital voltage of neuron", 
      "        '''", 
      "        self.Cm = Cm", 
      "        self.gL = gL", 
      "        self.EL = EL", 
      "        self.Vth = Vth", 
      "        self.refr_per = refr_per", 
      "        self.refr = 0", 
      "        self.gExc = gExc", 
      "        self.EExc = EExc", 
      "        self.exc_tau = exc_tau", 
      "        if V0 is None: V0 = EL", 
      "        self.V = V0", 
      "        self.tstep = tstep", 
      "        self.just_spiked = False", 
      "        ", 
      "    def simulate(self, I, dt):", 
      "        V = zeros_like(I)", 
      "        V[0] = self.V", 
      "        for t,i in enumerate(I):", 
      "            self.integrate(i, 0, dt)", 
      "            V[t] = self.V", 
      "        return V", 
      "    ", 
      "    def integrate(self, I, gE, dt):", 
      "        '''", 
      "        Integrate the voltage for self.tstep in dt increments", 
      "        '''", 
      "        if self.refr > 0:", 
      "            self.V = self.EL", 
      "            self.refr -= self.tstep", 
      "            self.just_spiked = False", 
      "            return", 
      "        ", 
      "        V = self.V", 
      "        for i in range(int((self.tstep/dt))):", 
      "            V = V + dt*(I-self.gL*(V-self.EL)-self.gExc*gE*(V-self.EExc))/self.Cm", 
      "        self.V = V", 
      "", 
      "        if self.V > self.Vth:", 
      "            self.V = abs(self.Vth)/2", 
      "            self.refr = self.refr_per", 
      "            self.just_spiked = True"
     ], 
     "language": "python", 
     "outputs": [], 
     "prompt_number": 2
    }, 
    {
     "cell_type": "code", 
     "collapsed": false, 
     "input": [
      "#LIFN = LIFNeuron(Cm=.32, gL=1./32, EL=-70., Vth=-50., refr_per=1.)", 
      "GR = LIFNeuron(Cm=3.1*1e-3, gL=.43*1e-3, EL=-58., Vth=-35, refr_per=1)", 
      "Pkj = LIFNeuron(Cm=.107, gL=2.32*1e-3, EL=-68., Vth=-55., refr_per=1., gExc=.7*1e-3)"
     ], 
     "language": "python", 
     "outputs": [], 
     "prompt_number": 18
    }, 
    {
     "cell_type": "code", 
     "collapsed": false, 
     "input": [
      "I_stim = .008  # nA", 
      "tstep = 1.0 # ms", 
      "dt = .25 # ms", 
      "sim_len = 1000. # ms, simulation time", 
      "tau_gE = 8.3", 
      "T = arange(0,sim_len,tstep) # ms", 
      "I_stim = randn(T.shape[0])*I_stim + I_stim", 
      "#I_stim = ones_like(T)*I_stim"
     ], 
     "language": "python", 
     "outputs": [], 
     "prompt_number": 19
    }, 
    {
     "cell_type": "code", 
     "collapsed": false, 
     "input": [
      "close('all')", 
      "#plot(GR.simulate(I_stim, dt))"
     ], 
     "language": "python", 
     "outputs": [], 
     "prompt_number": 20
    }, 
    {
     "cell_type": "code", 
     "collapsed": false, 
     "input": [
      "SpikeMonitor = zeros((2,T.shape[0]))", 
      "VoltageMonitor = zeros((2,T.shape[0]))", 
      "for t in T:", 
      "    # get neuron conductances", 
      "    gE = convolve(SpikeMonitor[0,0:t],exp(-arange(50.)/tau_gE),'full')[0:t]", 
      "    ", 
      "    # stimulate neurons", 
      "    GR.integrate(I_stim[t],0,dt)", 
      "    if gE.shape[0] > 0:", 
      "        Pkj.integrate(0,gE[-1],dt)", 
      "    else:", 
      "        Pkj.integrate(0,0,dt)", 
      "    ", 
      "    #check for spikes, update spike monitor", 
      "    if GR.just_spiked:", 
      "        SpikeMonitor[0,t] = 1.", 
      "    if Pkj.just_spiked:", 
      "        SpikeMonitor[1,t] = 1.", 
      "    ", 
      "    # record voltage for plotting", 
      "    VoltageMonitor[:,t] = array([GR.V,Pkj.V])"
     ], 
     "language": "python", 
     "outputs": [], 
     "prompt_number": 21
    }, 
    {
     "cell_type": "code", 
     "collapsed": false, 
     "input": [
      "figure(1)", 
      "plot(VoltageMonitor[0,:])", 
      "figure(2)", 
      "plot(convolve(SpikeMonitor[0,0:t],exp(-arange(50.)/tau_gE),'full')[0:t])", 
      "figure(3)", 
      "plot(VoltageMonitor[1,:])"
     ], 
     "language": "python", 
     "outputs": [
      {
       "output_type": "pyout", 
       "prompt_number": 22, 
       "text": [
        "[<matplotlib.lines.Line2D at 0x33737d0>]"
       ]
      }
     ], 
     "prompt_number": 22
    }, 
    {
     "cell_type": "code", 
     "collapsed": true, 
     "input": [], 
     "language": "python", 
     "outputs": []
    }
   ]
  }
 ]
}