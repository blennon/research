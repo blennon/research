{
 "metadata": {
  "name": "Izhikevich_bill"
 }, 
 "nbformat": 2, 
 "worksheets": [
  {
   "cells": [
    {
     "cell_type": "code", 
     "collapsed": false, 
     "input": [
      "class IzhikevichNeuron(object):", 
      "    ", 
      "    def __init__(self, a, b, c, d, v0, u0=None, v_thresh=30):", 
      "        self.a, self.b, self.c, self.d = a, b, c, d", 
      "        self.v = v0", 
      "        self.u = u0 if u0 is not None else b*v0", 
      "        self.v_thresh = v_thresh", 
      "        self.c1, self.c2, self.c3 = 0.04, 5., 140.", 
      "        ", 
      "    def simulate(self, stim, dt=.25):", 
      "        v,u = zeros_like(stim), zeros_like(stim)", 
      "        v[0], u[0] = self.v, self.u", 
      "        for i,s in enumerate(stim):", 
      "            v[i], u[i] = self.integrate(s, dt)", 
      "        return v,u", 
      "    ", 
      "    def integrate(self, I, dt):", 
      "        v = self.v + dt*(self.c1*self.v**2 + self.c2*self.v + self.c3 - self.u + I)", 
      "        u = self.u + dt*(self.a*(self.b*self.v - self.u))", 
      "        if v > self.v_thresh:", 
      "            v = self.c", 
      "            u = u + self.d", 
      "        self.v, self.u = v, u", 
      "        return v,u"
     ], 
     "language": "python", 
     "outputs": [], 
     "prompt_number": 10
    }, 
    {
     "cell_type": "code", 
     "collapsed": false, 
     "input": [
      "N = IzhikevichNeuron(0.02, 0.25, -50, 2, -70)"
     ], 
     "language": "python", 
     "outputs": [], 
     "prompt_number": 11
    }, 
    {
     "cell_type": "code", 
     "collapsed": false, 
     "input": [
      "stim = zeros(1000)", 
      "stim[100:] = 15.", 
      "#stim = 15*rand(1000)", 
      "v,u = N.simulate(stim)", 
      "", 
      "close('all')", 
      "plot(v)", 
      "plot(stim-100)"
     ], 
     "language": "python", 
     "outputs": [
      {
       "output_type": "pyout", 
       "prompt_number": 21, 
       "text": [
        "[<matplotlib.lines.Line2D at 0x45ee550>]"
       ]
      }
     ], 
     "prompt_number": 21
    }
   ]
  }
 ]
}