{
 "metadata": {
  "name": "CUBA"
 }, 
 "nbformat": 2, 
 "worksheets": [
  {
   "cells": [
    {
     "cell_type": "code", 
     "collapsed": false, 
     "input": [
      "from brian import *", 
      "from brian.globalprefs import *", 
      "set_global_preferences(useweave=True, usenewpropagate=True, usecodegen=True, usecodegenweave=True)"
     ], 
     "language": "python", 
     "outputs": [
      {
       "output_type": "stream", 
       "stream": "stderr", 
       "text": [
        "/usr/local/lib/python2.7/dist-packages/brian-1.4.0-py2.7.egg/brian/optimiser.py:48: UserWarning: sympy not installed", 
        "  warnings.warn('sympy not installed')", 
        "/usr/local/lib/python2.7/dist-packages/brian-1.4.0-py2.7.egg/brian/equations.py:63: UserWarning: sympy not installed", 
        "  warnings.warn('sympy not installed')", 
        "/usr/local/lib/python2.7/dist-packages/brian-1.4.0-py2.7.egg/brian/synapses/synapses.py:29: UserWarning: sympy not installed: some features in Synapses will not be available", 
        "  warnings.warn('sympy not installed: some features in Synapses will not be available')"
       ]
      }
     ], 
     "prompt_number": 1
    }, 
    {
     "cell_type": "code", 
     "collapsed": true, 
     "input": [
      "taum = 20 * ms          # membrane time constant", 
      "taue = 5 * ms          # excitatory synaptic time constant", 
      "taui = 10 * ms          # inhibitory synaptic time constant", 
      "Vt = -50 * mV          # spike threshold", 
      "Vr = -60 * mV          # reset value", 
      "El = -49 * mV          # resting potential", 
      "we = (60 * 0.27 / 10) * mV # excitatory synaptic weight", 
      "wi = (20 * 4.5 / 10) * mV # inhibitory synaptic weight", 
      "", 
      "eqs = Equations('''", 
      "        dV/dt  = (ge-gi-(V-El))/taum : volt", 
      "        dge/dt = -ge/taue            : volt", 
      "        dgi/dt = -gi/taui            : volt", 
      "        ''')"
     ], 
     "language": "python", 
     "outputs": [], 
     "prompt_number": 2
    }, 
    {
     "cell_type": "code", 
     "collapsed": true, 
     "input": [
      "G = NeuronGroup(40000, model=eqs, threshold=Vt, reset=Vr)", 
      "Ge = G.subgroup(32000) # Excitatory neurons", 
      "Gi = G.subgroup(8000)  # Inhibitory neurons"
     ], 
     "language": "python", 
     "outputs": [], 
     "prompt_number": 3
    }, 
    {
     "cell_type": "code", 
     "collapsed": true, 
     "input": [
      "Ce = Connection(Ge, G, 'ge', sparseness=0.02, weight=we)", 
      "Ci = Connection(Gi, G, 'gi', sparseness=0.02, weight=wi)"
     ], 
     "language": "python", 
     "outputs": [], 
     "prompt_number": 4
    }, 
    {
     "cell_type": "code", 
     "collapsed": true, 
     "input": [
      "M = SpikeMonitor(G)", 
      "MV = StateMonitor(G, 'V', record=0)", 
      "Mge = StateMonitor(G, 'ge', record=0)", 
      "Mgi = StateMonitor(G, 'gi', record=0)"
     ], 
     "language": "python", 
     "outputs": [], 
     "prompt_number": 5
    }, 
    {
     "cell_type": "code", 
     "collapsed": true, 
     "input": [
      "G.V = Vr + (Vt - Vr) * rand(len(G))"
     ], 
     "language": "python", 
     "outputs": [], 
     "prompt_number": 6
    }, 
    {
     "cell_type": "code", 
     "collapsed": false, 
     "input": [
      "%timeit run(500 * ms)"
     ], 
     "language": "python", 
     "outputs": [
      {
       "output_type": "stream", 
       "stream": "stderr", 
       "text": [
        "brian.experimental.new_c_propagate: WARNING  Using new C based propagation function."
       ]
      }, 
      {
       "output_type": "stream", 
       "stream": "stderr", 
       "text": [
        "brian.experimental.new_c_propagate: WARNING  Using new C based propagation function."
       ]
      }, 
      {
       "output_type": "stream", 
       "stream": "stdout", 
       "text": [
        "1 loops, best of 3: 3.31 s per loop"
       ]
      }
     ], 
     "prompt_number": 7
    }, 
    {
     "cell_type": "code", 
     "collapsed": true, 
     "input": [
      "subplot(211)", 
      "raster_plot(M, title='The CUBA network', newfigure=False)", 
      "subplot(223)", 
      "plot(MV.times / ms, MV[0] / mV)", 
      "xlabel('Time (ms)')", 
      "ylabel('V (mV)')", 
      "subplot(224)", 
      "plot(Mge.times / ms, Mge[0] / mV)", 
      "plot(Mgi.times / ms, Mgi[0] / mV)", 
      "xlabel('Time (ms)')", 
      "ylabel('ge and gi (mV)')", 
      "legend(('ge', 'gi'), 'upper right')", 
      "show()"
     ], 
     "language": "python", 
     "outputs": [], 
     "prompt_number": 8
    }, 
    {
     "cell_type": "code", 
     "collapsed": true, 
     "input": [], 
     "language": "python", 
     "outputs": []
    }
   ]
  }
 ]
}