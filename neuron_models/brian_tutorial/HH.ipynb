{
 "metadata": {
  "name": "HH"
 }, 
 "nbformat": 2, 
 "worksheets": [
  {
   "cells": [
    {
     "cell_type": "markdown", 
     "source": [
      "This implemenents a Hodkin-Huxley model neuron.", 
      "", 
      "See Dayan and Abbot (2001) p.170 - 173 for reference."
     ]
    }, 
    {
     "cell_type": "markdown", 
     "source": [
      "<h2>Gating variables</h2>"
     ]
    }, 
    {
     "cell_type": "code", 
     "collapsed": true, 
     "input": [
      "# n", 
      "alpha_n = vectorize(lambda V: .01*(V+55)/(1-exp(-.1*(V+55))) if V != -55 else .1)", 
      "beta_n = vectorize(lambda V: 0.125*exp(-0.0125*(V+65)))", 
      "tau_n = vectorize(lambda V: 1./(alpha_n(V) + beta_n(V)))", 
      "n_inf = vectorize(lambda V: alpha_n(V)*tau_n(V))", 
      "", 
      "# m", 
      "alpha_m = vectorize(lambda V: .1*(V+40)/(1-exp(-.1*(V+40))) if V != -40 else 1.0)", 
      "beta_m = vectorize(lambda V: 4.*exp(-0.0556*(V+65)))", 
      "tau_m = vectorize(lambda V: 1./(alpha_m(V) + beta_m(V)))", 
      "m_inf = vectorize(lambda V: alpha_m(V)*tau_m(V))", 
      "", 
      "# h", 
      "alpha_h = vectorize(lambda V: .07*exp(-.05*(V+65)))", 
      "beta_h = vectorize(lambda V: 1./(1+exp(-.1*(V+35))))", 
      "tau_h = vectorize(lambda V: 1./(alpha_h(V) + beta_h(V)))", 
      "h_inf = vectorize(lambda V: alpha_h(V)*tau_h(V))"
     ], 
     "language": "python", 
     "outputs": [], 
     "prompt_number": 1
    }, 
    {
     "cell_type": "markdown", 
     "source": [
      "Plots should match Dayan and Abbot p.171, 173"
     ]
    }, 
    {
     "cell_type": "code", 
     "collapsed": false, 
     "input": [
      "V_range = arange(-90.,0.)", 
      "close('all')", 
      "figure(1)", 
      "plot(V_range,alpha_n(V_range))", 
      "plot(V_range,beta_n(V_range))", 
      "figure(2)", 
      "plot(V_range, m_inf(V_range), V_range, h_inf(V_range), V_range, n_inf(V_range))", 
      "legend(('m','h','n'))", 
      "title('Steady state values of ion channel gating variables')", 
      "ylabel('Magnitude')", 
      "xlabel('Voltage (mV)')", 
      "figure(3)", 
      "plot(V_range,tau_n(V_range))", 
      "plot(V_range,tau_m(V_range))", 
      "plot(V_range,tau_h(V_range))"
     ], 
     "language": "python", 
     "outputs": [
      {
       "output_type": "pyout", 
       "prompt_number": 8, 
       "text": [
        "[<matplotlib.lines.Line2D at 0x4723550>]"
       ]
      }
     ], 
     "prompt_number": 8
    }, 
    {
     "cell_type": "markdown", 
     "source": [
      "<h2>Conductances and Reversal Potentials</h2>"
     ]
    }, 
    {
     "cell_type": "code", 
     "collapsed": true, 
     "input": [
      "gL = 0.003 # mS/mm^2", 
      "gK = 0.36 # mS/mm^2", 
      "gNa = 1.2  # mS/mm^2", 
      "EL = -54.387 # mV", 
      "EK = -77 # mV", 
      "ENa = 50 # mV"
     ], 
     "language": "python", 
     "outputs": [], 
     "prompt_number": 9
    }, 
    {
     "cell_type": "markdown", 
     "source": [
      "<h2>Simulation</h2>"
     ]
    }, 
    {
     "cell_type": "code", 
     "collapsed": true, 
     "input": [
      "C_memb = .01 # uF/mm^2", 
      "dt = .025 # ms", 
      "sim_len = 55 # ms, simulation time", 
      "T = arange(0,sim_len,dt) # ms"
     ], 
     "language": "python", 
     "outputs": [], 
     "prompt_number": 10
    }, 
    {
     "cell_type": "code", 
     "collapsed": false, 
     "input": [
      "I_stim = ones_like(T)* 0.1 # uA/mm^2", 
      "V = zeros_like(T)", 
      "n = zeros_like(T)", 
      "m = zeros_like(T)", 
      "h = zeros_like(T)", 
      "V[0] = -70 # mV", 
      "n[0] = n_inf(V[0])", 
      "m[0] = m_inf(V[0])", 
      "h[0] = h_inf(V[0])"
     ], 
     "language": "python", 
     "outputs": [], 
     "prompt_number": 11
    }, 
    {
     "cell_type": "code", 
     "collapsed": false, 
     "input": [
      "for t in range(T.shape[0]-1):", 
      "    I_memb = gL*(V[t]-EL) + gK*(n[t]**4)*(V[t]-EK) + gNa*(m[t]**3)*h[t]*(V[t]-ENa)", 
      "    dVdt = (1./C_memb)*(-I_memb + I_stim[t])", 
      "    V[t+1] = V[t] + dt*dVdt", 
      "    ", 
      "    dndt = (n_inf(V[t]) - n[t])/tau_n(V[t])", 
      "    n[t+1] = n[t] + dt*dndt", 
      "    ", 
      "    dmdt = (m_inf(V[t]) - m[t])/tau_m(V[t])", 
      "    m[t+1] = m[t] + dt*dmdt", 
      "    ", 
      "    dhdt = (h_inf(V[t]) - h[t])/tau_h(V[t])", 
      "    h[t+1] = h[t] + dt*dhdt"
     ], 
     "language": "python", 
     "outputs": [], 
     "prompt_number": 12
    }, 
    {
     "cell_type": "code", 
     "collapsed": false, 
     "input": [
      "close('all')", 
      "plot(V)"
     ], 
     "language": "python", 
     "outputs": [
      {
       "output_type": "pyout", 
       "prompt_number": 13, 
       "text": [
        "[<matplotlib.lines.Line2D at 0x3ebc110>]"
       ]
      }
     ], 
     "prompt_number": 13
    }, 
    {
     "cell_type": "code", 
     "collapsed": false, 
     "input": [
      "plot(n)"
     ], 
     "language": "python", 
     "outputs": [
      {
       "output_type": "pyout", 
       "prompt_number": 145, 
       "text": [
        "[<matplotlib.lines.Line2D at 0xba34550>]"
       ]
      }
     ], 
     "prompt_number": 145
    }, 
    {
     "cell_type": "code", 
     "collapsed": false, 
     "input": [
      "gNa"
     ], 
     "language": "python", 
     "outputs": [
      {
       "output_type": "pyout", 
       "prompt_number": 7, 
       "text": [
        "1.1999999999999997e-10"
       ]
      }
     ], 
     "prompt_number": 7
    }, 
    {
     "cell_type": "code", 
     "collapsed": true, 
     "input": [], 
     "language": "python", 
     "outputs": []
    }
   ]
  }
 ]
}