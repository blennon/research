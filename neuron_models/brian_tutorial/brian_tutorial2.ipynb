{
 "metadata": {
  "name": "brian_tutorial2"
 }, 
 "nbformat": 2, 
 "worksheets": [
  {
   "cells": [
    {
     "cell_type": "code", 
     "collapsed": false, 
     "input": [
      "from brian import *"
     ], 
     "language": "python", 
     "outputs": [
      {
       "output_type": "stream", 
       "stream": "stderr", 
       "text": [
        "/usr/local/lib/python2.7/dist-packages/brian-1.4.0-py2.7.egg/brian/optimiser.py:48: UserWarning: sympy not installed", 
        "  warnings.warn('sympy not installed')", 
        "/usr/local/lib/python2.7/dist-packages/brian-1.4.0-py2.7.egg/brian/equations.py:63: UserWarning: sympy not installed", 
        "  warnings.warn('sympy not installed')", 
        "/usr/local/lib/python2.7/dist-packages/brian-1.4.0-py2.7.egg/brian/synapses/synapses.py:29: UserWarning: sympy not installed: some features in Synapses will not be available", 
        "  warnings.warn('sympy not installed: some features in Synapses will not be available')"
       ]
      }
     ], 
     "prompt_number": 1
    }, 
    {
     "cell_type": "code", 
     "collapsed": false, 
     "input": [
      "taum = 10 * ms", 
      "taue = 1 * ms", 
      "taui = 10 * ms", 
      "Vt = 10 * mV", 
      "Vr = 0 * mV", 
      "eqs = Equations('''dV/dt = (-V + ge + gi)/taum : volt", 
      "                   dge/dt = -ge/taue: volt", 
      "                   dgi/dt = -gi/taui: volt''')"
     ], 
     "language": "python", 
     "outputs": [], 
     "prompt_number": 2
    }, 
    {
     "cell_type": "code", 
     "collapsed": true, 
     "input": [
      "spiketimes = [(0, 1 * ms), (0, 10 * ms),", 
      "              (1, 40 * ms),", 
      "              (0, 50 * ms), (0, 55 * ms)]", 
      "", 
      "G1 = SpikeGeneratorGroup(2, spiketimes)", 
      "G2 = NeuronGroup(N=1, model=eqs, threshold=Vt, reset=Vr)"
     ], 
     "language": "python", 
     "outputs": [], 
     "prompt_number": 3
    }, 
    {
     "cell_type": "code", 
     "collapsed": true, 
     "input": [
      "C1 = Connection(G1, G2, 'ge')", 
      "C2 = Connection(G1, G2, 'gi')", 
      "C1[0, 0] = 3 * mV", 
      "C2[1, 0] = -3 * mV"
     ], 
     "language": "python", 
     "outputs": [], 
     "prompt_number": 4
    }, 
    {
     "cell_type": "code", 
     "collapsed": true, 
     "input": [
      "Mv = StateMonitor(G2, 'V', record=True)", 
      "Mge = StateMonitor(G2, 'ge', record=True)", 
      "Mgi = StateMonitor(G2, 'gi', record=True)", 
      "", 
      "run(100 * ms)"
     ], 
     "language": "python", 
     "outputs": [], 
     "prompt_number": 5
    }, 
    {
     "cell_type": "code", 
     "collapsed": false, 
     "input": [
      "figure()", 
      "subplot(211)", 
      "plot(Mv.times, Mv[0])", 
      "subplot(212)", 
      "plot(Mge.times, Mge[0])", 
      "plot(Mgi.times, Mgi[0])"
     ], 
     "language": "python", 
     "outputs": [
      {
       "output_type": "pyout", 
       "prompt_number": 6, 
       "text": [
        "[<matplotlib.lines.Line2D at 0x45d6b10>]"
       ]
      }
     ], 
     "prompt_number": 6
    }, 
    {
     "cell_type": "code", 
     "collapsed": true, 
     "input": [], 
     "language": "python", 
     "outputs": []
    }
   ]
  }
 ]
}