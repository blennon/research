{
 "metadata": {
  "name": "cerebellum_synapses"
 }, 
 "nbformat": 2, 
 "worksheets": [
  {
   "cells": [
    {
     "cell_type": "code", 
     "collapsed": true, 
     "input": [
      "from brian import *", 
      "from cerebellum import *"
     ], 
     "language": "python", 
     "outputs": [], 
     "prompt_number": 1
    }, 
    {
     "cell_type": "code", 
     "collapsed": true, 
     "input": [
      "GR = GranuleCellGroup(1)", 
      "#E = NeuronGroup(1,model='dv/dt=1/(15*ms):1',threshold=1,reset=0)", 
      "#I = NeuronGroup(1,model='dv/dt=1/(5*ms):1',threshold=1,reset=0)", 
      "E_spiketimes = [(0, 1 * ms), (0, 10 * ms), (0, 40 * ms),", 
      "                (0, 45 * ms), (0, 46 * ms),", 
      "                (0, 47 * ms), (0, 48 * ms), (0, 49 * ms),", 
      "                (0, 50 * ms), (0, 52 * ms),(0, 53 * ms)]", 
      "I_spiketimes = [(0, 44 * ms)]", 
      "Ge = SpikeGeneratorGroup(1,E_spiketimes)", 
      "Gi = SpikeGeneratorGroup(1,I_spiketimes)"
     ], 
     "language": "python", 
     "outputs": [], 
     "prompt_number": 2
    }, 
    {
     "cell_type": "code", 
     "collapsed": true, 
     "input": [
      "Se = Synapses(Ge,GR,model='w:1',pre='g_ampa+=GR.g_ampa_;g_nmda+=GR.g_nmda_')", 
      "Si = Synapses(Gi,GR,model='w:1',pre='g_inh1+=GR.g_inh_; g_inh2+=GR.g_inh_')"
     ], 
     "language": "python", 
     "outputs": [], 
     "prompt_number": 3
    }, 
    {
     "cell_type": "code", 
     "collapsed": false, 
     "input": [
      "Se[0,0] = 1.", 
      "Si[0,0] = 1."
     ], 
     "language": "python", 
     "outputs": [], 
     "prompt_number": 4
    }, 
    {
     "cell_type": "code", 
     "collapsed": true, 
     "input": [
      "Mv = StateMonitor(GR,'V',record=True)", 
      "Mampa = StateMonitor(GR,'g_ampa',record=True)", 
      "Mnmda = StateMonitor(GR,'g_nmda',record=True)", 
      "Minh = StateMonitor(GR,'g_inh',record=True)"
     ], 
     "language": "python", 
     "outputs": [], 
     "prompt_number": 5
    }, 
    {
     "cell_type": "code", 
     "collapsed": false, 
     "input": [
      "run(100*ms)"
     ], 
     "language": "python", 
     "outputs": [], 
     "prompt_number": 6
    }, 
    {
     "cell_type": "code", 
     "collapsed": false, 
     "input": [
      "close('all')", 
      "subplot(4,1,1)", 
      "plot(Mv.times/ms,Mv[0])", 
      "subplot(4,1,2)", 
      "plot(Mampa.times/ms,Mampa[0])", 
      "subplot(4,1,3)", 
      "plot(Mnmda.times/ms,Mnmda[0])", 
      "subplot(4,1,4)", 
      "plot(Minh.times/ms,Minh[0])", 
      "#subplot(2,1,2)", 
      "#plot(Me.times,Me[0])", 
      "#plot(Mi.times,Mi[0])", 
      "#legend(['Exc','Inh'])"
     ], 
     "language": "python", 
     "outputs": [
      {
       "output_type": "pyout", 
       "prompt_number": 7, 
       "text": [
        "[<matplotlib.lines.Line2D at 0x5aa58d0>]"
       ]
      }
     ], 
     "prompt_number": 7
    }, 
    {
     "cell_type": "code", 
     "collapsed": true, 
     "input": [], 
     "language": "python", 
     "outputs": []
    }
   ]
  }
 ]
}