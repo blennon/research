{
 "metadata": {
  "name": "granule_cells"
 }, 
 "nbformat": 2, 
 "worksheets": [
  {
   "cells": [
    {
     "cell_type": "code", 
     "collapsed": true, 
     "input": [
      "from brian import *", 
      "from brian.globalprefs import *", 
      "defaultclock.dt=.5*ms", 
      "from cerebellum import GranuleCellGroup", 
      "#set_global_preferences(useweave=True, usenewpropagate=True, usecodegen=True, usecodegenweave=True)"
     ], 
     "language": "python", 
     "outputs": [], 
     "prompt_number": 1
    }, 
    {
     "cell_type": "markdown", 
     "source": [
      "<h2>Neuron parameters</h2>", 
      "From Yamazaki and Nagao, 2012"
     ]
    }, 
    {
     "cell_type": "code", 
     "collapsed": true, 
     "input": [
      "PG = PoissonGroup(100, lambda t:200 * Hz * (1 + cos(2 * pi * t * 50 * Hz)))"
     ], 
     "language": "python", 
     "outputs": [], 
     "prompt_number": 3
    }, 
    {
     "cell_type": "code", 
     "collapsed": false, 
     "input": [
      "G_GR = GranuleCellGroup(1)"
     ], 
     "language": "python", 
     "outputs": [
      {
       "output_type": "stream", 
       "stream": "stderr", 
       "text": [
        "brian.stateupdater: WARNING  Using codegen CStateUpdater"
       ]
      }
     ], 
     "prompt_number": 2
    }, 
    {
     "cell_type": "code", 
     "collapsed": true, 
     "input": [
      "C = Connection(PG, G_GR, 'g_glut',sparseness=1)"
     ], 
     "language": "python", 
     "outputs": [], 
     "prompt_number": 5
    }, 
    {
     "cell_type": "code", 
     "collapsed": true, 
     "input": [
      "spiketimes = [(0, 1 * ms), (0, 10 * ms), (0, 40 * ms),", 
      "              (1, 44 * ms), (0, 45 * ms), (0, 46 * ms),", 
      "              (0, 47 * ms), (0, 48 * ms), (0, 49 * ms),", 
      "              (0, 50 * ms), (0, 52 * ms),(0, 53 * ms)]", 
      "", 
      "G1 = SpikeGeneratorGroup(2, spiketimes)", 
      "C1 = Connection(G1, G_GR, 'g_glut')", 
      "C2 = Connection(G1, G_GR, 'g_gaba')", 
      "C1[0, 0] = 1.0", 
      "C2[1, 0] = 1.0"
     ], 
     "language": "python", 
     "outputs": [], 
     "prompt_number": 3
    }, 
    {
     "cell_type": "code", 
     "collapsed": true, 
     "input": [
      "MV = StateMonitor(G_GR, 'V', record=0)", 
      "Mahp = StateMonitor(G_GR, 'gahp', record=0)", 
      "Mglut = StateMonitor(G_GR,'g_glut',record=0)", 
      "Mampa = StateMonitor(G_GR,'g_ampa',record=0)", 
      "Mnmda = StateMonitor(G_GR,'g_nmda',record=0)", 
      "Mgaba = StateMonitor(G_GR,'g_gaba',record=0)", 
      "Minh1 = StateMonitor(G_GR,'g_inh1',record=0)", 
      "Minh2 = StateMonitor(G_GR,'g_inh2',record=0)", 
      "Minh = StateMonitor(G_GR,'g_inh',record=0)"
     ], 
     "language": "python", 
     "outputs": [], 
     "prompt_number": 4
    }, 
    {
     "cell_type": "code", 
     "collapsed": false, 
     "input": [
      "run(100 * ms)"
     ], 
     "language": "python", 
     "outputs": [
      {
       "output_type": "stream", 
       "stream": "stderr", 
       "text": [
        "brian.experimental.new_c_propagate: WARNING  Using new C based propagation function."
       ]
      }, 
      {
       "output_type": "stream", 
       "stream": "stderr", 
       "text": [
        "brian.experimental.new_c_propagate: WARNING  Using new C based propagation function."
       ]
      }
     ], 
     "prompt_number": 5
    }, 
    {
     "cell_type": "code", 
     "collapsed": false, 
     "input": [
      "figure(1)", 
      "subplot(3,3,1)", 
      "plot(MV.times,MV[0])", 
      "title('V')", 
      "subplot(3,3,2)", 
      "plot(Mahp.times,Mahp[0])", 
      "title('ahp')", 
      "subplot(3,3,3)", 
      "plot(Mglut.times,Mglut[0])", 
      "title('glut')", 
      "subplot(3,3,4)", 
      "plot(Mampa.times,Mampa[0])", 
      "title('ampa')", 
      "subplot(3,3,5)", 
      "plot(Mnmda.times,Mnmda[0])", 
      "title('nmda')", 
      "subplot(3,3,6)", 
      "plot(Mgaba.times,Mgaba[0])", 
      "title('gaba')", 
      "subplot(3,3,7)", 
      "plot(Minh1.times,Minh1[0])", 
      "title('inh1')", 
      "subplot(3,3,8)", 
      "plot(Minh2.times,Minh2[0])", 
      "title('inh2')", 
      "subplot(3,3,9)", 
      "plot(Minh.times,Minh[0])", 
      "title('inh')"
     ], 
     "language": "python", 
     "outputs": [
      {
       "output_type": "pyout", 
       "prompt_number": 6, 
       "text": [
        "<matplotlib.text.Text at 0x51b8090>"
       ]
      }
     ], 
     "prompt_number": 6
    }, 
    {
     "cell_type": "code", 
     "collapsed": true, 
     "input": [], 
     "language": "python", 
     "outputs": []
    }
   ]
  }
 ]
}