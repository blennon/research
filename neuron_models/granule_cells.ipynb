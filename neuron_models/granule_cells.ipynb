{
 "metadata": {
  "name": "granule_cells"
 }, 
 "nbformat": 2, 
 "worksheets": [
  {
   "cells": [
    {
     "cell_type": "code", 
     "collapsed": false, 
     "input": [
      "from brian import *", 
      "from brian.globalprefs import *", 
      "#set_global_preferences(useweave=True, usenewpropagate=True, usecodegen=True, usecodegenweave=True)"
     ], 
     "language": "python", 
     "outputs": [], 
     "prompt_number": 1
    }, 
    {
     "cell_type": "markdown", 
     "source": [
      "<h2>Neuron parameters</h2>", 
      "From Yamazaki and Nagao, 2012"
     ]
    }, 
    {
     "cell_type": "code", 
     "collapsed": true, 
     "input": [
      "class GO:", 
      "    Vth = -35 * mvolt", 
      "    Cm = 3.1 * pfarad", 
      "    gl = 0.42 * nsiemens", 
      "    El = -58 * mvolt", 
      "    g_ampa = 0.18 * nsiemens", 
      "    g_nmda = 0.025 * nsiemens", 
      "    Eex = 0. * mvolt", 
      "    g_inh = 0.028 * nsiemens", 
      "    Einh = -82. * mvolt", 
      "    gahp = 1. * nsiemens", 
      "    Eahp = -82. * mvolt", 
      "    tau_ahp = 5. * msecond"
     ], 
     "language": "python", 
     "outputs": [], 
     "prompt_number": 2
    }, 
    {
     "cell_type": "code", 
     "collapsed": false, 
     "input": [
      "class GR(object):", 
      "    Vth = -35 * mvolt", 
      "    Cm = 3.1 * pfarad", 
      "    gl = 0.42 * nsiemens", 
      "    El = -58 * mvolt", 
      "    g_ampa_ = 0.18 * nsiemens", 
      "    tau_ampa = 1.2 * msecond", 
      "    g_nmda_ = 0.025 * nsiemens", 
      "    tau_nmda = 52. * msecond", 
      "    Eex = 0. * mvolt", 
      "    g_inh_ = 0.028 * nsiemens", 
      "    tau_inh1 = 7. * msecond", 
      "    tau_inh2 = 59. * msecond", 
      "    tau_gaba = 1 * msecond", 
      "    Einh = -82. * mvolt", 
      "    gahp_ = 1. * nsiemens", 
      "    Eahp = -82. * mvolt", 
      "    tau_ahp = 5. * msecond", 
      "    eqns = Equations('''", 
      "    dV/dt = 1/Cm*(-gl*(V-El)-g_ampa*(V-Eex)-g_nmda*(V-Eex)-g_inh*(V-Einh)-gahp*(V-Eahp)) : mV", 
      "    dgahp/dt = -gahp/tau_ahp : nS", 
      "    dg_ampa/dt = -g_ampa/tau_ampa : nS", 
      "    dg_nmda/dt = -g_nmda/tau_nmda : nS", 
      "    dg_gaba/dt = -g_gaba/tau_gaba : nS", 
      "    dg_inh1/dt = -g_inh1/tau_inh1 + g_gaba/tau_gaba: nS", 
      "    dg_inh2/dt = -g_inh2/tau_inh2 + g_gaba/tau_gaba: nS", 
      "    g_inh = .43 * g_inh1 + .57 * g_inh2 : nS", 
      "    ''')", 
      "G_GR = NeuronGroup(N=1,model=GR.eqns,threshold=GR.Vth,reset='V=GR.El;gahp=GR.gahp_')"
     ], 
     "language": "python", 
     "outputs": [], 
     "prompt_number": 3
    }, 
    {
     "cell_type": "code", 
     "collapsed": false, 
     "input": [
      "spiketimes = [(0, 1 * ms), (0, 10 * ms),", 
      "              (1, 40 * ms),", 
      "              (0, 50 * ms), (0, 52 * ms)]", 
      "", 
      "G1 = SpikeGeneratorGroup(2, spiketimes)", 
      "C1 = Connection(G1, G_GR, 'g_ampa')", 
      "C2 = Connection(G1, G_GR, 'g_gaba')", 
      "C1[0, 0] = GR.g_ampa_", 
      "C2[1, 0] = GR.g_inh_"
     ], 
     "language": "python", 
     "outputs": [], 
     "prompt_number": 4
    }, 
    {
     "cell_type": "code", 
     "collapsed": false, 
     "input": [
      "MV = StateMonitor(G_GR, 'V', record=0)", 
      "Mahp = StateMonitor(G_GR, 'gahp', record=0)", 
      "Mampa = StateMonitor(G_GR,'g_ampa',record=0)", 
      "Minh = StateMonitor(G_GR,'g_inh',record=0)"
     ], 
     "language": "python", 
     "outputs": [], 
     "prompt_number": 5
    }, 
    {
     "cell_type": "code", 
     "collapsed": true, 
     "input": [
      "defaultclock.dt=.5*ms"
     ], 
     "language": "python", 
     "outputs": [], 
     "prompt_number": 6
    }, 
    {
     "cell_type": "code", 
     "collapsed": false, 
     "input": [
      "run(100 * ms)"
     ], 
     "language": "python", 
     "outputs": [], 
     "prompt_number": 7
    }, 
    {
     "cell_type": "code", 
     "collapsed": false, 
     "input": [
      "figure(1)", 
      "subplot(2,2,1)", 
      "plot(MV.times,MV[0])", 
      "subplot(2,2,2)", 
      "plot(Mahp.times,Mahp[0])", 
      "subplot(2,2,3)", 
      "plot(Mampa.times,Mampa[0])", 
      "subplot(2,2,4)", 
      "plot(Minh.times,Minh[0])"
     ], 
     "language": "python", 
     "outputs": [
      {
       "output_type": "pyout", 
       "prompt_number": 8, 
       "text": [
        "[<matplotlib.lines.Line2D at 0x5302210>]"
       ]
      }
     ], 
     "prompt_number": 8
    }, 
    {
     "cell_type": "code", 
     "collapsed": false, 
     "input": [
      "Mampa.times.shape"
     ], 
     "language": "python", 
     "outputs": [
      {
       "output_type": "pyout", 
       "prompt_number": 9, 
       "text": [
        "(200,)"
       ]
      }
     ], 
     "prompt_number": 9
    }, 
    {
     "cell_type": "code", 
     "collapsed": true, 
     "input": [], 
     "language": "python", 
     "outputs": []
    }
   ]
  }
 ]
}