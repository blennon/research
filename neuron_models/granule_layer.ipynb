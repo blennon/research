{
 "metadata": {
  "name": "granule_layer"
 },
 "nbformat": 3,
 "nbformat_minor": 0,
 "worksheets": [
  {
   "cells": [
    {
     "cell_type": "code",
     "collapsed": true,
     "input": [
      "%load_ext autoreload\n",
      "%autoreload 2\n",
      "from brian import *\n",
      "from granular_layer import *\n",
      "from plotting_util import *\n",
      "set_global_preferences(useweave=True, usenewpropagate=True, usecodegen=True, usecodegenweave=True)#, gcc_options=['-ffast-math', '-march=native'])\n",
      "defaultclock.dt = .5*ms"
     ],
     "language": "python",
     "metadata": {},
     "outputs": [],
     "prompt_number": 1
    },
    {
     "cell_type": "code",
     "collapsed": false,
     "input": [
      "N_GO = 32**2\n",
      "N_GR = N_GO * 5**2\n",
      "N_PG = N_GR"
     ],
     "language": "python",
     "metadata": {},
     "outputs": [],
     "prompt_number": 2
    },
    {
     "cell_type": "code",
     "collapsed": true,
     "input": [
      "GO = GolgiCellGroup(N_GO)\n",
      "GR = GranuleCellGroup(N_GR)\n",
      "PG = PoissonGroup(N_PG, lambda t: 15 * Hz + 30 * Hz * 0.5 * (1 + cos(2 * pi * t * .5 * Hz + pi)) )#if t > 7000*ms else 15*Hz)"
     ],
     "language": "python",
     "metadata": {},
     "outputs": [
      {
       "output_type": "stream",
       "stream": "stderr",
       "text": [
        "brian.stateupdater: WARNING  Using codegen CStateUpdater\n"
       ]
      },
      {
       "output_type": "stream",
       "stream": "stderr",
       "text": [
        "brian.stateupdater: WARNING  Using codegen CStateUpdater\n"
       ]
      }
     ],
     "prompt_number": 3
    },
    {
     "cell_type": "code",
     "collapsed": true,
     "input": [
      "#w_gr_go = .05/(49*(len(GR)/len(GO)))\n",
      "#w_go_gr = 10.\n",
      "#w_mf_gr = 10.\n",
      "w_gr_go = .2/(49*(len(GR)/len(GO)))\n",
      "w_go_gr = 10.\n",
      "w_mf_gr = 4.\n",
      "S_GO_GR = Synapses(GO,GR,model='w:1',pre='g_inh1+=GR.g_inh_*w_go_gr; g_inh2+=GR.g_inh_*w_go_gr')\n",
      "S_GR_GO = Synapses(GR,GO,model='w:1',pre='g_ampa+=GO.g_ampa_*w_gr_go;g_nmda1+=GO.g_ampa_*w_gr_go;g_nmda2+=GO.g_ampa_*w_gr_go')\n",
      "S_PG_GR = Synapses(PG,GR,model='w:1',pre='g_ampa+=GR.g_ampa_*w_mf_gr;g_nmda+=GR.g_ampa_*w_mf_gr')\n",
      "#S_GR_GO = Synapses(GR,GO,model='w:1',pre='g_ampa+=GO.g_ampa_*w_gr_go;g_nmda1+=GO.g_nmda_*w_gr_go;g_nmda2+=GO.g_nmda_*w_gr_go')\n",
      "#S_PG_GR = Synapses(PG,GR,model='w:1',pre='g_ampa+=GR.g_ampa_*w_mf_gr;g_nmda+=GR.g_nmda_*w_mf_gr')"
     ],
     "language": "python",
     "metadata": {},
     "outputs": [],
     "prompt_number": 4
    },
    {
     "cell_type": "code",
     "collapsed": true,
     "input": [
      "S_PG_GR.connect_one_to_one()\n",
      "for src,trg in gr_to_go_connections(len(GO),len(GR)):\n",
      "    S_GR_GO[src,trg] = 1.\n",
      "for src,trg in go_to_gr_connections(len(GO),len(GR)):\n",
      "    S_GO_GR[src,trg] = 1."
     ],
     "language": "python",
     "metadata": {},
     "outputs": [],
     "prompt_number": 5
    },
    {
     "cell_type": "code",
     "collapsed": true,
     "input": [
      "MS_PG = SpikeMonitor(PG)\n",
      "MS_GR = SpikeMonitor(GR)\n",
      "MS_GO = SpikeMonitor(GO)"
     ],
     "language": "python",
     "metadata": {},
     "outputs": [],
     "prompt_number": 6
    },
    {
     "cell_type": "code",
     "collapsed": false,
     "input": [
      "reinit(); run(2*second)"
     ],
     "language": "python",
     "metadata": {},
     "outputs": [
      {
       "output_type": "stream",
       "stream": "stderr",
       "text": [
        "brian.experimental.codegen.stateupdaters: WARNING  C compilation failed, falling back on Python.\n"
       ]
      }
     ],
     "prompt_number": 7
    },
    {
     "cell_type": "code",
     "collapsed": false,
     "input": [
      "close('all')\n",
      "fig1 = figure(1)\n",
      "ax = fig1.add_subplot(311)\n",
      "plot_raster_firingrate_overlay(MS_PG,range(0,N_GR,N_GR/N_GO),ax)\n",
      "title('Poisson Group Raster Plot')\n",
      "\n",
      "ax = fig1.add_subplot(312)\n",
      "plot_raster_firingrate_overlay(MS_GR,range(0,N_GR,N_GR/N_GO),ax)\n",
      "title('Granule Cells Raster Plot')\n",
      "\n",
      "ax = fig1.add_subplot(313)\n",
      "plot_raster_firingrate_overlay(MS_GO,range(0,N_GO),ax)\n",
      "title('Golgi Cells Raster Plot')"
     ],
     "language": "python",
     "metadata": {},
     "outputs": [
      {
       "output_type": "pyout",
       "prompt_number": 8,
       "text": [
        "<matplotlib.text.Text at 0x1f84ef50>"
       ]
      }
     ],
     "prompt_number": 8
    },
    {
     "cell_type": "code",
     "collapsed": false,
     "input": [
      "figure(2)\n",
      "hist([spikes.shape[0] for n,spikes in MS_GR.spiketimes.iteritems()],25)\n",
      "    "
     ],
     "language": "python",
     "metadata": {},
     "outputs": [
      {
       "output_type": "pyout",
       "prompt_number": 11,
       "text": [
        "(array([8022, 7209, 3787, 2186, 1287,  922,  547,  196,  103,   87,  130,\n",
        "        149,   95,   44,   33,   22,    5,    1,   12,   89,  215,  271,\n",
        "        140,   42,    6]),\n",
        " array([   1.  ,   12.08,   23.16,   34.24,   45.32,   56.4 ,   67.48,\n",
        "         78.56,   89.64,  100.72,  111.8 ,  122.88,  133.96,  145.04,\n",
        "        156.12,  167.2 ,  178.28,  189.36,  200.44,  211.52,  222.6 ,\n",
        "        233.68,  244.76,  255.84,  266.92,  278.  ]),\n",
        " <a list of 25 Patch objects>)"
       ]
      }
     ],
     "prompt_number": 11
    },
    {
     "cell_type": "code",
     "collapsed": false,
     "input": [
      "def percent_active_cells(monitor, bin_len):\n",
      "    n_active = zeros(monitor.source.clock.t/ms)\n",
      "    for i in range(n_active.shape[0]):\n",
      "        window = range(i-bin_len/2,i+bin_len/2)\n",
      "        for n,spikes in monitor.spiketimes.iteritems():\n",
      "            for t in (spikes/ms).astype(int):\n",
      "                if t in window:\n",
      "                    n_active[i] += 1\n",
      "                    break\n",
      "    return n_active/len(monitor.source)\n",
      "    \n",
      "    "
     ],
     "language": "python",
     "metadata": {},
     "outputs": [],
     "prompt_number": 12
    },
    {
     "cell_type": "code",
     "collapsed": false,
     "input": [
      "def percent_active_cells(monitor, bin_len):\n",
      "    active_bins = zeros(monitor.source.clock.t/ms)\n",
      "    for n,spikes in monitor.spiketimes.iteritems():\n",
      "        bins = zeros(monitor.source.clock.t/ms)\n",
      "        for t in (spikes/ms).astype(int):\n",
      "            bins[t-bin_len/2:t+bin_len/2] = 1\n",
      "        active_bins += bins\n",
      "    return active_bins/len(monitor.source)"
     ],
     "language": "python",
     "metadata": {},
     "outputs": [],
     "prompt_number": 23
    },
    {
     "cell_type": "code",
     "collapsed": false,
     "input": [
      "figure(2)\n",
      "plot(percent_active_cells(MS_GR,10))"
     ],
     "language": "python",
     "metadata": {},
     "outputs": [
      {
       "output_type": "pyout",
       "prompt_number": 28,
       "text": [
        "[<matplotlib.lines.Line2D at 0x605e3790>]"
       ]
      }
     ],
     "prompt_number": 28
    },
    {
     "cell_type": "code",
     "collapsed": false,
     "input": [],
     "language": "python",
     "metadata": {},
     "outputs": []
    }
   ],
   "metadata": {}
  }
 ]
}