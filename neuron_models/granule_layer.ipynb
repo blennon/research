{
 "metadata": {
  "name": "granule_layer"
 },
 "nbformat": 3,
 "nbformat_minor": 0,
 "worksheets": [
  {
   "cells": [
    {
     "cell_type": "code",
     "collapsed": true,
     "input": [
      "%load_ext autoreload\n",
      "%autoreload 2\n",
      "from brian import *\n",
      "from granular_layer import *\n",
      "from plotting_util import *\n",
      "set_global_preferences(useweave=True, usenewpropagate=True, usecodegen=True, usecodegenweave=True)\n",
      "defaultclock.dt = .5*ms"
     ],
     "language": "python",
     "metadata": {},
     "outputs": [],
     "prompt_number": 1
    },
    {
     "cell_type": "code",
     "collapsed": false,
     "input": [
      "N_GO = 32**2\n",
      "N_GR = N_GO * 5**2\n",
      "N_PG = N_GR"
     ],
     "language": "python",
     "metadata": {},
     "outputs": [],
     "prompt_number": 2
    },
    {
     "cell_type": "code",
     "collapsed": true,
     "input": [
      "GO = GolgiCellGroup(N_GO)\n",
      "GR = GranuleCellGroup(N_GR)\n",
      "PG = PoissonGroup(N_PG, lambda t: 15 * Hz + 30 * Hz * 0.5 * (1 + cos(2 * pi * t * .5 * Hz)) if t > 1000*ms else 15*Hz)"
     ],
     "language": "python",
     "metadata": {},
     "outputs": [
      {
       "output_type": "stream",
       "stream": "stderr",
       "text": [
        "brian.stateupdater: WARNING  Using codegen CStateUpdater\n"
       ]
      },
      {
       "output_type": "stream",
       "stream": "stderr",
       "text": [
        "brian.stateupdater: WARNING  Using codegen CStateUpdater\n"
       ]
      }
     ],
     "prompt_number": 3
    },
    {
     "cell_type": "code",
     "collapsed": true,
     "input": [
      "w_gr_go = .2/(49*(len(GR)/len(GO)))\n",
      "w_go_gr = 20.\n",
      "w_mf_gr = 4.\n",
      "S_GO_GR = Synapses(GO,GR,model='w:1',pre='g_inh1+=GR.g_inh_*w_go_gr; g_inh2+=GR.g_inh_*w_go_gr')\n",
      "S_GR_GO = Synapses(GR,GO,model='w:1',pre='g_ampa+=GO.g_ampa_*w_gr_go;g_nmda1+=GO.g_ampa_*w_gr_go;g_nmda2+=GO.g_ampa_*w_gr_go')\n",
      "S_PG_GR = Synapses(PG,GR,model='w:1',pre='g_ampa+=GR.g_ampa_*w_mf_gr;g_nmda+=GR.g_ampa_*w_mf_gr')"
     ],
     "language": "python",
     "metadata": {},
     "outputs": [],
     "prompt_number": 4
    },
    {
     "cell_type": "code",
     "collapsed": true,
     "input": [
      "S_PG_GR.connect_one_to_one()\n",
      "for src,trg in gr_to_go_connections(len(GO),len(GR)):\n",
      "    S_GR_GO[src,trg] = 1.\n",
      "for src,trg in go_to_gr_connections(len(GO),len(GR)):\n",
      "    S_GO_GR[src,trg] = 1."
     ],
     "language": "python",
     "metadata": {},
     "outputs": [],
     "prompt_number": 5
    },
    {
     "cell_type": "code",
     "collapsed": true,
     "input": [
      "MS_PG = SpikeMonitor(PG)\n",
      "MS_GR = SpikeMonitor(GR)\n",
      "MS_GO = SpikeMonitor(GO)\n",
      "#M_GO_V = StateMonitor(GO,'V',record=range(100))\n",
      "#M_GO_ahp = StateMonitor(GO,'gahp',record=range(100))\n",
      "#M_GO_ampa = StateMonitor(GO,'g_ampa',record=range(100))\n",
      "#M_GO_nmda = StateMonitor(GO,'g_nmda',record=range(100))"
     ],
     "language": "python",
     "metadata": {},
     "outputs": [],
     "prompt_number": 6
    },
    {
     "cell_type": "code",
     "collapsed": false,
     "input": [
      "run(3*second)"
     ],
     "language": "python",
     "metadata": {},
     "outputs": [
      {
       "output_type": "stream",
       "stream": "stderr",
       "text": [
        "brian.experimental.codegen.stateupdaters: WARNING  C compilation failed, falling back on Python.\n"
       ]
      },
      {
       "output_type": "stream",
       "stream": "stderr",
       "text": [
        "brian.experimental.codegen.stateupdaters: WARNING  C compilation failed, falling back on Python.\n"
       ]
      }
     ],
     "prompt_number": 7
    },
    {
     "cell_type": "code",
     "collapsed": false,
     "input": [
      "close('all')\n",
      "fig1 = figure(1)\n",
      "ax = fig1.add_subplot(311)\n",
      "plot_raster_firingrate_overlay(MS_PG,range(0,N_GR,N_GR/N_GO),ax)\n",
      "title('Poisson Group Raster Plot')\n",
      "\n",
      "ax = fig1.add_subplot(312)\n",
      "plot_raster_firingrate_overlay(MS_GR,range(0,N_GR,N_GR/N_GO),ax)\n",
      "title('Granule Cells Raster Plot')\n",
      "\n",
      "ax = fig1.add_subplot(313)\n",
      "plot_raster_firingrate_overlay(MS_GO,range(0,N_GO),ax)\n",
      "title('Golgi Cells Raster Plot')"
     ],
     "language": "python",
     "metadata": {},
     "outputs": [
      {
       "output_type": "pyout",
       "prompt_number": 9,
       "text": [
        "<matplotlib.text.Text at 0x2433d4d0>"
       ]
      }
     ],
     "prompt_number": 9
    },
    {
     "cell_type": "code",
     "collapsed": false,
     "input": [
      "figure(2)\n",
      "for n,s in MS_GO.getspiketimes().iteritems():\n",
      "    if len(s) > 0: \n",
      "        i = n\n",
      "        break\n",
      "    if n > 100 : \n",
      "        i = 0\n",
      "        break\n",
      "subplot(411)\n",
      "plot(M_GO_V.times / ms, M_GO_V[i] / mV)\n",
      "subplot(412)\n",
      "plot(M_GO_ampa.times / ms, M_GO_ampa[i] / nS)\n",
      "subplot(413)\n",
      "plot(M_GO_nmda.times / ms, M_GO_nmda[i] / nS)\n",
      "subplot(414)\n",
      "plot(M_GO_ahp.times / ms, M_GO_ahp[i] / nS)"
     ],
     "language": "python",
     "metadata": {},
     "outputs": [
      {
       "output_type": "pyout",
       "prompt_number": 9,
       "text": [
        "[<matplotlib.lines.Line2D at 0x2b2ad050>]"
       ]
      }
     ],
     "prompt_number": 9
    },
    {
     "cell_type": "code",
     "collapsed": false,
     "input": [
      "no_spikes = []\n",
      "num_spikes = 0\n",
      "for n,s in MS_GO.getspiketimes().iteritems():\n",
      "    num_spikes += s.shape[0]\n",
      "    if len(s) == 0: no_spikes.append(n)\n",
      "print num_spikes/(32**2 - len(no_spikes))"
     ],
     "language": "python",
     "metadata": {},
     "outputs": [
      {
       "ename": "ZeroDivisionError",
       "evalue": "integer division or modulo by zero",
       "output_type": "pyerr",
       "traceback": [
        "\u001b[1;31m---------------------------------------------------------------------------\u001b[0m\n\u001b[1;31mZeroDivisionError\u001b[0m                         Traceback (most recent call last)",
        "\u001b[1;32m<ipython-input-7-7c911114f1f0>\u001b[0m in \u001b[0;36m<module>\u001b[1;34m()\u001b[0m\n\u001b[0;32m      4\u001b[0m     \u001b[0mnum_spikes\u001b[0m \u001b[1;33m+=\u001b[0m \u001b[0ms\u001b[0m\u001b[1;33m.\u001b[0m\u001b[0mshape\u001b[0m\u001b[1;33m[\u001b[0m\u001b[1;36m0\u001b[0m\u001b[1;33m]\u001b[0m\u001b[1;33m\u001b[0m\u001b[0m\n\u001b[0;32m      5\u001b[0m     \u001b[1;32mif\u001b[0m \u001b[0mlen\u001b[0m\u001b[1;33m(\u001b[0m\u001b[0ms\u001b[0m\u001b[1;33m)\u001b[0m \u001b[1;33m==\u001b[0m \u001b[1;36m0\u001b[0m\u001b[1;33m:\u001b[0m \u001b[0mno_spikes\u001b[0m\u001b[1;33m.\u001b[0m\u001b[0mappend\u001b[0m\u001b[1;33m(\u001b[0m\u001b[0mn\u001b[0m\u001b[1;33m)\u001b[0m\u001b[1;33m\u001b[0m\u001b[0m\n\u001b[1;32m----> 6\u001b[1;33m \u001b[1;32mprint\u001b[0m \u001b[0mnum_spikes\u001b[0m\u001b[1;33m/\u001b[0m\u001b[1;33m(\u001b[0m\u001b[1;36m32\u001b[0m\u001b[1;33m**\u001b[0m\u001b[1;36m2\u001b[0m \u001b[1;33m-\u001b[0m \u001b[0mlen\u001b[0m\u001b[1;33m(\u001b[0m\u001b[0mno_spikes\u001b[0m\u001b[1;33m)\u001b[0m\u001b[1;33m)\u001b[0m\u001b[1;33m\u001b[0m\u001b[0m\n\u001b[0m",
        "\u001b[1;31mZeroDivisionError\u001b[0m: integer division or modulo by zero"
       ]
      }
     ],
     "prompt_number": 7
    },
    {
     "cell_type": "code",
     "collapsed": false,
     "input": [
      "figure(2)\n",
      "hist([spikes.shape[0] for n,spikes in MS_GR.spiketimes.iteritems()],25)\n",
      "    "
     ],
     "language": "python",
     "metadata": {},
     "outputs": []
    },
    {
     "cell_type": "code",
     "collapsed": false,
     "input": [
      "def percent_active_cells(monitor, bin_len):\n",
      "    n_active = zeros(monitor.source.clock.t/ms)\n",
      "    for i in range(n_active.shape[0]):\n",
      "        window = range(i-bin_len/2,i+bin_len/2)\n",
      "        for n,spikes in monitor.spiketimes.iteritems():\n",
      "            for t in (spikes/ms).astype(int):\n",
      "                if t in window:\n",
      "                    n_active[i] += 1\n",
      "                    break\n",
      "    return n_active/len(monitor.source)\n",
      "    \n",
      "    "
     ],
     "language": "python",
     "metadata": {},
     "outputs": []
    },
    {
     "cell_type": "code",
     "collapsed": false,
     "input": [
      "def percent_active_cells(monitor, bin_len):\n",
      "    active_bins = zeros(monitor.source.clock.t/ms)\n",
      "    for n,spikes in monitor.spiketimes.iteritems():\n",
      "        bins = zeros(monitor.source.clock.t/ms)\n",
      "        for t in (spikes/ms).astype(int):\n",
      "            bins[t-bin_len/2:t+bin_len/2] = 1\n",
      "        active_bins += bins\n",
      "    return active_bins/len(monitor.source)"
     ],
     "language": "python",
     "metadata": {},
     "outputs": []
    },
    {
     "cell_type": "code",
     "collapsed": false,
     "input": [
      "figure(2)\n",
      "plot(percent_active_cells(MS_GR,10))"
     ],
     "language": "python",
     "metadata": {},
     "outputs": []
    },
    {
     "cell_type": "code",
     "collapsed": false,
     "input": [],
     "language": "python",
     "metadata": {},
     "outputs": []
    }
   ],
   "metadata": {}
  }
 ]
}