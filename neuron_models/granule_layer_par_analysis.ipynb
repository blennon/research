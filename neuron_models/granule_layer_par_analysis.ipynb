{
 "metadata": {
  "name": "granule_layer_par_analysis"
 },
 "nbformat": 3,
 "nbformat_minor": 0,
 "worksheets": [
  {
   "cells": [
    {
     "cell_type": "code",
     "collapsed": false,
     "input": [
      "import cPickle"
     ],
     "language": "python",
     "metadata": {},
     "outputs": [],
     "prompt_number": 1
    },
    {
     "cell_type": "code",
     "collapsed": false,
     "input": [
      "def plot_raster_across_trials_for(neuron_ind, trials_spikes, **plotoptions):\n",
      "    neuron_spiketimes, trial_indices = [],[]\n",
      "    i = 0\n",
      "    for trial in trials_spikes:\n",
      "        neuron_spiketimes.append(trial[neuron_ind])\n",
      "        trial_indices.append(i*ones_like(trial[neuron_ind]))\n",
      "        i += 1\n",
      "    neuron_spiketimes = (hstack(neuron_spiketimes)*1000).astype(int)\n",
      "    plot(neuron_spiketimes,hstack(trial_indices),'.',mew=0,**plotoptions)        \n",
      "        "
     ],
     "language": "python",
     "metadata": {},
     "outputs": [],
     "prompt_number": 2
    },
    {
     "cell_type": "code",
     "collapsed": false,
     "input": [
      "results = cPickle.load(open('./experiments/granule_layer_par6_24runs_10s_040713'))\n",
      "#GR_trials = [trial[1] for trial in results] "
     ],
     "language": "python",
     "metadata": {},
     "outputs": [],
     "prompt_number": 3
    },
    {
     "cell_type": "code",
     "collapsed": false,
     "input": [
      "close('all')\n",
      "fig = figure(1)\n",
      "inds = arange(75,90)*100\n",
      "for i in range(len(inds)):\n",
      "    fig.add_subplot(len(inds),1,i+1)\n",
      "    plot_raster_across_trials_for(inds[i],results)\n",
      "    xlim([7000,10000])"
     ],
     "language": "python",
     "metadata": {},
     "outputs": [],
     "prompt_number": 23
    },
    {
     "cell_type": "code",
     "collapsed": false,
     "input": [
      "for t in GR_trials: print t[0][10]"
     ],
     "language": "python",
     "metadata": {},
     "outputs": [
      {
       "output_type": "stream",
       "stream": "stdout",
       "text": [
        "0.5805\n",
        "0.3575\n",
        "0.4245\n",
        "0.317\n"
       ]
      }
     ],
     "prompt_number": 6
    },
    {
     "cell_type": "code",
     "collapsed": false,
     "input": [
      "x = arange(10)"
     ],
     "language": "python",
     "metadata": {},
     "outputs": [],
     "prompt_number": 23
    },
    {
     "cell_type": "code",
     "collapsed": false,
     "input": [
      "x"
     ],
     "language": "python",
     "metadata": {},
     "outputs": [
      {
       "output_type": "pyout",
       "prompt_number": 24,
       "text": [
        "array([0, 1, 2, 3, 4, 5, 6, 7, 8, 9])"
       ]
      }
     ],
     "prompt_number": 24
    },
    {
     "cell_type": "code",
     "collapsed": false,
     "input": [
      "x[arange(-1,2)]"
     ],
     "language": "python",
     "metadata": {},
     "outputs": [
      {
       "output_type": "pyout",
       "prompt_number": 28,
       "text": [
        "array([9, 0, 1])"
       ]
      }
     ],
     "prompt_number": 28
    },
    {
     "cell_type": "code",
     "collapsed": false,
     "input": [
      "from granular_layer import *\n",
      "cxns = gr_to_go_connections(N_go = 5**2, N_gr = 5**2 * 10**2,dist=1,p=1.,wrap=True)"
     ],
     "language": "python",
     "metadata": {},
     "outputs": [],
     "prompt_number": 1
    },
    {
     "cell_type": "code",
     "collapsed": false,
     "input": [
      "x = arange(16).reshape((4,4))"
     ],
     "language": "python",
     "metadata": {},
     "outputs": [],
     "prompt_number": 35
    },
    {
     "cell_type": "code",
     "collapsed": false,
     "input": [
      "x"
     ],
     "language": "python",
     "metadata": {},
     "outputs": [
      {
       "output_type": "pyout",
       "prompt_number": 36,
       "text": [
        "array([[ 0,  1,  2,  3],\n",
        "       [ 4,  5,  6,  7],\n",
        "       [ 8,  9, 10, 11],\n",
        "       [12, 13, 14, 15]])"
       ]
      }
     ],
     "prompt_number": 36
    },
    {
     "cell_type": "code",
     "collapsed": false,
     "input": [
      "x[arange(-1,2),arange(-1,2)]"
     ],
     "language": "python",
     "metadata": {},
     "outputs": [
      {
       "output_type": "pyout",
       "prompt_number": 37,
       "text": [
        "array([15,  0,  5])"
       ]
      }
     ],
     "prompt_number": 37
    },
    {
     "cell_type": "code",
     "collapsed": false,
     "input": [
      "x[-1:2,-1:2]"
     ],
     "language": "python",
     "metadata": {},
     "outputs": [
      {
       "output_type": "pyout",
       "prompt_number": 38,
       "text": [
        "array([], shape=(0, 0), dtype=int64)"
       ]
      }
     ],
     "prompt_number": 38
    },
    {
     "cell_type": "code",
     "collapsed": false,
     "input": [
      "inds = cartesian((arange(-1,2)%4,arange(-1,2)%4))\n",
      "x[inds[:,0],inds[:,1]].reshape(3,3)"
     ],
     "language": "python",
     "metadata": {},
     "outputs": [
      {
       "output_type": "pyout",
       "prompt_number": 69,
       "text": [
        "array([[15, 12, 13],\n",
        "       [ 3,  0,  1],\n",
        "       [ 7,  4,  5]])"
       ]
      }
     ],
     "prompt_number": 69
    },
    {
     "cell_type": "code",
     "collapsed": false,
     "input": [
      "-1%5"
     ],
     "language": "python",
     "metadata": {},
     "outputs": [
      {
       "output_type": "pyout",
       "prompt_number": 67,
       "text": [
        "4"
       ]
      }
     ],
     "prompt_number": 67
    },
    {
     "cell_type": "code",
     "collapsed": false,
     "input": [
      "import numpy as np\n",
      "\n",
      "def cartesian(arrays, out=None):\n",
      "    \"\"\"\n",
      "    Generate a cartesian product of input arrays.\n",
      "\n",
      "    Parameters\n",
      "    ----------\n",
      "    arrays : list of array-like\n",
      "        1-D arrays to form the cartesian product of.\n",
      "    out : ndarray\n",
      "        Array to place the cartesian product in.\n",
      "\n",
      "    Returns\n",
      "    -------\n",
      "    out : ndarray\n",
      "        2-D array of shape (M, len(arrays)) containing cartesian products\n",
      "        formed of input arrays.\n",
      "\n",
      "    Examples\n",
      "    --------\n",
      "    >>> cartesian(([1, 2, 3], [4, 5], [6, 7]))\n",
      "    array([[1, 4, 6],\n",
      "           [1, 4, 7],\n",
      "           [1, 5, 6],\n",
      "           [1, 5, 7],\n",
      "           [2, 4, 6],\n",
      "           [2, 4, 7],\n",
      "           [2, 5, 6],\n",
      "           [2, 5, 7],\n",
      "           [3, 4, 6],\n",
      "           [3, 4, 7],\n",
      "           [3, 5, 6],\n",
      "           [3, 5, 7]])\n",
      "\n",
      "    \"\"\"\n",
      "\n",
      "    arrays = [np.asarray(x) for x in arrays]\n",
      "    dtype = arrays[0].dtype\n",
      "\n",
      "    n = np.prod([x.size for x in arrays])\n",
      "    if out is None:\n",
      "        out = np.zeros([n, len(arrays)], dtype=dtype)\n",
      "\n",
      "    m = n / arrays[0].size\n",
      "    out[:,0] = np.repeat(arrays[0], m)\n",
      "    if arrays[1:]:\n",
      "        cartesian(arrays[1:], out=out[0:m,1:])\n",
      "        for j in xrange(1, arrays[0].size):\n",
      "            out[j*m:(j+1)*m,1:] = out[0:m,1:]\n",
      "    return out"
     ],
     "language": "python",
     "metadata": {},
     "outputs": [],
     "prompt_number": 43
    },
    {
     "cell_type": "code",
     "collapsed": false,
     "input": [],
     "language": "python",
     "metadata": {},
     "outputs": []
    }
   ],
   "metadata": {}
  }
 ]
}