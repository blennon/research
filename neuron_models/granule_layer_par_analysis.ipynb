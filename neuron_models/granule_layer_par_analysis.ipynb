{
 "metadata": {
  "name": "granule_layer_par_analysis"
 },
 "nbformat": 3,
 "nbformat_minor": 0,
 "worksheets": [
  {
   "cells": [
    {
     "cell_type": "code",
     "collapsed": false,
     "input": [
      "import cPickle"
     ],
     "language": "python",
     "metadata": {},
     "outputs": [],
     "prompt_number": 1
    },
    {
     "cell_type": "code",
     "collapsed": false,
     "input": [
      "def plot_raster_across_trials_for(neuron_ind, trials_spikes, ax=None, **plotoptions):\n",
      "    neuron_spiketimes, trial_indices = [],[]\n",
      "    i = 0\n",
      "    for trial in trials_spikes:\n",
      "        neuron_spiketimes.append(trial[neuron_ind])\n",
      "        trial_indices.append(i*ones_like(trial[neuron_ind]))\n",
      "        i += 1\n",
      "    neuron_spiketimes = (hstack(neuron_spiketimes)*1000).astype(int)\n",
      "    if ax is None:\n",
      "        plot(neuron_spiketimes,hstack(trial_indices),'.',mew=0,**plotoptions)\n",
      "    else:\n",
      "        ax.plot(neuron_spiketimes,hstack(trial_indices),'.',mew=0,**plotoptions)\n",
      "        ax.set_ylabel('Trial number')\n",
      "        \n",
      "def plot_raster_across_trials_with_firing_rate(neuron_ind, trials_spikes, ax1, time_bins):\n",
      "    plot_raster_across_trials_for(neuron_ind,trials_spikes, ax=ax1, alpha=.4)\n",
      "    ax2 = ax1.twinx()\n",
      "    ax2.plot(compute_firing_rate_across_trials_for(neuron_ind, trials_spikes, time_bins),'k')\n",
      "    ax2.set_ylabel('Average firing rate (Hz)')\n",
      "\n",
      "def compute_firing_rate_across_trials_for(neuron_ind, trials_spikes, time_bins, **plotoptions):\n",
      "    spike_bins = zeros(time_bins)\n",
      "    for trial in trials_spikes:\n",
      "        spike_bins[(trial[neuron_ind]*1000).astype(int)] += 1\n",
      "    spike_bins /= len(trials_spikes)\n",
      "    spike_bins_ = pad(spike_bins,(99,99),'constant',constant_values=(mean(spike_bins[:100]),mean(spike_bins[-100:])))\n",
      "    return convolve(spike_bins_,10.*ones(100),'same')[99:-99]\n",
      "    "
     ],
     "language": "python",
     "metadata": {},
     "outputs": [],
     "prompt_number": 90
    },
    {
     "cell_type": "code",
     "collapsed": false,
     "input": [
      "data_dir = '/home/bill/research/data/neuron_models/granule_layer/'\n",
      "results = cPickle.load(open(data_dir + 'granule_layer_par_100runs_3s_041113'))\n",
      "#GR_trials = [trial[1] for trial in results] "
     ],
     "language": "python",
     "metadata": {},
     "outputs": [],
     "prompt_number": 3
    },
    {
     "cell_type": "code",
     "collapsed": false,
     "input": [
      "close('all')\n",
      "fig = figure(1)\n",
      "inds = [5225,2300,8950,4700,13300] #random_integers(0,1024,24)*25 #\n",
      "for i in range(len(inds)):\n",
      "    ax = fig.add_subplot(len(inds),1,i+1)\n",
      "    #plot_raster_across_trials_for(inds[i],results)\n",
      "    plot_raster_across_trials_with_firing_rate(inds[i],results,ax, 3000)\n",
      "    title('Neuron %s' % inds[i])\n",
      "suptitle('Granule Cell Dynamics', fontsize=14, fontweight='bold')\n",
      "\n",
      "fig.tight_layout()\n",
      "subplots_adjust(top=.9)"
     ],
     "language": "python",
     "metadata": {},
     "outputs": [],
     "prompt_number": 102
    },
    {
     "cell_type": "code",
     "collapsed": false,
     "input": [
      "plot(compute_firing_rate_across_trials_for(0,results,3000))"
     ],
     "language": "python",
     "metadata": {},
     "outputs": [
      {
       "output_type": "pyout",
       "prompt_number": 76,
       "text": [
        "[<matplotlib.lines.Line2D at 0x149044d0>]"
       ]
      }
     ],
     "prompt_number": 76
    },
    {
     "cell_type": "code",
     "collapsed": false,
     "input": [],
     "language": "python",
     "metadata": {},
     "outputs": []
    }
   ],
   "metadata": {}
  }
 ]
}