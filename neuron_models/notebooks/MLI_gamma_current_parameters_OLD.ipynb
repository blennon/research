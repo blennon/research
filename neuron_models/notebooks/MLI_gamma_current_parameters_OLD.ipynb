{
 "metadata": {
  "name": "MLI_gamma_current_parameters_OLD"
 },
 "nbformat": 3,
 "nbformat_minor": 0,
 "worksheets": [
  {
   "cells": [
    {
     "cell_type": "markdown",
     "metadata": {},
     "source": [
      "<h1>MLI Current parameters tuning<h1>"
     ]
    },
    {
     "cell_type": "markdown",
     "metadata": {},
     "source": [
      "Goal: choose parameters for a random current injected into the MLI every time step such that the model exhibits ISI distribution statistics that match those described in Hausser and Clark (1997) in the presence of GABA blockers.\n",
      "\n",
      "* Hausser and Clark (1997) Figure 1F show that under control conditions, there is a distribution of mean firing rates among MLIs\n",
      "    * We refer to this as a 'prior distribution' and make no attempt to model it.  Instead we model the parameters for a single neuron -- the average neuron -- having mean firing rate described below.\n",
      "* Hausser and Clark (1997) report mean firing rates of 19.1 Hz (= 12.3 * 1.55) and CV of .24\n",
      "* Hausser and Clark (1997) Figure 3 shows an example ISI histogram of an MLI that is symmetric (Gaussian looking) with mean firing rate of 30 Hz, CV of .14.\n",
      "* We model random currents injected every time step drawn from a gamma distributions with parameters k,theta chosen to match either case (19.1 Hz/.24, 30Hz / .14).\n",
      "    * We choose parameters and generate a representative example for display at 30 Hz.\n",
      "    * We also choose parameters for the average neuron at 19.1 Hz\n",
      "* We use a grid search over a range of parameters of the probability distribution and measure their effect (mean firing rate and CV) of the neuron's ISI distribution.\n",
      "    * This grid search is performed in a separate python script to take advantage of parallel processing.\n",
      "    * The results are loaded in and analyzed using Pandas"
     ]
    },
    {
     "cell_type": "code",
     "collapsed": false,
     "input": [
      "%load_ext autoreload\n",
      "%autoreload 2\n",
      "import time\n",
      "import sys\n",
      "sys.path.append('../../')\n",
      "from brian import *\n",
      "from neuron_models import *\n",
      "from statsmodels.tsa.stattools import acf\n",
      "from pandas import *\n",
      "set_global_preferences(useweave=True, usenewpropagate=True, usecodegen=True, usecodegenweave=True)\n",
      "defaultclock.dt = .5*ms"
     ],
     "language": "python",
     "metadata": {},
     "outputs": [
      {
       "output_type": "stream",
       "stream": "stderr",
       "text": [
        "/home/bill/anaconda/lib/python2.7/site-packages/brian-1.4.0-py2.7.egg/brian/utils/sparse_patch/__init__.py:38: UserWarning: Couldn't find matching sparse matrix patch for scipy version 0.11.0, but in most cases this shouldn't be a problem.\n",
        "  warnings.warn(\"Couldn't find matching sparse matrix patch for scipy version %s, but in most cases this shouldn't be a problem.\" % scipy.__version__)\n"
       ]
      }
     ],
     "prompt_number": 1
    },
    {
     "cell_type": "markdown",
     "metadata": {},
     "source": [
      "<h2>Data analysis from current parameter sweep</h2>"
     ]
    },
    {
     "cell_type": "markdown",
     "metadata": {},
     "source": [
      "<h3>Case #1: mean = 30 Hz, CV = .14<h3>"
     ]
    },
    {
     "cell_type": "code",
     "collapsed": false,
     "input": [
      "with open('/home/bill/research/data/neuron_models/molecular_layer/mli_current_param_sweep/2013-10-15T12:11:36.996754/results.txt') as f:\n",
      "    results = read_csv(f,delimiter='\\t')\n",
      "target = array([30.,.14])\n",
      "results['error'] = ((results.ix[:,-2:] - target).abs()/target).sum(axis=1)\n",
      "results['mean'] = results.ix[:,0] * results.ix[:,1]\n",
      "results.sort(columns='error')[:5]"
     ],
     "language": "python",
     "metadata": {},
     "outputs": [
      {
       "html": [
        "<div style=\"max-height:1000px;max-width:1500px;overflow:auto;\">\n",
        "<table border=\"1\" class=\"dataframe\">\n",
        "  <thead>\n",
        "    <tr style=\"text-align: right;\">\n",
        "      <th></th>\n",
        "      <th>k</th>\n",
        "      <th>theta</th>\n",
        "      <th>mli_mean_firing_rate</th>\n",
        "      <th>mli_cv</th>\n",
        "      <th>error</th>\n",
        "      <th>mean</th>\n",
        "    </tr>\n",
        "  </thead>\n",
        "  <tbody>\n",
        "    <tr>\n",
        "      <th>4315</th>\n",
        "      <td>  8.394990</td>\n",
        "      <td> 0.003124</td>\n",
        "      <td> 29.666667</td>\n",
        "      <td> 0.139752</td>\n",
        "      <td> 0.012881</td>\n",
        "      <td> 0.026228</td>\n",
        "    </tr>\n",
        "    <tr>\n",
        "      <th>3901</th>\n",
        "      <td>  6.361122</td>\n",
        "      <td> 0.004132</td>\n",
        "      <td> 30.500000</td>\n",
        "      <td> 0.138811</td>\n",
        "      <td> 0.025156</td>\n",
        "      <td> 0.026286</td>\n",
        "    </tr>\n",
        "    <tr>\n",
        "      <th>4596</th>\n",
        "      <td> 10.109820</td>\n",
        "      <td> 0.002620</td>\n",
        "      <td> 30.000000</td>\n",
        "      <td> 0.135679</td>\n",
        "      <td> 0.030868</td>\n",
        "      <td> 0.026490</td>\n",
        "    </tr>\n",
        "    <tr>\n",
        "      <th>4322</th>\n",
        "      <td>  8.434870</td>\n",
        "      <td> 0.003124</td>\n",
        "      <td> 29.666667</td>\n",
        "      <td> 0.137079</td>\n",
        "      <td> 0.031978</td>\n",
        "      <td> 0.026353</td>\n",
        "    </tr>\n",
        "    <tr>\n",
        "      <th>4602</th>\n",
        "      <td> 10.149699</td>\n",
        "      <td> 0.002620</td>\n",
        "      <td> 30.000000</td>\n",
        "      <td> 0.135438</td>\n",
        "      <td> 0.032589</td>\n",
        "      <td> 0.026594</td>\n",
        "    </tr>\n",
        "  </tbody>\n",
        "</table>\n",
        "</div>"
       ],
       "output_type": "pyout",
       "prompt_number": 2,
       "text": [
        "              k     theta  mli_mean_firing_rate    mli_cv     error      mean\n",
        "4315   8.394990  0.003124             29.666667  0.139752  0.012881  0.026228\n",
        "3901   6.361122  0.004132             30.500000  0.138811  0.025156  0.026286\n",
        "4596  10.109820  0.002620             30.000000  0.135679  0.030868  0.026490\n",
        "4322   8.434870  0.003124             29.666667  0.137079  0.031978  0.026353\n",
        "4602  10.149699  0.002620             30.000000  0.135438  0.032589  0.026594"
       ]
      }
     ],
     "prompt_number": 2
    },
    {
     "cell_type": "markdown",
     "metadata": {},
     "source": [
      "<h3>Case #2: mean = 19.1 Hz, CV = .24<h3>"
     ]
    },
    {
     "cell_type": "code",
     "collapsed": false,
     "input": [
      "with open('/home/bill/research/data/neuron_models/molecular_layer/mli_current_param_sweep/2013-10-15T12:11:36.996754/results.txt') as f:\n",
      "    results = read_csv(f,delimiter='\\t')\n",
      "target = array([19.1,.24])\n",
      "results['error'] = ((results.ix[:,-2:] - target).abs()/target).sum(axis=1)\n",
      "results['mean'] = results.ix[:,0] * results.ix[:,1]\n",
      "results.sort(columns='error')[:5]"
     ],
     "language": "python",
     "metadata": {},
     "outputs": [
      {
       "html": [
        "<div style=\"max-height:1000px;max-width:1500px;overflow:auto;\">\n",
        "<table border=\"1\" class=\"dataframe\">\n",
        "  <thead>\n",
        "    <tr style=\"text-align: right;\">\n",
        "      <th></th>\n",
        "      <th>k</th>\n",
        "      <th>theta</th>\n",
        "      <th>mli_mean_firing_rate</th>\n",
        "      <th>mli_cv</th>\n",
        "      <th>error</th>\n",
        "      <th>mean</th>\n",
        "    </tr>\n",
        "  </thead>\n",
        "  <tbody>\n",
        "    <tr>\n",
        "      <th>4743</th>\n",
        "      <td> 11.106814</td>\n",
        "      <td> 0.002116</td>\n",
        "      <td> 19.166667</td>\n",
        "      <td> 0.247357</td>\n",
        "      <td> 0.034144</td>\n",
        "      <td> 0.023504</td>\n",
        "    </tr>\n",
        "    <tr>\n",
        "      <th>4748</th>\n",
        "      <td> 11.146693</td>\n",
        "      <td> 0.002116</td>\n",
        "      <td> 19.666667</td>\n",
        "      <td> 0.241452</td>\n",
        "      <td> 0.035720</td>\n",
        "      <td> 0.023588</td>\n",
        "    </tr>\n",
        "    <tr>\n",
        "      <th>5149</th>\n",
        "      <td> 14.735872</td>\n",
        "      <td> 0.001612</td>\n",
        "      <td> 19.666667</td>\n",
        "      <td> 0.248374</td>\n",
        "      <td> 0.064558</td>\n",
        "      <td> 0.023756</td>\n",
        "    </tr>\n",
        "    <tr>\n",
        "      <th>4753</th>\n",
        "      <td> 11.186573</td>\n",
        "      <td> 0.002116</td>\n",
        "      <td> 20.000000</td>\n",
        "      <td> 0.233616</td>\n",
        "      <td> 0.073721</td>\n",
        "      <td> 0.023673</td>\n",
        "    </tr>\n",
        "    <tr>\n",
        "      <th>4417</th>\n",
        "      <td>  9.033066</td>\n",
        "      <td> 0.002620</td>\n",
        "      <td> 20.500000</td>\n",
        "      <td> 0.237217</td>\n",
        "      <td> 0.084896</td>\n",
        "      <td> 0.023668</td>\n",
        "    </tr>\n",
        "  </tbody>\n",
        "</table>\n",
        "</div>"
       ],
       "output_type": "pyout",
       "prompt_number": 3,
       "text": [
        "              k     theta  mli_mean_firing_rate    mli_cv     error      mean\n",
        "4743  11.106814  0.002116             19.166667  0.247357  0.034144  0.023504\n",
        "4748  11.146693  0.002116             19.666667  0.241452  0.035720  0.023588\n",
        "5149  14.735872  0.001612             19.666667  0.248374  0.064558  0.023756\n",
        "4753  11.186573  0.002116             20.000000  0.233616  0.073721  0.023673\n",
        "4417   9.033066  0.002620             20.500000  0.237217  0.084896  0.023668"
       ]
      }
     ],
     "prompt_number": 3
    },
    {
     "cell_type": "markdown",
     "metadata": {},
     "source": [
      "<h2>Run network with parameters<h2>"
     ]
    },
    {
     "cell_type": "markdown",
     "metadata": {},
     "source": [
      "<h3>Case #1<h3>"
     ]
    },
    {
     "cell_type": "code",
     "collapsed": false,
     "input": [
      "T = 60000\n",
      "N_MLI = 1\n",
      "MLI = MLIGroup(N_MLI)\n",
      "k, theta = 8.4,0.00315\n",
      "\n",
      "# Plot current distribution\n",
      "_ = hist(gamma(k,theta,size=10000),30)\n",
      "print 'Mean:', k*theta, 'nA'"
     ],
     "language": "python",
     "metadata": {},
     "outputs": [
      {
       "output_type": "stream",
       "stream": "stderr",
       "text": [
        "brian.stateupdater: WARNING  Using codegen CStateUpdater\n"
       ]
      },
      {
       "output_type": "stream",
       "stream": "stdout",
       "text": [
        "Mean: 0.02646 nA\n"
       ]
      },
      {
       "output_type": "display_data",
       "png": "[encoded data removed]"
      }
     ],
     "prompt_number": 2
    },
    {
     "cell_type": "code",
     "collapsed": false,
     "input": [
      "@network_operation(Clock(dt=defaultclock.dt))\n",
      "def random_current():\n",
      "    MLI.I = gamma(k,theta,size=len(MLI)) * nA\n",
      "    \n",
      "# Monitor\n",
      "MS_MLI = SpikeMonitor(MLI)\n",
      "MR_MLI = PopulationRateMonitor(MLI,bin=1*ms)\n",
      "MISI_MLI = ISIHistogramMonitor(MLI,bins=arange(0,162,2)*ms)\n",
      "\n",
      "run(T*msecond)\n",
      "\n",
      "# Plot\n",
      "fig = figure(figsize=(10,5))\n",
      "ax = fig.add_subplot(111)\n",
      "plot_ISI_histogram(MISI_MLI, MS_MLI, MR_MLI, (20,0),(95,MISI_MLI.count.max()*.7))\n",
      "simpleaxis(ax)\n",
      "xlim([0,200])"
     ],
     "language": "python",
     "metadata": {},
     "outputs": [
      {
       "output_type": "pyout",
       "prompt_number": 3,
       "text": [
        "(0, 200)"
       ]
      },
      {
       "output_type": "display_data",
       "png": "[encoded data removed]"
      }
     ],
     "prompt_number": 3
    },
    {
     "cell_type": "markdown",
     "metadata": {},
     "source": [
      "<h3>Case #2<h3>"
     ]
    },
    {
     "cell_type": "code",
     "collapsed": false,
     "input": [
      "T = 60000\n",
      "N_MLI = 1\n",
      "MLI = MLIGroup(N_MLI)\n",
      "k, theta = 11.146693,0.002116\n",
      "\n",
      "# Plot current distribution\n",
      "_ = hist(gamma(k,theta,size=10000),30)\n",
      "print 'Mean:', k*theta, 'nA'"
     ],
     "language": "python",
     "metadata": {},
     "outputs": [
      {
       "output_type": "stream",
       "stream": "stderr",
       "text": [
        "brian.stateupdater: WARNING  Using codegen CStateUpdater\n"
       ]
      },
      {
       "output_type": "stream",
       "stream": "stdout",
       "text": [
        "Mean: 0.023586402388 nA\n"
       ]
      },
      {
       "output_type": "display_data",
       "png": "[encoded data removed]"
      }
     ],
     "prompt_number": 2
    },
    {
     "cell_type": "code",
     "collapsed": false,
     "input": [
      "@network_operation(Clock(dt=defaultclock.dt))\n",
      "def random_current():\n",
      "    MLI.I = gamma(k,theta,size=len(MLI)) * nA\n",
      "    \n",
      "# Monitor\n",
      "MS_MLI = SpikeMonitor(MLI)\n",
      "MR_MLI = PopulationRateMonitor(MLI,bin=1*ms)\n",
      "MISI_MLI = ISIHistogramMonitor(MLI,bins=arange(0,162,2)*ms)\n",
      "\n",
      "run(T*msecond)\n",
      "\n",
      "fig = figure(figsize=(10,5))\n",
      "ax = fig.add_subplot(111)\n",
      "plot_ISI_histogram(MISI_MLI, MS_MLI, MR_MLI, (20,0),(95,MISI_MLI.count.max()*.7))\n",
      "simpleaxis(ax)\n",
      "xlim([0,200])"
     ],
     "language": "python",
     "metadata": {},
     "outputs": [
      {
       "output_type": "pyout",
       "prompt_number": 3,
       "text": [
        "(0, 200)"
       ]
      },
      {
       "output_type": "display_data",
       "png": "[encoded data removed]"
      }
     ],
     "prompt_number": 3
    },
    {
     "cell_type": "code",
     "collapsed": false,
     "input": [],
     "language": "python",
     "metadata": {},
     "outputs": [],
     "prompt_number": 3
    }
   ],
   "metadata": {}
  }
 ]
}