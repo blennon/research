{
 "metadata": {
  "name": "MLI_to_PKJ_ISI_change_experiments"
 },
 "nbformat": 3,
 "nbformat_minor": 0,
 "worksheets": [
  {
   "cells": [
    {
     "cell_type": "markdown",
     "metadata": {},
     "source": [
      "<h1>MLI to PKJ IPSC effect on PKJ ISI</h1>\n",
      "\n",
      "Goal: the goal of this experiment is to reproduce the results of Figure 5 from Hausser and Clark (1997) where the effect of an IPSC from a presynaptic MLI increases the variance of the PKJ ISI"
     ]
    },
    {
     "cell_type": "code",
     "collapsed": false,
     "input": [
      "%load_ext autoreload\n",
      "%autoreload 2\n",
      "import time\n",
      "import sys\n",
      "sys.path.append('../../')\n",
      "from brian import *\n",
      "from neuron_models import *\n",
      "set_global_preferences(useweave=True, usenewpropagate=True, usecodegen=True, usecodegenweave=True)\n",
      "defaultclock.dt = .25*ms"
     ],
     "language": "python",
     "metadata": {},
     "outputs": [
      {
       "output_type": "stream",
       "stream": "stderr",
       "text": [
        "/home/bill/anaconda/lib/python2.7/site-packages/brian-1.4.0-py2.7.egg/brian/utils/sparse_patch/__init__.py:38: UserWarning: Couldn't find matching sparse matrix patch for scipy version 0.11.0, but in most cases this shouldn't be a problem.\n",
        "  warnings.warn(\"Couldn't find matching sparse matrix patch for scipy version %s, but in most cases this shouldn't be a problem.\" % scipy.__version__)\n"
       ]
      }
     ],
     "prompt_number": 1
    },
    {
     "cell_type": "code",
     "collapsed": false,
     "input": [
      "def run_trial(k,theta,T,g_inh_,spike_delay):\n",
      "    reinit()\n",
      "    reinit_default_clock()\n",
      "    clear(True)\n",
      "    \n",
      "    PKJ = PurkinjeCellGroup(1)\n",
      "    PKJ.V = PKJ.El\n",
      "    \n",
      "    spikes = SpikeMonitor(PKJ)\n",
      "    spikes.last_spike = None\n",
      "    V_monitor = StateMonitor(PKJ,'V',record=0)\n",
      "    ginh_monitor = StateMonitor(PKJ, 'g_inh', record=0)\n",
      "    \n",
      "    @network_operation(Clock(dt=defaultclock.dt))\n",
      "    def random_current():\n",
      "        PKJ.I = gamma(k,theta,size=len(PKJ)) * nA\n",
      "        \n",
      "    @network_operation(Clock(dt=defaultclock.dt))\n",
      "    def trigger_spike():\n",
      "        if spikes.spiketimes[0].shape[0] > 0:\n",
      "            spikes.last_spike = spikes.spiketimes[0][-1]*second\n",
      "        if spikes.last_spike is not None:\n",
      "            if abs(defaultclock.t - (spikes.last_spike + spike_delay)) < .000001*ms:\n",
      "                PKJ.g_inh = g_inh_\n",
      "        \n",
      "    run(T)\n",
      "\n",
      "    V_monitor.insert_spikes(spikes)\n",
      "    first_isi = diff(spikes.spiketimes[0])[0]\n",
      "    \n",
      "    return V_monitor, first_isi, spikes, ginh_monitor"
     ],
     "language": "python",
     "metadata": {},
     "outputs": [],
     "prompt_number": 2
    },
    {
     "cell_type": "code",
     "collapsed": false,
     "input": [
      "k, theta = 0.430303,0.195962\n",
      "\n",
      "V_monitors, spike_monitors, isis = [], [], []\n",
      "for trial in range(100):\n",
      "    V, isi, spike_monitor, ginh_monitor = run_trial(k,theta,.08*second,4*nS,12*ms)\n",
      "    V_monitors.append(V)\n",
      "    spike_monitors.append(spike_monitor)\n",
      "    isis.append(isi)"
     ],
     "language": "python",
     "metadata": {},
     "outputs": [
      {
       "output_type": "stream",
       "stream": "stderr",
       "text": [
        "brian.stateupdater: WARNING  Using codegen CStateUpdater\n"
       ]
      },
      {
       "output_type": "stream",
       "stream": "stderr",
       "text": [
        "brian.stateupdater: WARNING  Using codegen CStateUpdater\n"
       ]
      },
      {
       "output_type": "stream",
       "stream": "stderr",
       "text": [
        "brian.stateupdater: WARNING  Using codegen CStateUpdater\n"
       ]
      },
      {
       "output_type": "stream",
       "stream": "stderr",
       "text": [
        "brian.stateupdater: WARNING  Using codegen CStateUpdater\n"
       ]
      },
      {
       "output_type": "stream",
       "stream": "stderr",
       "text": [
        "brian.stateupdater: WARNING  Using codegen CStateUpdater\n"
       ]
      },
      {
       "output_type": "stream",
       "stream": "stderr",
       "text": [
        "brian.stateupdater: WARNING  Using codegen CStateUpdater\n"
       ]
      },
      {
       "output_type": "stream",
       "stream": "stderr",
       "text": [
        "brian.stateupdater: WARNING  Using codegen CStateUpdater\n"
       ]
      },
      {
       "output_type": "stream",
       "stream": "stderr",
       "text": [
        "brian.stateupdater: WARNING  Using codegen CStateUpdater\n"
       ]
      },
      {
       "output_type": "stream",
       "stream": "stderr",
       "text": [
        "brian.stateupdater: WARNING  Using codegen CStateUpdater\n"
       ]
      },
      {
       "output_type": "stream",
       "stream": "stderr",
       "text": [
        "brian.stateupdater: WARNING  Using codegen CStateUpdater\n"
       ]
      },
      {
       "output_type": "stream",
       "stream": "stderr",
       "text": [
        "brian.stateupdater: WARNING  Using codegen CStateUpdater\n"
       ]
      },
      {
       "output_type": "stream",
       "stream": "stderr",
       "text": [
        "brian.stateupdater: WARNING  Using codegen CStateUpdater\n"
       ]
      },
      {
       "output_type": "stream",
       "stream": "stderr",
       "text": [
        "brian.stateupdater: WARNING  Using codegen CStateUpdater\n"
       ]
      },
      {
       "output_type": "stream",
       "stream": "stderr",
       "text": [
        "brian.stateupdater: WARNING  Using codegen CStateUpdater\n"
       ]
      },
      {
       "output_type": "stream",
       "stream": "stderr",
       "text": [
        "brian.stateupdater: WARNING  Using codegen CStateUpdater\n"
       ]
      },
      {
       "output_type": "stream",
       "stream": "stderr",
       "text": [
        "brian.stateupdater: WARNING  Using codegen CStateUpdater\n"
       ]
      },
      {
       "output_type": "stream",
       "stream": "stderr",
       "text": [
        "brian.stateupdater: WARNING  Using codegen CStateUpdater\n"
       ]
      },
      {
       "output_type": "stream",
       "stream": "stderr",
       "text": [
        "brian.stateupdater: WARNING  Using codegen CStateUpdater\n"
       ]
      },
      {
       "output_type": "stream",
       "stream": "stderr",
       "text": [
        "brian.stateupdater: WARNING  Using codegen CStateUpdater\n"
       ]
      },
      {
       "output_type": "stream",
       "stream": "stderr",
       "text": [
        "brian.stateupdater: WARNING  Using codegen CStateUpdater\n"
       ]
      },
      {
       "output_type": "stream",
       "stream": "stderr",
       "text": [
        "brian.stateupdater: WARNING  Using codegen CStateUpdater\n"
       ]
      },
      {
       "output_type": "stream",
       "stream": "stderr",
       "text": [
        "brian.stateupdater: WARNING  Using codegen CStateUpdater\n"
       ]
      },
      {
       "output_type": "stream",
       "stream": "stderr",
       "text": [
        "brian.stateupdater: WARNING  Using codegen CStateUpdater\n"
       ]
      },
      {
       "output_type": "stream",
       "stream": "stderr",
       "text": [
        "brian.stateupdater: WARNING  Using codegen CStateUpdater\n"
       ]
      },
      {
       "output_type": "stream",
       "stream": "stderr",
       "text": [
        "brian.stateupdater: WARNING  Using codegen CStateUpdater\n"
       ]
      },
      {
       "output_type": "stream",
       "stream": "stderr",
       "text": [
        "brian.stateupdater: WARNING  Using codegen CStateUpdater\n"
       ]
      },
      {
       "output_type": "stream",
       "stream": "stderr",
       "text": [
        "brian.stateupdater: WARNING  Using codegen CStateUpdater\n"
       ]
      },
      {
       "output_type": "stream",
       "stream": "stderr",
       "text": [
        "brian.stateupdater: WARNING  Using codegen CStateUpdater\n"
       ]
      },
      {
       "output_type": "stream",
       "stream": "stderr",
       "text": [
        "brian.stateupdater: WARNING  Using codegen CStateUpdater\n"
       ]
      },
      {
       "output_type": "stream",
       "stream": "stderr",
       "text": [
        "brian.stateupdater: WARNING  Using codegen CStateUpdater\n"
       ]
      },
      {
       "output_type": "stream",
       "stream": "stderr",
       "text": [
        "brian.stateupdater: WARNING  Using codegen CStateUpdater\n"
       ]
      },
      {
       "output_type": "stream",
       "stream": "stderr",
       "text": [
        "brian.stateupdater: WARNING  Using codegen CStateUpdater\n"
       ]
      },
      {
       "output_type": "stream",
       "stream": "stderr",
       "text": [
        "brian.stateupdater: WARNING  Using codegen CStateUpdater\n"
       ]
      },
      {
       "output_type": "stream",
       "stream": "stderr",
       "text": [
        "brian.stateupdater: WARNING  Using codegen CStateUpdater\n"
       ]
      },
      {
       "output_type": "stream",
       "stream": "stderr",
       "text": [
        "brian.stateupdater: WARNING  Using codegen CStateUpdater\n"
       ]
      },
      {
       "output_type": "stream",
       "stream": "stderr",
       "text": [
        "brian.stateupdater: WARNING  Using codegen CStateUpdater\n"
       ]
      },
      {
       "output_type": "stream",
       "stream": "stderr",
       "text": [
        "brian.stateupdater: WARNING  Using codegen CStateUpdater\n"
       ]
      },
      {
       "output_type": "stream",
       "stream": "stderr",
       "text": [
        "brian.stateupdater: WARNING  Using codegen CStateUpdater\n"
       ]
      },
      {
       "output_type": "stream",
       "stream": "stderr",
       "text": [
        "brian.stateupdater: WARNING  Using codegen CStateUpdater\n"
       ]
      },
      {
       "output_type": "stream",
       "stream": "stderr",
       "text": [
        "brian.stateupdater: WARNING  Using codegen CStateUpdater\n"
       ]
      },
      {
       "output_type": "stream",
       "stream": "stderr",
       "text": [
        "brian.stateupdater: WARNING  Using codegen CStateUpdater\n"
       ]
      },
      {
       "output_type": "stream",
       "stream": "stderr",
       "text": [
        "brian.stateupdater: WARNING  Using codegen CStateUpdater\n"
       ]
      },
      {
       "output_type": "stream",
       "stream": "stderr",
       "text": [
        "brian.stateupdater: WARNING  Using codegen CStateUpdater\n"
       ]
      },
      {
       "output_type": "stream",
       "stream": "stderr",
       "text": [
        "brian.stateupdater: WARNING  Using codegen CStateUpdater\n"
       ]
      },
      {
       "output_type": "stream",
       "stream": "stderr",
       "text": [
        "brian.stateupdater: WARNING  Using codegen CStateUpdater\n"
       ]
      },
      {
       "output_type": "stream",
       "stream": "stderr",
       "text": [
        "brian.stateupdater: WARNING  Using codegen CStateUpdater\n"
       ]
      },
      {
       "output_type": "stream",
       "stream": "stderr",
       "text": [
        "brian.stateupdater: WARNING  Using codegen CStateUpdater\n"
       ]
      },
      {
       "output_type": "stream",
       "stream": "stderr",
       "text": [
        "brian.stateupdater: WARNING  Using codegen CStateUpdater\n"
       ]
      },
      {
       "output_type": "stream",
       "stream": "stderr",
       "text": [
        "brian.stateupdater: WARNING  Using codegen CStateUpdater\n"
       ]
      },
      {
       "output_type": "stream",
       "stream": "stderr",
       "text": [
        "brian.stateupdater: WARNING  Using codegen CStateUpdater\n"
       ]
      },
      {
       "output_type": "stream",
       "stream": "stderr",
       "text": [
        "brian.stateupdater: WARNING  Using codegen CStateUpdater\n"
       ]
      },
      {
       "output_type": "stream",
       "stream": "stderr",
       "text": [
        "brian.stateupdater: WARNING  Using codegen CStateUpdater\n"
       ]
      },
      {
       "output_type": "stream",
       "stream": "stderr",
       "text": [
        "brian.stateupdater: WARNING  Using codegen CStateUpdater\n"
       ]
      },
      {
       "output_type": "stream",
       "stream": "stderr",
       "text": [
        "brian.stateupdater: WARNING  Using codegen CStateUpdater\n"
       ]
      },
      {
       "output_type": "stream",
       "stream": "stderr",
       "text": [
        "brian.stateupdater: WARNING  Using codegen CStateUpdater\n"
       ]
      },
      {
       "output_type": "stream",
       "stream": "stderr",
       "text": [
        "brian.stateupdater: WARNING  Using codegen CStateUpdater\n"
       ]
      },
      {
       "output_type": "stream",
       "stream": "stderr",
       "text": [
        "brian.stateupdater: WARNING  Using codegen CStateUpdater\n"
       ]
      },
      {
       "output_type": "stream",
       "stream": "stderr",
       "text": [
        "brian.stateupdater: WARNING  Using codegen CStateUpdater\n"
       ]
      },
      {
       "output_type": "stream",
       "stream": "stderr",
       "text": [
        "brian.stateupdater: WARNING  Using codegen CStateUpdater\n"
       ]
      },
      {
       "output_type": "stream",
       "stream": "stderr",
       "text": [
        "brian.stateupdater: WARNING  Using codegen CStateUpdater\n"
       ]
      },
      {
       "output_type": "stream",
       "stream": "stderr",
       "text": [
        "brian.stateupdater: WARNING  Using codegen CStateUpdater\n"
       ]
      },
      {
       "output_type": "stream",
       "stream": "stderr",
       "text": [
        "brian.stateupdater: WARNING  Using codegen CStateUpdater\n"
       ]
      },
      {
       "output_type": "stream",
       "stream": "stderr",
       "text": [
        "brian.stateupdater: WARNING  Using codegen CStateUpdater\n"
       ]
      },
      {
       "output_type": "stream",
       "stream": "stderr",
       "text": [
        "brian.stateupdater: WARNING  Using codegen CStateUpdater\n"
       ]
      },
      {
       "output_type": "stream",
       "stream": "stderr",
       "text": [
        "brian.stateupdater: WARNING  Using codegen CStateUpdater\n"
       ]
      },
      {
       "output_type": "stream",
       "stream": "stderr",
       "text": [
        "brian.stateupdater: WARNING  Using codegen CStateUpdater\n"
       ]
      },
      {
       "output_type": "stream",
       "stream": "stderr",
       "text": [
        "brian.stateupdater: WARNING  Using codegen CStateUpdater\n"
       ]
      },
      {
       "output_type": "stream",
       "stream": "stderr",
       "text": [
        "brian.stateupdater: WARNING  Using codegen CStateUpdater\n"
       ]
      },
      {
       "output_type": "stream",
       "stream": "stderr",
       "text": [
        "brian.stateupdater: WARNING  Using codegen CStateUpdater\n"
       ]
      },
      {
       "output_type": "stream",
       "stream": "stderr",
       "text": [
        "brian.stateupdater: WARNING  Using codegen CStateUpdater\n"
       ]
      },
      {
       "output_type": "stream",
       "stream": "stderr",
       "text": [
        "brian.stateupdater: WARNING  Using codegen CStateUpdater\n"
       ]
      },
      {
       "output_type": "stream",
       "stream": "stderr",
       "text": [
        "brian.stateupdater: WARNING  Using codegen CStateUpdater\n"
       ]
      },
      {
       "output_type": "stream",
       "stream": "stderr",
       "text": [
        "brian.stateupdater: WARNING  Using codegen CStateUpdater\n"
       ]
      },
      {
       "output_type": "stream",
       "stream": "stderr",
       "text": [
        "brian.stateupdater: WARNING  Using codegen CStateUpdater\n"
       ]
      },
      {
       "output_type": "stream",
       "stream": "stderr",
       "text": [
        "brian.stateupdater: WARNING  Using codegen CStateUpdater\n"
       ]
      },
      {
       "output_type": "stream",
       "stream": "stderr",
       "text": [
        "brian.stateupdater: WARNING  Using codegen CStateUpdater\n"
       ]
      },
      {
       "output_type": "stream",
       "stream": "stderr",
       "text": [
        "brian.stateupdater: WARNING  Using codegen CStateUpdater\n"
       ]
      },
      {
       "output_type": "stream",
       "stream": "stderr",
       "text": [
        "brian.stateupdater: WARNING  Using codegen CStateUpdater\n"
       ]
      },
      {
       "output_type": "stream",
       "stream": "stderr",
       "text": [
        "brian.stateupdater: WARNING  Using codegen CStateUpdater\n"
       ]
      },
      {
       "output_type": "stream",
       "stream": "stderr",
       "text": [
        "brian.stateupdater: WARNING  Using codegen CStateUpdater\n"
       ]
      },
      {
       "output_type": "stream",
       "stream": "stderr",
       "text": [
        "brian.stateupdater: WARNING  Using codegen CStateUpdater\n"
       ]
      },
      {
       "output_type": "stream",
       "stream": "stderr",
       "text": [
        "brian.stateupdater: WARNING  Using codegen CStateUpdater\n"
       ]
      },
      {
       "output_type": "stream",
       "stream": "stderr",
       "text": [
        "brian.stateupdater: WARNING  Using codegen CStateUpdater\n"
       ]
      },
      {
       "output_type": "stream",
       "stream": "stderr",
       "text": [
        "brian.stateupdater: WARNING  Using codegen CStateUpdater\n"
       ]
      },
      {
       "output_type": "stream",
       "stream": "stderr",
       "text": [
        "brian.stateupdater: WARNING  Using codegen CStateUpdater\n"
       ]
      },
      {
       "output_type": "stream",
       "stream": "stderr",
       "text": [
        "brian.stateupdater: WARNING  Using codegen CStateUpdater\n"
       ]
      },
      {
       "output_type": "stream",
       "stream": "stderr",
       "text": [
        "brian.stateupdater: WARNING  Using codegen CStateUpdater\n"
       ]
      },
      {
       "output_type": "stream",
       "stream": "stderr",
       "text": [
        "brian.stateupdater: WARNING  Using codegen CStateUpdater\n"
       ]
      },
      {
       "output_type": "stream",
       "stream": "stderr",
       "text": [
        "brian.stateupdater: WARNING  Using codegen CStateUpdater\n"
       ]
      },
      {
       "output_type": "stream",
       "stream": "stderr",
       "text": [
        "brian.stateupdater: WARNING  Using codegen CStateUpdater\n"
       ]
      },
      {
       "output_type": "stream",
       "stream": "stderr",
       "text": [
        "brian.stateupdater: WARNING  Using codegen CStateUpdater\n"
       ]
      },
      {
       "output_type": "stream",
       "stream": "stderr",
       "text": [
        "brian.stateupdater: WARNING  Using codegen CStateUpdater\n"
       ]
      },
      {
       "output_type": "stream",
       "stream": "stderr",
       "text": [
        "brian.stateupdater: WARNING  Using codegen CStateUpdater\n"
       ]
      },
      {
       "output_type": "stream",
       "stream": "stderr",
       "text": [
        "brian.stateupdater: WARNING  Using codegen CStateUpdater\n"
       ]
      },
      {
       "output_type": "stream",
       "stream": "stderr",
       "text": [
        "brian.stateupdater: WARNING  Using codegen CStateUpdater\n"
       ]
      },
      {
       "output_type": "stream",
       "stream": "stderr",
       "text": [
        "brian.stateupdater: WARNING  Using codegen CStateUpdater\n"
       ]
      },
      {
       "output_type": "stream",
       "stream": "stderr",
       "text": [
        "brian.stateupdater: WARNING  Using codegen CStateUpdater\n"
       ]
      },
      {
       "output_type": "stream",
       "stream": "stderr",
       "text": [
        "brian.stateupdater: WARNING  Using codegen CStateUpdater\n"
       ]
      },
      {
       "output_type": "stream",
       "stream": "stderr",
       "text": [
        "brian.stateupdater: WARNING  Using codegen CStateUpdater\n"
       ]
      },
      {
       "output_type": "stream",
       "stream": "stderr",
       "text": [
        "brian.stateupdater: WARNING  Using codegen CStateUpdater\n"
       ]
      }
     ],
     "prompt_number": 3
    },
    {
     "cell_type": "code",
     "collapsed": false,
     "input": [
      "params = tuple([.1*ms, .2*nS])\n",
      "[p for p in repeat(params,2)]"
     ],
     "language": "python",
     "metadata": {},
     "outputs": [
      {
       "output_type": "pyout",
       "prompt_number": 34,
       "text": [
        "[(0.1 * msecond, 0.2 * nsiemens), (0.1 * msecond, 0.2 * nsiemens)]"
       ]
      }
     ],
     "prompt_number": 34
    },
    {
     "cell_type": "code",
     "collapsed": false,
     "input": [
      "hist(isis)\n",
      "print 'mean:', mean(isis), 'variance:', var(isis)"
     ],
     "language": "python",
     "metadata": {},
     "outputs": [
      {
       "output_type": "stream",
       "stream": "stdout",
       "text": [
        "mean: 0.0320975 variance: 2.753861875e-05\n"
       ]
      },
      {
       "output_type": "display_data",
       "png": "[encoded data removed]"
      }
     ],
     "prompt_number": 4
    },
    {
     "cell_type": "code",
     "collapsed": false,
     "input": [
      "hist(isis)\n",
      "print 'mean:', mean(isis), 'variance:', var(isis)"
     ],
     "language": "python",
     "metadata": {},
     "outputs": [
      {
       "output_type": "stream",
       "stream": "stdout",
       "text": [
        "mean: 0.02562 variance: 2.059435e-05\n"
       ]
      },
      {
       "output_type": "display_data",
       "png": "[encoded data removed]"
      }
     ],
     "prompt_number": 7
    },
    {
     "cell_type": "code",
     "collapsed": false,
     "input": [
      "figure(figsize=(10,6))\n",
      "V.plot()\n",
      "figure(figsize=(10,6))\n",
      "ginh_monitor.plot()"
     ],
     "language": "python",
     "metadata": {},
     "outputs": [
      {
       "output_type": "display_data",
       "png": "[encoded data removed]"
      },
      {
       "output_type": "display_data",
       "png": "[encoded data removed]"
      }
     ],
     "prompt_number": 4
    },
    {
     "cell_type": "code",
     "collapsed": false,
     "input": [
      "def extract_two_spike_trace(V_monitor, spike_monitor, window, dt):\n",
      "    '''\n",
      "    This function extracts the voltage trace between the first two spikes plus\n",
      "    a small window on either side.\n",
      "\n",
      "    V_monitor: voltage monitor of a neuron group\n",
      "    spike_monitor: spike monitor of a neuron group\n",
      "    window: time length (in units of seconds) of trace before and after first and second spikes, \n",
      "    respectively, to extract.\n",
      "    dt: the time step of the trace (in units of seconds)\n",
      "    '''\n",
      "    t1 = round(spike_monitor.spiketimes[0][0],5)\n",
      "    t2 = round(spike_monitor.spiketimes[0][1],5)\n",
      "    i1,i2 = int(t1/dt), int(t2/dt)\n",
      "    window_len = int(window/dt)\n",
      "    return V_monitor.getvalues()[0][i1-window_len:i2+window_len]"
     ],
     "language": "python",
     "metadata": {},
     "outputs": [],
     "prompt_number": 9
    },
    {
     "cell_type": "code",
     "collapsed": false,
     "input": [
      "plot(extract_two_spike_trace(V,spike_monitor,10*ms,.25*ms))"
     ],
     "language": "python",
     "metadata": {},
     "outputs": [
      {
       "output_type": "pyout",
       "prompt_number": 8,
       "text": [
        "[<matplotlib.lines.Line2D at 0x7288bd0>]"
       ]
      },
      {
       "output_type": "display_data",
       "png": "[encoded data removed]"
      }
     ],
     "prompt_number": 8
    },
    {
     "cell_type": "code",
     "collapsed": false,
     "input": [],
     "language": "python",
     "metadata": {},
     "outputs": []
    }
   ],
   "metadata": {}
  }
 ]
}