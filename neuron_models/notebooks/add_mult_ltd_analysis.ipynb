{
 "metadata": {
  "name": "add_mult_ltd_analysis"
 },
 "nbformat": 3,
 "nbformat_minor": 0,
 "worksheets": [
  {
   "cells": [
    {
     "cell_type": "code",
     "collapsed": false,
     "input": [
      "from brian import *"
     ],
     "language": "python",
     "metadata": {},
     "outputs": [
      {
       "output_type": "stream",
       "stream": "stderr",
       "text": [
        "/home/bill/anaconda/lib/python2.7/site-packages/brian-1.4.0-py2.7.egg/brian/utils/sparse_patch/__init__.py:38: UserWarning: Couldn't find matching sparse matrix patch for scipy version 0.11.0, but in most cases this shouldn't be a problem.\n",
        "  warnings.warn(\"Couldn't find matching sparse matrix patch for scipy version %s, but in most cases this shouldn't be a problem.\" % scipy.__version__)\n"
       ]
      }
     ],
     "prompt_number": 1
    },
    {
     "cell_type": "markdown",
     "metadata": {},
     "source": [
      "Equilibrium weight values as a function of parameters.  Derived in research notebook on 5/7/13"
     ]
    },
    {
     "cell_type": "code",
     "collapsed": false,
     "input": [
      "def w_eq_add(w_max, c_ltp, c_ltd, alpha, cf_rate):\n",
      "    return w_max/(1+(c_ltd/c_ltp)*alpha*cf_rate)\n",
      "\n",
      "def w_eq_mult(w_max, c_ltp, c_ltd, alpha, cf_rate, pf_rate):\n",
      "    a = pf_rate*c_ltp/cf_rate\n",
      "    return w_max/(1+(1-c_ltd**(alpha*pf_rate))/a)"
     ],
     "language": "python",
     "metadata": {},
     "outputs": [],
     "prompt_number": 2
    },
    {
     "cell_type": "code",
     "collapsed": false,
     "input": [
      "w_eq_add(.003,.0001,.005,50*msecond,3*Hz)"
     ],
     "language": "python",
     "metadata": {},
     "outputs": [
      {
       "output_type": "pyout",
       "prompt_number": 20,
       "text": [
        "Quantity(0.000352941176471)"
       ]
      }
     ],
     "prompt_number": 20
    },
    {
     "cell_type": "markdown",
     "metadata": {},
     "source": [
      "Multiplicative LTD is inelastic to changes in PF firing rate."
     ]
    },
    {
     "cell_type": "code",
     "collapsed": false,
     "input": [
      "w_eq_mult(.003,.0001,.995,50*msecond,3*Hz,5*Hz)"
     ],
     "language": "python",
     "metadata": {},
     "outputs": [
      {
       "output_type": "pyout",
       "prompt_number": 21,
       "text": [
        "Quantity(0.00035235652757)"
       ]
      }
     ],
     "prompt_number": 21
    },
    {
     "cell_type": "code",
     "collapsed": false,
     "input": [
      "w_eq_mult(.003,.0001,.995,50*msecond,3*Hz,500*Hz)"
     ],
     "language": "python",
     "metadata": {},
     "outputs": [
      {
       "output_type": "pyout",
       "prompt_number": 25,
       "text": [
        "Quantity(0.000371895351452)"
       ]
      }
     ],
     "prompt_number": 25
    },
    {
     "cell_type": "code",
     "collapsed": false,
     "input": [
      "w_eq_mult(.003,.0001,.995,50*msecond,3*Hz,0.0005*Hz)"
     ],
     "language": "python",
     "metadata": {},
     "outputs": [
      {
       "output_type": "pyout",
       "prompt_number": 28,
       "text": [
        "Quantity(0.000352161769303)"
       ]
      }
     ],
     "prompt_number": 28
    },
    {
     "cell_type": "code",
     "collapsed": false,
     "input": [],
     "language": "python",
     "metadata": {},
     "outputs": []
    }
   ],
   "metadata": {}
  }
 ]
}