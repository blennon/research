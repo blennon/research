{
 "metadata": {
  "name": "cerebellum_net"
 },
 "nbformat": 3,
 "nbformat_minor": 0,
 "worksheets": [
  {
   "cells": [
    {
     "cell_type": "code",
     "collapsed": true,
     "input": [
      "%load_ext autoreload\n",
      "%autoreload 2\n",
      "import datetime\n",
      "import os\n",
      "from brian import *\n",
      "import sys\n",
      "sys.path.append('../../')\n",
      "from neuron_models import *\n",
      "import cPickle\n",
      "import time\n",
      "set_global_preferences(useweave=True, usenewpropagate=True, usecodegen=True, usecodegenweave=True)\n",
      "defaultclock.dt = .5*ms"
     ],
     "language": "python",
     "metadata": {},
     "outputs": [
      {
       "output_type": "stream",
       "stream": "stderr",
       "text": [
        "/home/bill/anaconda/lib/python2.7/site-packages/brian-1.4.0-py2.7.egg/brian/utils/sparse_patch/__init__.py:38: UserWarning: Couldn't find matching sparse matrix patch for scipy version 0.11.0, but in most cases this shouldn't be a problem.\n",
        "  warnings.warn(\"Couldn't find matching sparse matrix patch for scipy version %s, but in most cases this shouldn't be a problem.\" % scipy.__version__)\n"
       ]
      }
     ],
     "prompt_number": 1
    },
    {
     "cell_type": "code",
     "collapsed": true,
     "input": [
      "T = 2000\n",
      "N_GO = 32**2\n",
      "N_GR = N_GO * 5**2\n",
      "N_MF = N_GR\n",
      "N_BS = 16\n",
      "N_PKJ = 16\n",
      "ltd_window = 50 * ms\n",
      "GO = GolgiCellGroup(N_GO)\n",
      "GR = GranuleCellGroup(N_GR,max_delay=ltd_window)\n",
      "#MF = PoissonGroup(N_MF, lambda t: stimulus(t,15*Hz,15*Hz,2*pi*Hz,pi,lambda x: 1+cos(x)))\n",
      "MF = PoissonGroup(N_MF,30*Hz)\n",
      "BS = BasketCellGroup(N_BS)\n",
      "PKJ = PurkinjeCellGroup(N_PKJ)\n",
      "IO = PoissonGroup(1,3*Hz)"
     ],
     "language": "python",
     "metadata": {},
     "outputs": [
      {
       "output_type": "stream",
       "stream": "stderr",
       "text": [
        "brian.stateupdater: WARNING  Using codegen CStateUpdater\n"
       ]
      },
      {
       "output_type": "stream",
       "stream": "stderr",
       "text": [
        "brian.stateupdater: WARNING  Using codegen CStateUpdater\n"
       ]
      },
      {
       "output_type": "stream",
       "stream": "stderr",
       "text": [
        "brian.stateupdater: WARNING  Using codegen CStateUpdater\n"
       ]
      },
      {
       "output_type": "stream",
       "stream": "stderr",
       "text": [
        "brian.stateupdater: WARNING  Using codegen CStateUpdater\n"
       ]
      }
     ],
     "prompt_number": 2
    },
    {
     "cell_type": "code",
     "collapsed": true,
     "input": [
      "# synaptic weights\n",
      "w_gr_go = .2/(49*(len(GR)/len(GO)))\n",
      "w_go_gr = 20.\n",
      "w_mf_gr = 4.\n",
      "w_pf_bs = .003\n",
      "w_pf_pkj = .003\n",
      "w_bs_pkj = N_BS/5.\n",
      "w_cf_pkj = 5.\n",
      "\n",
      "# LTP,LTD coeffs\n",
      "c_ltp = .0001\n",
      "c_ltd = .995\n",
      "\n",
      "# Synapses\n",
      "S_GO_GR = Synapses(GO,GR,model='w:1',pre='g_inh1+=GR.g_inh_*w_go_gr; g_inh2+=GR.g_inh_*w_go_gr')\n",
      "S_GR_GO = Synapses(GR,GO,model='w:1',pre='g_ampa+=GO.g_ampa_*w_gr_go;g_nmda1+=GO.g_ampa_*w_gr_go;g_nmda2+=GO.g_ampa_*w_gr_go')\n",
      "S_MF_GR = Synapses(MF,GR,model='w:1',pre='g_ampa+=GR.g_ampa_*w_mf_gr;g_nmda+=GR.g_ampa_*w_mf_gr')\n",
      "S_PF_PKJ = Synapses(GR,PKJ,model='''w:1''',pre='''g_ampa+=PKJ.g_ampa_*w; w+=c_ltp*(w_pf_pkj-w)''')\n",
      "S_PF_BS = Synapses(GR,BS,model='w:1',pre='g_ampa+=BS.g_ampa_*w_pf_bs')\n",
      "S_BS_PKJ = Synapses(BS,PKJ,model='w:1',pre='g_inh+=PKJ.g_inh_*w_bs_pkj')\n",
      "S_CF_PKJ = Synapses(IO,PKJ,model='w:1',pre='g_ampa+=PKJ.g_ampa_*w_cf_pkj')\n",
      "\n",
      "# Connections\n",
      "S_MF_GR.connect_one_to_one()\n",
      "pre, post = gr_to_go_connections(N_GO,N_GR)\n",
      "S_GR_GO.create_synapses(pre,post)\n",
      "pre, post = go_to_gr_connections(N_GO,N_GR)\n",
      "S_GO_GR.create_synapses(pre,post)\n",
      "pre, post = gr_to_pkj_connections(N_GO,N_GR,N_PKJ)\n",
      "S_PF_BS.create_synapses(pre,post)\n",
      "S_PF_PKJ.create_synapses(pre,post)\n",
      "S_PF_PKJ.w = w_pf_pkj#.00035\n",
      "S_BS_PKJ[:,:]='abs(i-j)%(N_PKJ-1) < 2' # nearest three BS -> PKJ\n",
      "S_CF_PKJ[:,:] = True\n",
      "\n",
      "# LTD\n",
      "#PF_PKJ_LTD = LTD(IO,GR,S_PF_PKJ,S_CF_PKJ,window=ltd_window)"
     ],
     "language": "python",
     "metadata": {},
     "outputs": [],
     "prompt_number": 3
    },
    {
     "cell_type": "code",
     "collapsed": false,
     "input": [
      "MS_MF = SpikeMonitor(MF)\n",
      "MS_GR = SpikeMonitor(GR)\n",
      "MS_GO = SpikeMonitor(GO)\n",
      "MS_BS = SpikeMonitor(BS)\n",
      "MS_PKJ = SpikeMonitor(PKJ)\n",
      "weights = random_integers(len(S_PF_PKJ),size=100)\n",
      "MW_PF_PKJ = StateMonitor(S_PF_PKJ,'w',record=weights)\n",
      "start = time.time()\n",
      "run(T*msecond)\n",
      "print time.time() - start"
     ],
     "language": "python",
     "metadata": {},
     "outputs": [
      {
       "output_type": "stream",
       "stream": "stdout",
       "text": [
        "35.706551075\n"
       ]
      }
     ],
     "prompt_number": 4
    },
    {
     "cell_type": "code",
     "collapsed": false,
     "input": [
      "figs = []\n",
      "\n",
      "close('all')\n",
      "\n",
      "# Granule layer\n",
      "fig1 = figure(1, figsize=(16,12))\n",
      "ax = fig1.add_subplot(311)\n",
      "plot_raster_firingrate_overlay(MS_MF.spiketimes,T,range(0,N_GR,N_GR/N_GO),ax)\n",
      "title('Poisson Group Raster Plot')\n",
      "\n",
      "ax = fig1.add_subplot(312)\n",
      "plot_raster_firingrate_overlay(MS_GR.spiketimes,T,range(0,N_GR,N_GR/N_GO),ax)\n",
      "title('Granule Cells Raster Plot')\n",
      "\n",
      "ax = fig1.add_subplot(313)\n",
      "plot_raster_firingrate_overlay(MS_GO.spiketimes,T,range(0,N_GO),ax)\n",
      "title('Golgi Cells Raster Plot')\n",
      "\n",
      "figs.append(fig1)\n",
      "\n",
      "# Molecular layer\n",
      "fig2 = figure(2, figsize=(16,12))\n",
      "ax = fig2.add_subplot(211)\n",
      "plot_raster_firingrate_overlay(MS_BS.spiketimes,T,range(N_BS),ax)\n",
      "title('Basket Cells Raster Plot')\n",
      "\n",
      "ax = fig2.add_subplot(212)\n",
      "plot_raster_firingrate_overlay(MS_PKJ.spiketimes,T,range(N_PKJ),ax)\n",
      "title('Purkinje Cells Raster Plot')\n",
      "\n",
      "figs.append(fig2)\n",
      "\n",
      "# Weights\n",
      "fig3 = figure(3)\n",
      "weights_avg = zeros_like(MW_PF_PKJ[weights[0]])\n",
      "for i in weights:\n",
      "    weights_avg += MW_PF_PKJ[i]/weights.shape[0]\n",
      "plot(MW_PF_PKJ.times/ms,weights_avg)\n",
      "figs.append(fig3)"
     ],
     "language": "python",
     "metadata": {},
     "outputs": [],
     "prompt_number": 7
    },
    {
     "cell_type": "code",
     "collapsed": false,
     "input": [],
     "language": "python",
     "metadata": {},
     "outputs": [],
     "prompt_number": 5
    },
    {
     "cell_type": "code",
     "collapsed": false,
     "input": [],
     "language": "python",
     "metadata": {},
     "outputs": [],
     "prompt_number": 5
    },
    {
     "cell_type": "code",
     "collapsed": false,
     "input": [],
     "language": "python",
     "metadata": {},
     "outputs": []
    }
   ],
   "metadata": {}
  }
 ]
}