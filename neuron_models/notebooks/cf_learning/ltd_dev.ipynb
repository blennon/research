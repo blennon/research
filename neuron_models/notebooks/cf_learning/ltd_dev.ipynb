{
 "metadata": {
  "name": "ltd_dev"
 },
 "nbformat": 3,
 "nbformat_minor": 0,
 "worksheets": [
  {
   "cells": [
    {
     "cell_type": "code",
     "collapsed": false,
     "input": [
      "%load_ext autoreload\n",
      "%autoreload 2\n",
      "import datetime\n",
      "import os\n",
      "from brian import *\n",
      "import sys\n",
      "sys.path.append('../../')\n",
      "from neuron_models import *\n",
      "set_global_preferences(useweave=True, usenewpropagate=True, usecodegen=True, usecodegenweave=True)\n",
      "defaultclock.dt = .5*ms"
     ],
     "language": "python",
     "metadata": {},
     "outputs": [
      {
       "output_type": "stream",
       "stream": "stderr",
       "text": [
        "/home/bill/anaconda/lib/python2.7/site-packages/brian-1.4.0-py2.7.egg/brian/utils/sparse_patch/__init__.py:38: UserWarning: Couldn't find matching sparse matrix patch for scipy version 0.11.0, but in most cases this shouldn't be a problem.\n",
        "  warnings.warn(\"Couldn't find matching sparse matrix patch for scipy version %s, but in most cases this shouldn't be a problem.\" % scipy.__version__)\n"
       ]
      }
     ],
     "prompt_number": 1
    },
    {
     "cell_type": "code",
     "collapsed": false,
     "input": [
      "T = 200*ms\n",
      "ltd_window = 50*ms\n",
      "GR_spiketimes = [(0,50*ms),(0,98*ms),\n",
      "                 (1,30*ms),(1,70*ms),(1,130*ms)]\n",
      "IO_spiketimes = [(0,100*ms),(0,160*ms)]#,\n",
      "                 #(1,49*ms),(1,75*ms)]\n",
      "GR = SpikeGeneratorGroupDelay(2,GR_spiketimes,max_delay=ltd_window)\n",
      "IO = SpikeGeneratorGroup(1,IO_spiketimes)\n",
      "PKJ = PurkinjeCellGroup(2)\n",
      "PKJ.g_ahp = 0\n",
      "PKJ.V = PKJ.El"
     ],
     "language": "python",
     "metadata": {},
     "outputs": [
      {
       "output_type": "stream",
       "stream": "stderr",
       "text": [
        "brian.stateupdater: WARNING  Using codegen CStateUpdater\n"
       ]
      }
     ],
     "prompt_number": 2
    },
    {
     "cell_type": "code",
     "collapsed": false,
     "input": [
      "CF_PKJ = Synapses(IO,PKJ,model='''w:1''',pre='''g_ampa+=PKJ.g_ampa_*w''')\n",
      "PF_PKJ = Synapses(GR,PKJ,model='''w:1''',pre='''g_ampa+=PKJ.g_ampa_*w''')\n",
      "CF_PKJ[0,0] = 1.\n",
      "CF_PKJ[0,1] = 1.\n",
      "PF_PKJ[0,0] = 1.\n",
      "PF_PKJ[1,1] = 1.\n",
      "PF_PKJ[0,1] = 1.\n",
      "CF_PKJ.w = 0.5\n",
      "PF_PKJ.w = 0.1\n",
      "LTD = LTD(IO,GR,PF_PKJ,CF_PKJ,.995,ltd_window)"
     ],
     "language": "python",
     "metadata": {},
     "outputs": [],
     "prompt_number": 3
    },
    {
     "cell_type": "code",
     "collapsed": false,
     "input": [
      "M_V = StateMonitor(PKJ,'V',record=[0,1])\n",
      "M_IO_spikes = SpikeMonitor(IO)\n",
      "M_GR_spikes = SpikeMonitor(GR)\n",
      "M_w = StateMonitor(PF_PKJ,'w',record=[0,1,2])"
     ],
     "language": "python",
     "metadata": {},
     "outputs": [],
     "prompt_number": 4
    },
    {
     "cell_type": "code",
     "collapsed": false,
     "input": [
      "run(T)"
     ],
     "language": "python",
     "metadata": {},
     "outputs": [
      {
       "output_type": "stream",
       "stream": "stderr",
       "text": [
        "brian.experimental.codegen.stateupdaters: WARNING  C compilation failed, falling back on Python.\n"
       ]
      }
     ],
     "prompt_number": 5
    },
    {
     "cell_type": "code",
     "collapsed": false,
     "input": [
      "close('all')\n",
      "figure(1)\n",
      "subplot(6,1,1)\n",
      "plot(M_V.times/ms,M_V[1]/mV)\n",
      "subplot(6,1,2)\n",
      "plot(M_w.times/ms,M_w[1])\n",
      "subplot(6,1,3)\n",
      "plot(M_w.times/ms,M_w[2])\n",
      "subplot(6,1,4)\n",
      "raster_plot(M_IO_spikes)\n",
      "raster_plot(M_GR_spikes,c='r')\n",
      "xlim([0,200])\n",
      "ylim([-.1,1.1])\n",
      "subplot(6,1,5)\n",
      "plot(M_w.times/ms,M_w[0])\n",
      "subplot(6,1,6)\n",
      "plot(M_V.times/ms,M_V[0]/mV)\n"
     ],
     "language": "python",
     "metadata": {},
     "outputs": [
      {
       "output_type": "pyout",
       "prompt_number": 6,
       "text": [
        "[<matplotlib.lines.Line2D at 0x6bd2f50>]"
       ]
      }
     ],
     "prompt_number": 6
    },
    {
     "cell_type": "code",
     "collapsed": false,
     "input": [],
     "language": "python",
     "metadata": {},
     "outputs": []
    }
   ],
   "metadata": {}
  }
 ]
}