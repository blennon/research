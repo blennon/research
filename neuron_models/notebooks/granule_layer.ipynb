{
 "metadata": {
  "name": "granule_layer"
 },
 "nbformat": 3,
 "nbformat_minor": 0,
 "worksheets": [
  {
   "cells": [
    {
     "cell_type": "code",
     "collapsed": true,
     "input": [
      "%load_ext autoreload\n",
      "%autoreload 2\n",
      "import datetime\n",
      "import os\n",
      "from brian import *\n",
      "import sys\n",
      "sys.path.append('../../')\n",
      "from neuron_models import *\n",
      "import cPickle\n",
      "set_global_preferences(useweave=True, usenewpropagate=True, usecodegen=True, usecodegenweave=True)\n",
      "defaultclock.dt = .5*ms"
     ],
     "language": "python",
     "metadata": {},
     "outputs": [
      {
       "output_type": "stream",
       "stream": "stderr",
       "text": [
        "/home/bill/anaconda/lib/python2.7/site-packages/brian-1.4.0-py2.7.egg/brian/utils/sparse_patch/__init__.py:38: UserWarning: Couldn't find matching sparse matrix patch for scipy version 0.11.0, but in most cases this shouldn't be a problem.\n",
        "  warnings.warn(\"Couldn't find matching sparse matrix patch for scipy version %s, but in most cases this shouldn't be a problem.\" % scipy.__version__)\n"
       ]
      }
     ],
     "prompt_number": 1
    },
    {
     "cell_type": "code",
     "collapsed": false,
     "input": [
      "out_dir = '/home/bill/research/data/neuron_models/granule_layer/%s/'%datetime.datetime.now().isoformat()\n",
      "save_plots = True\n",
      "save_spikes = True\n",
      "save_parameters = True\n",
      "description = None#'square stimulus, two periods, 2000ms, max 45Hz'"
     ],
     "language": "python",
     "metadata": {},
     "outputs": [],
     "prompt_number": 2
    },
    {
     "cell_type": "code",
     "collapsed": true,
     "input": [
      "T = 2000\n",
      "N_GO = 32**2\n",
      "N_GR = N_GO * 5**2\n",
      "N_PG = N_GR\n",
      "GO = GolgiCellGroup(N_GO)\n",
      "GR = GranuleCellGroup(N_GR)\n",
      "#PG = PoissonGroup(N_PG, lambda t: stimulus(t,15*Hz,15*Hz,2*pi*Hz,pi,lambda x: 1+cos(x)))\n",
      "PG = PoissonGroup(N_PG, lambda t: stimulus(t,15*Hz,30*Hz,(1/2.)* Hz,0.25,square_wave))\n",
      "#PG = PoissonGroup(N_PG, lambda t: stimulus(t,15*Hz,30*Hz,(1/1.)* Hz,0.,triangle_wave))"
     ],
     "language": "python",
     "metadata": {},
     "outputs": [
      {
       "output_type": "stream",
       "stream": "stderr",
       "text": [
        "brian.stateupdater: WARNING  Using codegen CStateUpdater\n"
       ]
      },
      {
       "output_type": "stream",
       "stream": "stderr",
       "text": [
        "brian.stateupdater: WARNING  Using codegen CStateUpdater\n"
       ]
      }
     ],
     "prompt_number": 3
    },
    {
     "cell_type": "code",
     "collapsed": true,
     "input": [
      "w_gr_go = .2/(49*(len(GR)/len(GO)))\n",
      "w_go_gr = 20.\n",
      "w_mf_gr = 4.\n",
      "S_GO_GR = Synapses(GO,GR,model='w:1',pre='g_inh1+=GR.g_inh_*w_go_gr; g_inh2+=GR.g_inh_*w_go_gr')\n",
      "S_GR_GO = Synapses(GR,GO,model='w:1',pre='g_ampa+=GO.g_ampa_*w_gr_go;g_nmda1+=GO.g_ampa_*w_gr_go;g_nmda2+=GO.g_ampa_*w_gr_go')\n",
      "S_PG_GR = Synapses(PG,GR,model='w:1',pre='g_ampa+=GR.g_ampa_*w_mf_gr;g_nmda+=GR.g_ampa_*w_mf_gr')\n",
      "\n",
      "S_PG_GR.connect_one_to_one()\n",
      "pre, post = gr_to_go_connections(len(GO),len(GR))\n",
      "S_GR_GO.create_synapses(pre,post)\n",
      "pre, post = go_to_gr_connections(len(GO),len(GR))\n",
      "S_GO_GR.create_synapses(pre,post)"
     ],
     "language": "python",
     "metadata": {},
     "outputs": [],
     "prompt_number": 11
    },
    {
     "cell_type": "code",
     "collapsed": false,
     "input": [
      "MS_PG = SpikeMonitor(PG)\n",
      "MS_GR = SpikeMonitor(GR)\n",
      "MS_GO = SpikeMonitor(GO)\n",
      "run(T*msecond)"
     ],
     "language": "python",
     "metadata": {},
     "outputs": [
      {
       "output_type": "stream",
       "stream": "stdout",
       "text": [
        "creating /tmp/bill/python27_intermediate/compiler_724a6138bf2c7161b25adb06501b7d46\n"
       ]
      },
      {
       "output_type": "stream",
       "stream": "stderr",
       "text": [
        "brian.experimental.codegen.stateupdaters: WARNING  C compilation failed, falling back on Python.\n"
       ]
      }
     ],
     "prompt_number": 6
    },
    {
     "cell_type": "code",
     "collapsed": false,
     "input": [
      "figs = []\n",
      "\n",
      "close('all')\n",
      "\n",
      "# population activity\n",
      "fig1 = figure(1, figsize=(16,12))\n",
      "ax = fig1.add_subplot(311)\n",
      "plot_raster_firingrate_overlay(MS_PG.spiketimes,T,range(0,N_GR,N_GR/N_GO),ax)\n",
      "title('Poisson Group Raster Plot')\n",
      "\n",
      "ax = fig1.add_subplot(312)\n",
      "plot_raster_firingrate_overlay(MS_GR.spiketimes,T,range(0,N_GR,N_GR/N_GO),ax)\n",
      "title('Granule Cells Raster Plot')\n",
      "\n",
      "ax = fig1.add_subplot(313)\n",
      "plot_raster_firingrate_overlay(MS_GO.spiketimes,T,range(0,N_GO),ax)\n",
      "title('Golgi Cells Raster Plot')\n",
      "\n",
      "figs.append(fig1)"
     ],
     "language": "python",
     "metadata": {},
     "outputs": [],
     "prompt_number": 10
    },
    {
     "cell_type": "code",
     "collapsed": false,
     "input": [
      "# similarity\n",
      "fig2 = figure(2)\n",
      "sim = population_spike_similarity(MS_GR.getspiketimes(),MS_GR.getspiketimes(),N_GR,N_GO,T)\n",
      "plot(arange(-T/2,T/2),sim)\n",
      "xlabel('time delta')\n",
      "ylabel('Similarity')\n",
      "title('Granule Cell Similarity Measure')\n",
      "\n",
      "figs.append(fig2)"
     ],
     "language": "python",
     "metadata": {},
     "outputs": [],
     "prompt_number": 7
    },
    {
     "cell_type": "code",
     "collapsed": false,
     "input": [
      "if save_plots or save_data or save_parameters:\n",
      "    try:\n",
      "        os.makedirs(out_dir)\n",
      "    except OSError:\n",
      "        pass\n",
      "if save_plots:\n",
      "    i = 1\n",
      "    for fig in figs:\n",
      "        try:\n",
      "            fig.savefig(out_dir+'fig%s'%i)\n",
      "        except RuntimeError:\n",
      "            pass\n",
      "        i += 1\n",
      "if save_spikes:\n",
      "    output_spikes_to(out_dir+'GR_spikes',MS_GR.getspiketimes())\n",
      "if save_parameters:\n",
      "    with open(out_dir+'GR','w') as outf:\n",
      "        GR.save_parameters(outf)\n",
      "        outf.close()\n",
      "    with open(out_dir+'GO','w') as outf:\n",
      "        GO.save_parameters(outf)\n",
      "        outf.close()\n",
      "    with open(out_dir+'stimulus.pickle','w') as outf:\n",
      "        cPickle.dump([PG.rates(t/Hz) for t in arange(float(T))],outf)\n",
      "        outf.close()\n",
      "    with open(out_dir+'weights','w') as outf:\n",
      "        outf.write('w_gr_go %s\\n'%w_gr_go)\n",
      "        outf.write('w_go_gr %s\\n'%w_go_gr)\n",
      "        outf.write('w_mf_gr %s\\n'%w_mf_gr)\n",
      "        outf.close()\n",
      "if description is not None:\n",
      "    with open(out_dir+'description.txt','w') as outf:\n",
      "        outf.write(description)\n",
      "        outf.close()"
     ],
     "language": "python",
     "metadata": {},
     "outputs": [],
     "prompt_number": 30
    },
    {
     "cell_type": "code",
     "collapsed": false,
     "input": [
      "stimuli = {'triangle_two_periods':lambda t: stimulus(t,15*Hz,30*Hz,(1/1.)* Hz,0.,triangle_wave),\n",
      "           'square_two_periods_in_phase':lambda t: stimulus(t,15*Hz,30*Hz,(1/1.)* Hz,.25,square_wave),\n",
      "           'sinusoid_two_periods':lambda t: stimulus(t,15*Hz,15*Hz,2*pi*Hz,pi,lambda x: 1+cos(x)),\n",
      "           'triangle_one_period':lambda t: stimulus(t,15*Hz,30*Hz,(1/2.)* Hz,0.,triangle_wave),\n",
      "           'square_one_period_in_phase':lambda t: stimulus(t,15*Hz,30*Hz,(1/2.)* Hz,0.5,square_wave),\n",
      "           'sinusoid_one_period':lambda t: stimulus(t,15*Hz,15*Hz,pi*Hz,pi,lambda x: 1+cos(x))\n",
      "           }"
     ],
     "language": "python",
     "metadata": {},
     "outputs": [],
     "prompt_number": 13
    },
    {
     "cell_type": "code",
     "collapsed": false,
     "input": [
      "stimuli['triangle_two_periods'](2./Hz)"
     ],
     "language": "python",
     "metadata": {},
     "outputs": [
      {
       "output_type": "pyout",
       "prompt_number": 15,
       "text": [
        "15.0 * hertz"
       ]
      }
     ],
     "prompt_number": 15
    },
    {
     "cell_type": "code",
     "collapsed": false,
     "input": [],
     "language": "python",
     "metadata": {},
     "outputs": []
    }
   ],
   "metadata": {}
  }
 ]
}