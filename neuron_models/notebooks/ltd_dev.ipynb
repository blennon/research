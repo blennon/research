{
 "metadata": {
  "name": "ltd_dev"
 },
 "nbformat": 3,
 "nbformat_minor": 0,
 "worksheets": [
  {
   "cells": [
    {
     "cell_type": "code",
     "collapsed": false,
     "input": [
      "%load_ext autoreload\n",
      "%autoreload 2\n",
      "import datetime\n",
      "import os\n",
      "from brian import *\n",
      "import sys\n",
      "sys.path.append('../../')\n",
      "from neuron_models import *\n",
      "set_global_preferences(useweave=True, usenewpropagate=True, usecodegen=True, usecodegenweave=True)\n",
      "defaultclock.dt = .5*ms"
     ],
     "language": "python",
     "metadata": {},
     "outputs": [
      {
       "output_type": "stream",
       "stream": "stderr",
       "text": [
        "/home/bill/anaconda/lib/python2.7/site-packages/brian-1.4.0-py2.7.egg/brian/utils/sparse_patch/__init__.py:38: UserWarning: Couldn't find matching sparse matrix patch for scipy version 0.11.0, but in most cases this shouldn't be a problem.\n",
        "  warnings.warn(\"Couldn't find matching sparse matrix patch for scipy version %s, but in most cases this shouldn't be a problem.\" % scipy.__version__)\n"
       ]
      }
     ],
     "prompt_number": 1
    },
    {
     "cell_type": "code",
     "collapsed": false,
     "input": [
      "class LTD(SpikeMonitor):\n",
      "    '''\n",
      "    Depress PF-PKJ synapses for GRs that spiked that synapse on\n",
      "    PKJs that received CF spike.\n",
      "    '''\n",
      "    def __init__(self,IO,GR,PF_PKJ,CF_PKJ,ltd_decay=.995,window=50*ms):\n",
      "        '''\n",
      "        IO: NeuronGroup of inferior olive neurons\n",
      "        GR: NeuronGroup of granule cells\n",
      "        PF_PKJ: Synapses object of PF-PKJ synapses\n",
      "        CF_PKJ: Synapses object of CF-PKJ synapses\n",
      "        ltd_decay: the multiplicative decay constant to decay PF-PKJ\n",
      "                   synapses by.\n",
      "        window: the time window to depress PF-PKJ synapses for GR spikes \n",
      "                that precede IO spikes.\n",
      "        '''\n",
      "        self.IO = IO\n",
      "        self.GR = GR\n",
      "        self.PF_PKJ = PF_PKJ\n",
      "        self.CF_PKJ = CF_PKJ\n",
      "        self.ltd_decay = ltd_decay\n",
      "        self.ltd_bins = int(window/defaultclock.dt)\n",
      "        SpikeMonitor.__init__(self,IO)\n",
      "        \n",
      "    def propagate(self, spikes):\n",
      "        '''\n",
      "        Depress PF-PKJ synapses for GRs that spiked that synapse on\n",
      "        PKJs that received CF spike.\n",
      "\n",
      "        TO DO: consider dynamic time window so that the same\n",
      "               GR spike doesn't get depressed twice due to \n",
      "               serial CF spikes and GR spike still in the same\n",
      "               time window\n",
      "        '''\n",
      "        if len(spikes):\n",
      "            # PKJs that received CF spike\n",
      "            #pkj_inds = self.CF_PKJ.postsynaptic_indexes(spikes)\n",
      "            pkj_inds = LTD.postsynaptic_indexes(spikes,self.CF_PKJ)\n",
      "            \n",
      "            # GRs that synapse on pkj_inds\n",
      "            #gr_inds = self.PF_PKJ.presynaptic_indexes(pkj_inds)\n",
      "            gr_inds = LTD.presynaptic_indexes(pkj_inds,self.PF_PKJ)\n",
      "            \n",
      "            # GRs that spiked in the past ltd_bins\n",
      "            gr_spiked_inds = self.GR.LS[:self.ltd_bins]\n",
      "\n",
      "            # GRs that spiked and synapse on PKJs\n",
      "            gr_ltd_inds = intersect1d(array(gr_inds),array(gr_spiked_inds))\n",
      "            if not len(gr_ltd_inds):\n",
      "                return\n",
      "            \n",
      "            # modify PF_PKJ synaptic strength\n",
      "            self.PF_PKJ.w[gr_ltd_inds,pkj_inds] *= self.ltd_decay\n",
      "\n",
      "    @staticmethod\n",
      "    def presynaptic_indexes(neuron_inds,synapses):\n",
      "        '''\n",
      "        Map from target neuron indexes to source neuron indexes\n",
      "        in synapses\n",
      "        '''\n",
      "        synapse_indexes = hstack(array(synapses.synapses_post)[neuron_inds])\n",
      "        return synapses.presynaptic[synapse_indexes]\n",
      "    \n",
      "    @staticmethod\n",
      "    def postsynaptic_indexes(neuron_inds,synapses):\n",
      "        '''\n",
      "        Map from source neuron indexes to target neuron indexes\n",
      "        in synapses\n",
      "        '''\n",
      "        synapse_indexes = hstack(array(synapses.synapses_pre)[neuron_inds])\n",
      "        return synapses.postsynaptic[synapse_indexes]"
     ],
     "language": "python",
     "metadata": {},
     "outputs": [],
     "prompt_number": 2
    },
    {
     "cell_type": "code",
     "collapsed": false,
     "input": [
      "T = 200*ms\n",
      "ltd_window = 50*ms\n",
      "GR_spiketimes = [(0,50*ms),(0,98*ms),\n",
      "                 (1,30*ms),(1,70*ms),(1,130*ms)]\n",
      "IO_spiketimes = [(0,100*ms),(0,160*ms),\n",
      "                 (1,49*ms),(1,75*ms)]\n",
      "GR = SpikeGeneratorGroupBill(2,GR_spiketimes,max_delay=ltd_window)\n",
      "IO = SpikeGeneratorGroup(2,IO_spiketimes)\n",
      "PKJ = PurkinjeCellGroup(2)\n",
      "PKJ.g_ahp = 0\n",
      "PKJ.V = PKJ.El"
     ],
     "language": "python",
     "metadata": {},
     "outputs": [
      {
       "output_type": "stream",
       "stream": "stderr",
       "text": [
        "brian.stateupdater: WARNING  Using codegen CStateUpdater\n"
       ]
      }
     ],
     "prompt_number": 3
    },
    {
     "cell_type": "code",
     "collapsed": false,
     "input": [
      "CF_PKJ = Synapses(IO,PKJ,model='''w:1''',pre='''g_ampa+=PKJ.g_ampa_*w''')\n",
      "PF_PKJ = Synapses(GR,PKJ,model='''w:1''',pre='''g_ampa+=PKJ.g_ampa_*w''')\n",
      "CF_PKJ[0,0] = 1.\n",
      "CF_PKJ[1,1] = 1.\n",
      "PF_PKJ[0,0] = 1.\n",
      "PF_PKJ[1,1] = 1.\n",
      "PF_PKJ[0,1] = 1.\n",
      "CF_PKJ.w = 0.5\n",
      "PF_PKJ.w = 0.1\n",
      "LTD = LTD(IO,GR,PF_PKJ,CF_PKJ,.995,ltd_window)"
     ],
     "language": "python",
     "metadata": {},
     "outputs": [],
     "prompt_number": 4
    },
    {
     "cell_type": "code",
     "collapsed": false,
     "input": [
      "M_V = StateMonitor(PKJ,'V',record=[0,1])\n",
      "M_IO_spikes = SpikeMonitor(IO)\n",
      "M_GR_spikes = SpikeMonitor(GR)\n",
      "M_w = StateMonitor(PF_PKJ,'w',record=[0,1,2])"
     ],
     "language": "python",
     "metadata": {},
     "outputs": [],
     "prompt_number": 5
    },
    {
     "cell_type": "code",
     "collapsed": false,
     "input": [
      "run(T)"
     ],
     "language": "python",
     "metadata": {},
     "outputs": [
      {
       "output_type": "stream",
       "stream": "stderr",
       "text": [
        "brian.experimental.codegen.stateupdaters: WARNING  C compilation failed, falling back on Python.\n"
       ]
      },
      {
       "output_type": "stream",
       "stream": "stdout",
       "text": [
        "[1] [1 0] [1] [1] [1] 49.0 ms\n",
        "[1] [1 0] [1 0 1] [0 1] [1] 75.0 ms\n",
        "[0]"
       ]
      },
      {
       "output_type": "stream",
       "stream": "stdout",
       "text": [
        " [0] [1 0] [0] [0] 0.1 s\n"
       ]
      }
     ],
     "prompt_number": 6
    },
    {
     "cell_type": "code",
     "collapsed": false,
     "input": [
      "close('all')\n",
      "figure(1)\n",
      "subplot(6,1,1)\n",
      "plot(M_V.times/ms,M_V[1]/mV)\n",
      "subplot(6,1,2)\n",
      "plot(M_w.times/ms,M_w[1])\n",
      "subplot(6,1,3)\n",
      "plot(M_w.times/ms,M_w[2])\n",
      "subplot(6,1,4)\n",
      "raster_plot(M_IO_spikes)\n",
      "raster_plot(M_GR_spikes,c='r')\n",
      "xlim([0,200])\n",
      "ylim([-.1,1.1])\n",
      "subplot(6,1,5)\n",
      "plot(M_w.times/ms,M_w[0])\n",
      "subplot(6,1,6)\n",
      "plot(M_V.times/ms,M_V[0]/mV)\n"
     ],
     "language": "python",
     "metadata": {},
     "outputs": [
      {
       "output_type": "pyout",
       "prompt_number": 7,
       "text": [
        "[<matplotlib.lines.Line2D at 0x777ee50>]"
       ]
      }
     ],
     "prompt_number": 7
    },
    {
     "cell_type": "code",
     "collapsed": false,
     "input": [],
     "language": "python",
     "metadata": {},
     "outputs": []
    }
   ],
   "metadata": {}
  }
 ]
}