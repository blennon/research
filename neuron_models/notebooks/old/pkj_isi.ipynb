{
 "metadata": {
  "name": "pkj_isi"
 },
 "nbformat": 3,
 "nbformat_minor": 0,
 "worksheets": [
  {
   "cells": [
    {
     "cell_type": "markdown",
     "metadata": {},
     "source": [
      "<h2>Experiments PKJ physiological parameters<h2>"
     ]
    },
    {
     "cell_type": "markdown",
     "metadata": {},
     "source": [
      "The goal of this experiment is to find the physiological parameters that reproduce the ISI histograms for the same PKJ cell with GABA block in Hausser and Clark 1997."
     ]
    },
    {
     "cell_type": "markdown",
     "metadata": {},
     "source": [
      "Discussion: I tried a number of things to get the symmetric/Gaussian like histogram: adding Poisson PF inputs, randomizing PF-PKJ weights, randomizing the spontaneous current going into the cell.  The only one that produced the distributions seen in the paper was randomizing the spontaneous current.  The parameters are: I = max(.08*nA + .075*randn()*nA,0*nA) at every time step.  This reproduces the mean firing rate and coefficient of variation seen in the paper. Adding PF inputs driven by Poisson generators at a low firing rate only slightly perturbs the distribution, but qualitatively keeps it the same.  The diagram in Hausser and Clark 1997 is only for GABA block and not also for glutamate block, so presumably the background firing rate of granule cells has an effect on the PKJ's firing rate."
     ]
    },
    {
     "cell_type": "code",
     "collapsed": true,
     "input": [
      "%load_ext autoreload\n",
      "%autoreload 2\n",
      "import datetime\n",
      "import os\n",
      "from brian import *\n",
      "import sys\n",
      "sys.path.append('../../')\n",
      "from neuron_models import *\n",
      "import cPickle\n",
      "import time\n",
      "set_global_preferences(useweave=True, usenewpropagate=True, usecodegen=True, usecodegenweave=True)\n",
      "defaultclock.dt = .5*ms"
     ],
     "language": "python",
     "metadata": {},
     "outputs": [
      {
       "output_type": "stream",
       "stream": "stderr",
       "text": [
        "/home/bill/anaconda/lib/python2.7/site-packages/brian-1.4.0-py2.7.egg/brian/utils/sparse_patch/__init__.py:38: UserWarning: Couldn't find matching sparse matrix patch for scipy version 0.11.0, but in most cases this shouldn't be a problem.\n",
        "  warnings.warn(\"Couldn't find matching sparse matrix patch for scipy version %s, but in most cases this shouldn't be a problem.\" % scipy.__version__)\n"
       ]
      }
     ],
     "prompt_number": 1
    },
    {
     "cell_type": "code",
     "collapsed": true,
     "input": [
      "T = 60000\n",
      "N_PKJ = 1\n",
      "#PurkinjeCellGroup.I_spont = .085 * nA\n",
      "PKJ = PurkinjeCellGroup(N_PKJ)\n",
      "#GR = PoissonGroup(1000, 3*Hz)"
     ],
     "language": "python",
     "metadata": {},
     "outputs": [
      {
       "output_type": "stream",
       "stream": "stderr",
       "text": [
        "brian.stateupdater: WARNING  Using codegen CStateUpdater\n"
       ]
      }
     ],
     "prompt_number": 2
    },
    {
     "cell_type": "code",
     "collapsed": true,
     "input": [
      "# synaptic weights\n",
      "w_pf_pkj = .003\n",
      "\n",
      "# Synapses\n",
      "#S_PF_PKJ = Synapses(GR,PKJ,model='''w:1''',pre='''g_ampa+=PKJ.g_ampa_*w_pf_pkj''')\n",
      "\n",
      "# Connections\n",
      "#S_PF_PKJ[:,:] = True\n"
     ],
     "language": "python",
     "metadata": {},
     "outputs": [],
     "prompt_number": 3
    },
    {
     "cell_type": "code",
     "collapsed": false,
     "input": [
      "@network_operation(Clock(dt=1*ms))\n",
      "def random_current():\n",
      "    PKJ.I = max(.08*nA + .075*randn()*nA,0*nA)"
     ],
     "language": "python",
     "metadata": {},
     "outputs": [],
     "prompt_number": 4
    },
    {
     "cell_type": "code",
     "collapsed": false,
     "input": [
      "# Monitor\n",
      "MS_PKJ = SpikeMonitor(PKJ)\n",
      "MR_PKJ = PopulationRateMonitor(PKJ,bin=1*ms)\n",
      "MISI_PKJ = ISIHistogramMonitor(PKJ,bins=arange(0,120,2)*ms)\n",
      "start = time.time()\n",
      "run(T*msecond)\n",
      "print time.time() - start"
     ],
     "language": "python",
     "metadata": {},
     "outputs": [
      {
       "output_type": "stream",
       "stream": "stdout",
       "text": [
        "14.7288160324\n"
       ]
      }
     ],
     "prompt_number": 5
    },
    {
     "cell_type": "code",
     "collapsed": false,
     "input": [
      "def isi_mean_and_std(monitor):\n",
      "    '''\n",
      "    compute the mean and variance of interspike intervals\n",
      "    of a group of neurons\n",
      "    '''\n",
      "    isi = []\n",
      "    for n_ind, times in monitor.spiketimes.iteritems():\n",
      "        isi += list(diff(times)*1000)\n",
      "    return mean(isi), var(isi)**.5"
     ],
     "language": "python",
     "metadata": {},
     "outputs": [],
     "prompt_number": 6
    },
    {
     "cell_type": "code",
     "collapsed": false,
     "input": [
      "figure(figsize=(16,6))\n",
      "subplot(1,2,1)\n",
      "hist_plot(MISI_PKJ, newfigure=False)\n",
      "mew, std = isi_mean_and_std(MS_PKJ)\n",
      "s = 'mean rate = %0.1f Hz\\nmean ISI = %0.1f ms\\nISI std = %0.1f ms\\nCV = %0.2f' % (mean(MR_PKJ.rate),mew,std,std/mew)\n",
      "annotate(s,(20,0),xytext=(50,MISI_PKJ.count.max()*.7),xycoords='data',fontsize=15)\n",
      "title('PKJ ISI Histogram',fontsize=20)\n",
      "xlim([0,120])"
     ],
     "language": "python",
     "metadata": {},
     "outputs": [
      {
       "output_type": "pyout",
       "prompt_number": 7,
       "text": [
        "(0, 120)"
       ]
      },
      {
       "output_type": "display_data",
       "png": "[encoded data removed]"
      }
     ],
     "prompt_number": 7
    },
    {
     "cell_type": "code",
     "collapsed": false,
     "input": [],
     "language": "python",
     "metadata": {},
     "outputs": [],
     "prompt_number": 7
    },
    {
     "cell_type": "code",
     "collapsed": false,
     "input": [],
     "language": "python",
     "metadata": {},
     "outputs": [],
     "prompt_number": 7
    },
    {
     "cell_type": "code",
     "collapsed": false,
     "input": [],
     "language": "python",
     "metadata": {},
     "outputs": [],
     "prompt_number": 7
    },
    {
     "cell_type": "code",
     "collapsed": false,
     "input": [],
     "language": "python",
     "metadata": {},
     "outputs": [],
     "prompt_number": 7
    },
    {
     "cell_type": "code",
     "collapsed": false,
     "input": [],
     "language": "python",
     "metadata": {},
     "outputs": []
    }
   ],
   "metadata": {}
  }
 ]
}