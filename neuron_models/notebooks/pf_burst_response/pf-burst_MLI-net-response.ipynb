{
 "metadata": {
  "name": ""
 },
 "nbformat": 3,
 "nbformat_minor": 0,
 "worksheets": [
  {
   "cells": [
    {
     "cell_type": "markdown",
     "metadata": {},
     "source": [
      "The purpose of this notebook is to measure the time between the onset of the GR spike burst and the subsequent PKJ spike, in the case where the PKJ is in a network of PKJs and MLIs that are all spontaneously active."
     ]
    },
    {
     "cell_type": "code",
     "collapsed": true,
     "input": [
      "%load_ext autoreload\n",
      "%autoreload 2\n",
      "import datetime\n",
      "import os\n",
      "import gc\n",
      "from brian import *\n",
      "import sys\n",
      "sys.path.append('../../')\n",
      "from neuron_models import *\n",
      "import cPickle\n",
      "import time\n",
      "set_global_preferences(useweave=True, usenewpropagate=True, usecodegen=True, usecodegenweave=True)\n",
      "defaultclock.dt = .25*ms"
     ],
     "language": "python",
     "metadata": {},
     "outputs": [
      {
       "output_type": "stream",
       "stream": "stderr",
       "text": [
        "/home/bill/anaconda/lib/python2.7/site-packages/brian/utils/sparse_patch/__init__.py:39: UserWarning: Couldn't find matching sparse matrix patch for scipy version 0.13.0, but in most cases this shouldn't be a problem.\n",
        "  warnings.warn(\"Couldn't find matching sparse matrix patch for scipy version %s, but in most cases this shouldn't be a problem.\" % scipy.__version__)\n"
       ]
      }
     ],
     "prompt_number": 1
    },
    {
     "cell_type": "code",
     "collapsed": false,
     "input": [
      "def spike_latency(burst_start, spike_monitor, ind):\n",
      "    if burst_start > 1:\n",
      "        burst_start /= 1000.\n",
      "    spiketimes = spike_monitor.spiketimes[ind]\n",
      "    return spiketimes[spiketimes>=burst_start][0] - burst_start"
     ],
     "language": "python",
     "metadata": {},
     "outputs": [],
     "prompt_number": 2
    },
    {
     "cell_type": "code",
     "collapsed": false,
     "input": [
      "def run_net(foo):\n",
      "    seed(int(os.getpid()*time.time()))\n",
      "    reinit()\n",
      "    reinit_default_clock()\n",
      "    clear(True)\n",
      "    gc.collect()\n",
      "    \n",
      "    T = 300*ms\n",
      "    \n",
      "    mli_ind = 6 # PKJ to stimulate and record\n",
      "    N_MLI = 160\n",
      "    N_PKJ = 16\n",
      "    MLI = MLIGroup(N_MLI)\n",
      "    PKJ = PurkinjeCellGroup(N_PKJ)\n",
      "    rand_start = 30 + int(rand()*50) # ~ U(30,80)ms\n",
      "    burst_start = 150 + int(rand()*50) # ~ U(150,200)ms\n",
      "    GR = SpikeGeneratorGroup(1, [(0,(i+burst_start)*ms) for i in range(0,18,3)])\n",
      "    \n",
      "    # synaptic weights\n",
      "    w_mli_pkj = 1.25\n",
      "    w_mli_mli = 1.\n",
      "    w_pkj_mli = 1.\n",
      "    \n",
      "    # create synapses\n",
      "    S_MLI_PKJ = Synapses(MLI,PKJ,model='w:1',pre='g_inh+=PKJ.g_inh_*w')\n",
      "    S_MLI_MLI = Synapses(MLI,MLI,model='w:1',pre='g_inh+=MLI.g_inh_*w')\n",
      "    S_PKJ_MLI = Synapses(PKJ,MLI,model='w:1',pre='g_inh+=MLI.g_inh_*w')\n",
      "    S_GR_MLI = Synapses(GR,MLI,model='w:1',pre='g_ampa+=MLI.g_ampa_*w')\n",
      "    S_GR_MLI[0,mli_ind] = 1.\n",
      "    S_GR_MLI.w[0,mli_ind] = 1.2\n",
      "    \n",
      "    # load saved connnections\n",
      "    syn_dir = '/media/Data/research/paper #1/synapses/'\n",
      "    S_MLI_PKJ = load_synapses(S_MLI_PKJ, 'S_MLI_PKJ', syn_dir)\n",
      "    S_MLI_MLI = load_synapses(S_MLI_MLI, 'S_MLI_MLI', syn_dir)\n",
      "    S_PKJ_MLI = load_synapses(S_PKJ_MLI, 'S_PKJ_MLI', syn_dir)\n",
      "    \n",
      "    # inject spontaneous current\n",
      "    @network_operation(Clock(dt=defaultclock.dt))\n",
      "    def random_current():\n",
      "        MLI.I = gamma(3.966333,0.006653,size=len(MLI)) * nA\n",
      "        PKJ.I = gamma(0.430303,0.195962,size=len(PKJ)) * nA\n",
      "    \n",
      "    # record spikes\n",
      "    MS_GR = SpikeMonitor(GR)\n",
      "    MS_MLI = SpikeMonitor(MLI)\n",
      "    \n",
      "    run(T)\n",
      "    \n",
      "    return spike_latency(burst_start, MS_MLI, mli_ind), spike_latency(rand_start, MS_MLI, mli_ind)"
     ],
     "language": "python",
     "metadata": {},
     "outputs": [],
     "prompt_number": 3
    },
    {
     "cell_type": "code",
     "collapsed": false,
     "input": [
      "import multiprocessing\n",
      "pool = multiprocessing.Pool(6)\n",
      "results = pool.map(run_net,range(300))"
     ],
     "language": "python",
     "metadata": {},
     "outputs": [
      {
       "output_type": "stream",
       "stream": "stderr",
       "text": [
        "brian.stateupdater: WARNING  Using codegen CStateUpdater\n",
        "brian.stateupdater: WARNING  Using codegen CStateUpdater\n",
        "brian.stateupdater: WARNING  Using codegen CStateUpdater\n",
        "brian.stateupdater: WARNING  Using codegen CStateUpdater\n",
        "brian.stateupdater: WARNING  Using codegen CStateUpdater\n",
        "brian.stateupdater: WARNING  Using codegen CStateUpdater\n",
        "brian.stateupdater: WARNING  Using codegen CStateUpdater\n",
        "brian.stateupdater: WARNING  Using codegen CStateUpdater\n",
        "brian.stateupdater: WARNING  Using codegen CStateUpdater\n",
        "brian.stateupdater: WARNING  Using codegen CStateUpdater\n",
        "brian.stateupdater: WARNING  Using codegen CStateUpdater\n",
        "brian.stateupdater: WARNING  Using codegen CStateUpdater\n",
        "brian.stateupdater: WARNING  Using codegen CStateUpdater\n",
        "brian.stateupdater: WARNING  Using codegen CStateUpdater\n",
        "brian.stateupdater: WARNING  Using codegen CStateUpdater\n",
        "brian.stateupdater: WARNING  Using codegen CStateUpdater\n",
        "brian.stateupdater: WARNING  Using codegen CStateUpdater\n",
        "brian.stateupdater: WARNING  Using codegen CStateUpdater\n",
        "brian.stateupdater: WARNING  Using codegen CStateUpdater\n",
        "brian.stateupdater: WARNING  Using codegen CStateUpdater\n",
        "brian.stateupdater: WARNING  Using codegen CStateUpdater\n",
        "brian.stateupdater: WARNING  Using codegen CStateUpdater\n",
        "brian.stateupdater: WARNING  Using codegen CStateUpdater\n",
        "brian.stateupdater: WARNING  Using codegen CStateUpdater\n",
        "brian.stateupdater: WARNING  Using codegen CStateUpdater\n",
        "brian.stateupdater: WARNING  Using codegen CStateUpdater\n",
        "brian.stateupdater: WARNING  Using codegen CStateUpdater\n",
        "brian.stateupdater: WARNING  Using codegen CStateUpdater\n",
        "brian.stateupdater: WARNING  Using codegen CStateUpdater\n",
        "brian.stateupdater: WARNING  Using codegen CStateUpdater\n",
        "brian.stateupdater: WARNING  Using codegen CStateUpdater\n",
        "brian.stateupdater: WARNING  Using codegen CStateUpdater\n",
        "brian.stateupdater: WARNING  Using codegen CStateUpdater\n",
        "brian.stateupdater: WARNING  Using codegen CStateUpdater\n",
        "brian.stateupdater: WARNING  Using codegen CStateUpdater\n",
        "brian.stateupdater: WARNING  Using codegen CStateUpdater\n",
        "brian.stateupdater: WARNING  Using codegen CStateUpdater\n",
        "brian.stateupdater: WARNING  Using codegen CStateUpdater\n",
        "brian.stateupdater: WARNING  Using codegen CStateUpdater\n",
        "brian.stateupdater: WARNING  Using codegen CStateUpdater\n",
        "brian.stateupdater: WARNING  Using codegen CStateUpdater\n",
        "brian.stateupdater: WARNING  Using codegen CStateUpdater\n",
        "brian.stateupdater: WARNING  Using codegen CStateUpdater\n",
        "brian.stateupdater: WARNING  Using codegen CStateUpdater\n",
        "brian.stateupdater: WARNING  Using codegen CStateUpdater\n",
        "brian.stateupdater: WARNING  Using codegen CStateUpdater\n",
        "brian.stateupdater: WARNING  Using codegen CStateUpdater\n",
        "brian.stateupdater: WARNING  Using codegen CStateUpdater\n",
        "brian.stateupdater: WARNING  Using codegen CStateUpdater\n",
        "brian.stateupdater: WARNING  Using codegen CStateUpdater\n",
        "brian.stateupdater: WARNING  Using codegen CStateUpdater\n",
        "brian.stateupdater: WARNING  Using codegen CStateUpdater\n",
        "brian.stateupdater: WARNING  Using codegen CStateUpdater\n",
        "brian.stateupdater: WARNING  Using codegen CStateUpdater\n",
        "brian.stateupdater: WARNING  Using codegen CStateUpdater\n",
        "brian.stateupdater: WARNING  Using codegen CStateUpdater\n",
        "brian.stateupdater: WARNING  Using codegen CStateUpdater\n",
        "brian.stateupdater: WARNING  Using codegen CStateUpdater\n",
        "brian.stateupdater: WARNING  Using codegen CStateUpdater\n",
        "brian.stateupdater: WARNING  Using codegen CStateUpdater\n",
        "brian.stateupdater: WARNING  Using codegen CStateUpdater\n",
        "brian.stateupdater: WARNING  Using codegen CStateUpdater\n",
        "brian.stateupdater: WARNING  Using codegen CStateUpdater\n",
        "brian.stateupdater: WARNING  Using codegen CStateUpdater\n",
        "brian.stateupdater: WARNING  Using codegen CStateUpdater\n",
        "brian.stateupdater: WARNING  Using codegen CStateUpdater\n",
        "brian.stateupdater: WARNING  Using codegen CStateUpdater\n",
        "brian.stateupdater: WARNING  Using codegen CStateUpdater\n",
        "brian.stateupdater: WARNING  Using codegen CStateUpdater\n",
        "brian.stateupdater: WARNING  Using codegen CStateUpdater\n",
        "brian.stateupdater: WARNING  Using codegen CStateUpdater\n",
        "brian.stateupdater: WARNING  Using codegen CStateUpdater\n",
        "brian.stateupdater: WARNING  Using codegen CStateUpdater\n",
        "brian.stateupdater: WARNING  Using codegen CStateUpdater\n",
        "brian.stateupdater: WARNING  Using codegen CStateUpdater\n",
        "brian.stateupdater: WARNING  Using codegen CStateUpdater\n",
        "brian.stateupdater: WARNING  Using codegen CStateUpdater\n",
        "brian.stateupdater: WARNING  Using codegen CStateUpdater\n",
        "brian.stateupdater: WARNING  Using codegen CStateUpdater\n",
        "brian.stateupdater: WARNING  Using codegen CStateUpdater\n",
        "brian.stateupdater: WARNING  Using codegen CStateUpdater\n",
        "brian.stateupdater: WARNING  Using codegen CStateUpdater\n",
        "brian.stateupdater: WARNING  Using codegen CStateUpdater\n",
        "brian.stateupdater: WARNING  Using codegen CStateUpdater\n",
        "brian.stateupdater: WARNING  Using codegen CStateUpdater\n",
        "brian.stateupdater: WARNING  Using codegen CStateUpdater\n",
        "brian.stateupdater: WARNING  Using codegen CStateUpdater\n",
        "brian.stateupdater: WARNING  Using codegen CStateUpdater\n",
        "brian.stateupdater: WARNING  Using codegen CStateUpdater\n",
        "brian.stateupdater: WARNING  Using codegen CStateUpdater\n",
        "brian.stateupdater: WARNING  Using codegen CStateUpdater\n",
        "brian.stateupdater: WARNING  Using codegen CStateUpdater\n",
        "brian.stateupdater: WARNING  Using codegen CStateUpdater\n",
        "brian.stateupdater: WARNING  Using codegen CStateUpdater\n",
        "brian.stateupdater: WARNING  Using codegen CStateUpdater\n",
        "brian.stateupdater: WARNING  Using codegen CStateUpdater\n",
        "brian.stateupdater: WARNING  Using codegen CStateUpdater\n",
        "brian.stateupdater: WARNING  Using codegen CStateUpdater\n",
        "brian.stateupdater: WARNING  Using codegen CStateUpdater\n",
        "brian.stateupdater: WARNING  Using codegen CStateUpdater\n",
        "brian.stateupdater: WARNING  Using codegen CStateUpdater\n",
        "brian.stateupdater: WARNING  Using codegen CStateUpdater\n",
        "brian.stateupdater: WARNING  Using codegen CStateUpdater\n",
        "brian.stateupdater: WARNING  Using codegen CStateUpdater\n",
        "brian.stateupdater: WARNING  Using codegen CStateUpdater\n",
        "brian.stateupdater: WARNING  Using codegen CStateUpdater\n",
        "brian.stateupdater: WARNING  Using codegen CStateUpdater\n",
        "brian.stateupdater: WARNING  Using codegen CStateUpdater\n",
        "brian.stateupdater: WARNING  Using codegen CStateUpdater\n",
        "brian.stateupdater: WARNING  Using codegen CStateUpdater\n",
        "brian.stateupdater: WARNING  Using codegen CStateUpdater\n",
        "brian.stateupdater: WARNING  Using codegen CStateUpdater\n",
        "brian.stateupdater: WARNING  Using codegen CStateUpdater\n",
        "brian.stateupdater: WARNING  Using codegen CStateUpdater\n",
        "brian.stateupdater: WARNING  Using codegen CStateUpdater\n",
        "brian.stateupdater: WARNING  Using codegen CStateUpdater\n",
        "brian.stateupdater: WARNING  Using codegen CStateUpdater\n",
        "brian.stateupdater: WARNING  Using codegen CStateUpdater\n",
        "brian.stateupdater: WARNING  Using codegen CStateUpdater\n",
        "brian.stateupdater: WARNING  Using codegen CStateUpdater\n",
        "brian.stateupdater: WARNING  Using codegen CStateUpdater\n",
        "brian.stateupdater: WARNING  Using codegen CStateUpdater\n",
        "brian.stateupdater: WARNING  Using codegen CStateUpdater\n",
        "brian.stateupdater: WARNING  Using codegen CStateUpdater\n",
        "brian.stateupdater: WARNING  Using codegen CStateUpdater\n",
        "brian.stateupdater: WARNING  Using codegen CStateUpdater\n",
        "brian.stateupdater: WARNING  Using codegen CStateUpdater\n",
        "brian.stateupdater: WARNING  Using codegen CStateUpdater\n",
        "brian.stateupdater: WARNING  Using codegen CStateUpdater\n",
        "brian.stateupdater: WARNING  Using codegen CStateUpdater\n"
       ]
      }
     ],
     "prompt_number": 5
    },
    {
     "cell_type": "code",
     "collapsed": false,
     "input": [
      "burst, ctrl = map(array,zip(*results))\n",
      "fig = figure(figsize=(10,5))\n",
      "ax = fig.add_subplot(111)\n",
      "ax.hist(array(burst)*1000, 20,alpha=.4, color='g')\n",
      "ax.hist(array(ctrl)*1000, 20,alpha=.25, color='b')\n",
      "simpleaxis(ax)\n",
      "tick_params(labelsize=16)\n",
      "xlabel('Stimulus onset to spike delay(ms)',fontsize=16)\n",
      "ylabel('Count',fontsize=16)\n",
      "\n",
      "fig = figure(figsize=(10,5))\n",
      "ax = fig.add_subplot(111)\n",
      "ax.hist(array(burst[burst<18e-3])*1000, 20, color='g')\n",
      "simpleaxis(ax)\n",
      "tick_params(labelsize=16)\n",
      "xlabel('Stimulus onset to spike delay(ms)',fontsize=16)\n",
      "ylabel('Count',fontsize=16)"
     ],
     "language": "python",
     "metadata": {},
     "outputs": [
      {
       "metadata": {},
       "output_type": "pyout",
       "prompt_number": 25,
       "text": [
        "<matplotlib.text.Text at 0x9432b10>"
       ]
      },
      {
       "metadata": {},
       "output_type": "display_data",
       "png": "[encoded data removed]",
       "text": [
        "<matplotlib.figure.Figure at 0x8f81210>"
       ]
      },
      {
       "metadata": {},
       "output_type": "display_data",
       "png": "[encoded data removed]",
       "text": [
        "<matplotlib.figure.Figure at 0x8f6abd0>"
       ]
      }
     ],
     "prompt_number": 25
    },
    {
     "cell_type": "code",
     "collapsed": false,
     "input": [
      "print 'mean:', mean(burst), 'std:', std(burst)"
     ],
     "language": "python",
     "metadata": {},
     "outputs": [
      {
       "output_type": "stream",
       "stream": "stdout",
       "text": [
        "mean: 0.00650916666667 std: 0.011111486143\n"
       ]
      }
     ],
     "prompt_number": 26
    },
    {
     "cell_type": "code",
     "collapsed": false,
     "input": [],
     "language": "python",
     "metadata": {},
     "outputs": []
    }
   ],
   "metadata": {}
  }
 ]
}