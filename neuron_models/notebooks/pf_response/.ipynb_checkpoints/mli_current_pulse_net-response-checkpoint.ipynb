{
 "metadata": {
  "name": ""
 },
 "nbformat": 3,
 "nbformat_minor": 0,
 "worksheets": [
  {
   "cells": [
    {
     "cell_type": "markdown",
     "metadata": {},
     "source": [
      "<h2>MLI current pulse, network response<h2>"
     ]
    },
    {
     "cell_type": "markdown",
     "metadata": {},
     "source": [
      "This experiment will measure the response of all the neurons in the network in response to a current pulse injected into a single neuron."
     ]
    },
    {
     "cell_type": "code",
     "collapsed": true,
     "input": [
      "%load_ext autoreload\n",
      "%autoreload 2\n",
      "import datetime\n",
      "import os\n",
      "from brian import *\n",
      "import sys\n",
      "sys.path.append('../../../')\n",
      "from neuron_models import *\n",
      "import cPickle\n",
      "\n",
      "import time\n",
      "set_global_preferences(useweave=True, usenewpropagate=True, usecodegen=True, usecodegenweave=True)\n",
      "defaultclock.dt = .25*ms\n",
      "from statsmodels.tsa.stattools import acf\n",
      "from pandas import *"
     ],
     "language": "python",
     "metadata": {},
     "outputs": [
      {
       "output_type": "stream",
       "stream": "stderr",
       "text": [
        "/home/bill/anaconda/lib/python2.7/site-packages/brian/utils/sparse_patch/__init__.py:39: UserWarning: Couldn't find matching sparse matrix patch for scipy version 0.13.0, but in most cases this shouldn't be a problem.\n",
        "  warnings.warn(\"Couldn't find matching sparse matrix patch for scipy version %s, but in most cases this shouldn't be a problem.\" % scipy.__version__)\n"
       ]
      }
     ],
     "prompt_number": 1
    },
    {
     "cell_type": "code",
     "collapsed": false,
     "input": [
      "def step_current(t,t0,t1,I_max):\n",
      "    if t<=t0 or t>t1: return 0.\n",
      "    else: return I_max"
     ],
     "language": "python",
     "metadata": {},
     "outputs": [],
     "prompt_number": 2
    },
    {
     "cell_type": "code",
     "collapsed": true,
     "input": [
      "load_saved_synapses = True\n",
      "save_results = False\n",
      "\n",
      "T = 1.5*second\n",
      "N_MLI = 160\n",
      "N_PKJ = 16\n",
      "MLI = MLIGroup(N_MLI)\n",
      "PKJ = PurkinjeCellGroup(N_PKJ)"
     ],
     "language": "python",
     "metadata": {},
     "outputs": [
      {
       "output_type": "stream",
       "stream": "stderr",
       "text": [
        "brian.stateupdater: WARNING  Using codegen CStateUpdater\n"
       ]
      },
      {
       "output_type": "stream",
       "stream": "stderr",
       "text": [
        "brian.stateupdater: WARNING  Using codegen CStateUpdater\n"
       ]
      }
     ],
     "prompt_number": 3
    },
    {
     "cell_type": "code",
     "collapsed": false,
     "input": [
      "# synaptic weights\n",
      "w_mli_pkj = 1.25\n",
      "w_mli_mli = 1.\n",
      "w_pkj_mli = 1.\n",
      "\n",
      "# Synapses\n",
      "S_MLI_PKJ = Synapses(MLI,PKJ,model='w:1',pre='g_inh+=PKJ.g_inh_*w')\n",
      "S_MLI_MLI = Synapses(MLI,MLI,model='w:1',pre='g_inh+=MLI.g_inh_*w')\n",
      "S_PKJ_MLI = Synapses(PKJ,MLI,model='w:1',pre='g_inh+=MLI.g_inh_*w')\n",
      "\n",
      "# Connections\n",
      "if load_saved_synapses:\n",
      "    syn_dir = '/media/Data/research/paper #1/synapses/'\n",
      "    S_MLI_PKJ = load_synapses(S_MLI_PKJ, 'S_MLI_PKJ', syn_dir)\n",
      "    S_MLI_MLI = load_synapses(S_MLI_MLI, 'S_MLI_MLI', syn_dir)\n",
      "    S_PKJ_MLI = load_synapses(S_PKJ_MLI, 'S_PKJ_MLI', syn_dir)\n",
      "else:\n",
      "    connect_mli_pkj(S_MLI_PKJ,pkj_dist=8,syn_prob=.25)\n",
      "    connect_mli_mli(S_MLI_MLI,dist=80,syn_prob=.05)\n",
      "    S_PKJ_MLI[:,:] = '((j/(N_MLI/N_PKJ)-i)%N_PKJ <= 2) & ((j/(N_MLI/N_PKJ)-i)%N_PKJ > 0) & (j%(N_MLI/N_PKJ)<3) & (rand()<.5)'\n",
      "    S_MLI_PKJ.w[:,:] = 'rand()*w_mli_pkj'\n",
      "    S_MLI_MLI.w[:,:] = 'rand()*w_mli_mli'\n",
      "    S_PKJ_MLI.w[:,:] = 'rand()*w_pkj_mli'\n",
      "\n",
      "\n",
      "print 'Convergences'\n",
      "print 'MLI->PKJ convergence: ', len(S_MLI_PKJ)/float(N_PKJ)\n",
      "print 'MLI->MLI convergence: ', len(S_MLI_MLI)/float(N_MLI)\n",
      "print 'PKJ->MLI-BS convergence: ', len(S_PKJ_MLI)/(float(N_MLI))\n",
      "print '\\nDivergences'\n",
      "print 'MLI->PKJ divergence: ', len(S_MLI_PKJ)/float(N_MLI)\n",
      "print 'MLI->MLI divergence: ', len(S_MLI_MLI)/float(N_MLI)\n",
      "print 'PKJ->MLI-BS divergence: ', len(S_PKJ_MLI)/float(N_PKJ)"
     ],
     "language": "python",
     "metadata": {},
     "outputs": [
      {
       "output_type": "stream",
       "stream": "stdout",
       "text": [
        "Convergences\n",
        "MLI->PKJ convergence:  19.125\n",
        "MLI->MLI convergence: "
       ]
      },
      {
       "output_type": "stream",
       "stream": "stdout",
       "text": [
        " 4.15\n",
        "PKJ->MLI-BS convergence:  0.275\n",
        "\n",
        "Divergences"
       ]
      },
      {
       "output_type": "stream",
       "stream": "stdout",
       "text": [
        "\n",
        "MLI->PKJ divergence:  1.9125\n",
        "MLI->MLI divergence: "
       ]
      },
      {
       "output_type": "stream",
       "stream": "stdout",
       "text": [
        " 4.15\n",
        "PKJ->MLI-BS divergence:  2.75\n"
       ]
      }
     ],
     "prompt_number": 4
    },
    {
     "cell_type": "code",
     "collapsed": false,
     "input": [
      "d_mli = zeros(N_MLI)\n",
      "d_mli[26] = 1.\n",
      "@network_operation(Clock(dt=defaultclock.dt))\n",
      "def random_current():\n",
      "    PKJ.I = gamma(0.430303,0.195962,size=len(PKJ))*nA\n",
      "    MLI.I = gamma(3.966333,0.006653,size=len(MLI))*nA + step_current(defaultclock.t,500*ms,1*second,.07*nA)*d_mli"
     ],
     "language": "python",
     "metadata": {},
     "outputs": [],
     "prompt_number": 5
    },
    {
     "cell_type": "code",
     "collapsed": false,
     "input": [
      "# Monitor\n",
      "MS_MLI = SpikeMonitor(MLI)\n",
      "#MR_MLI = PopulationRateMonitor(MLI,bin=1*ms)\n",
      "#MISI_MLI = ISIHistogramMonitor(MLI,bins=arange(0,162,2)*ms)\n",
      "#MV_MLI = StateMonitor(MLI, 'V', record=range(N_MLI))\n",
      "\n",
      "MS_PKJ = SpikeMonitor(PKJ)\n",
      "#MR_PKJ = PopulationRateMonitor(PKJ,bin=1*ms)\n",
      "#MISI_PKJ = ISIHistogramMonitor(PKJ,bins=arange(0,162,2)*ms)\n",
      "#MV_PKJ = StateMonitor(PKJ, 'V', record=range(N_PKJ))\n",
      "\n",
      "start = time.time()\n",
      "run(T)\n",
      "print time.time() - start"
     ],
     "language": "python",
     "metadata": {},
     "outputs": [
      {
       "output_type": "stream",
       "stream": "stdout",
       "text": [
        "2.63669800758\n"
       ]
      }
     ],
     "prompt_number": 6
    },
    {
     "cell_type": "code",
     "collapsed": false,
     "input": [
      "def mean_frs(spike_monitor, t1, t2):\n",
      "    frs = []\n",
      "    for i in range(len(spike_monitor.spiketimes)):\n",
      "        spiketimes = spike_monitor.spiketimes[i]\n",
      "        spiketimes = spiketimes[(spiketimes>=t1)&(spiketimes<t2)]\n",
      "        fr = mean(diff(spiketimes)**-1)\n",
      "        frs.append(nan_to_num(fr))\n",
      "    return array(frs)"
     ],
     "language": "python",
     "metadata": {},
     "outputs": [],
     "prompt_number": 7
    },
    {
     "cell_type": "code",
     "collapsed": false,
     "input": [
      "def extract_fr_frames(spike_monitor,dt,win_len,tfinal):\n",
      "    i = 0\n",
      "    frames = []\n",
      "    while dt*i+win_len<=tfinal:\n",
      "        frames.append(mean_frs(spike_monitor,dt*i,dt*i+win_len))\n",
      "        i+=1\n",
      "    return frames"
     ],
     "language": "python",
     "metadata": {},
     "outputs": [],
     "prompt_number": 8
    },
    {
     "cell_type": "code",
     "collapsed": false,
     "input": [
      "mli_frames_baseline = extract_fr_frames(MS_MLI,10e-3,100e-3,.5)\n",
      "mli_baseline = mean(squeeze(mli_frames_baseline),axis=0)\n",
      "mli_frames = extract_fr_frames(MS_MLI,10e-3,100e-3,1.5)\n",
      "mli_frames_norm = [fr-mli_baseline for fr in mli_frames]"
     ],
     "language": "python",
     "metadata": {},
     "outputs": [],
     "prompt_number": 9
    },
    {
     "cell_type": "code",
     "collapsed": false,
     "input": [
      "def build_mli_spatial_map(mli_vec, shape=(10,16)):\n",
      "    return flipud(mli_vec.reshape(shape,order='F'))"
     ],
     "language": "python",
     "metadata": {},
     "outputs": [],
     "prompt_number": 10
    },
    {
     "cell_type": "code",
     "collapsed": false,
     "input": [
      "from matplotlib.animation import FuncAnimation\n",
      "\n",
      "def update(data):\n",
      "    #return ax.matshow(build_mli_spatial_map(data))\n",
      "    mat.set_data(build_mli_spatial_map(data))\n",
      "    return mat \n",
      "\n",
      "fig, ax = subplots()\n",
      "mat = ax.matshow(build_mli_spatial_map(mli_frames_norm[0]))\n",
      "plt.colorbar(mat)\n",
      "ani = FuncAnimation(fig, update, mli_frames_norm, interval=250)\n",
      "ani.save('mli_response.mp4')"
     ],
     "language": "python",
     "metadata": {},
     "outputs": [
      {
       "metadata": {},
       "output_type": "display_data",
       "png": "[encoded data removed]",
       "text": [
        "<matplotlib.figure.Figure at 0x7fc4190>"
       ]
      }
     ],
     "prompt_number": 11
    },
    {
     "cell_type": "code",
     "collapsed": false,
     "input": [
      "%pylab qt\n",
      "from mpl_toolkits.mplot3d import Axes3D\n",
      "from matplotlib import cm as colormap\n",
      "fig = figure(figsize=(12,10))\n",
      "ax = fig.gca(projection='3d')\n",
      "X = arange(0,16,1)\n",
      "Y = arange(0,len(pkj_frames),1)\n",
      "X, Y = meshgrid(X,Y)\n",
      "Z = squeeze(pkj_frames_norm)\n",
      "surf = ax.plot_surface(X,Y,Z, rstride=1,cstride=1,cmap=colormap.coolwarm,linewidth=0,antialiased=False)\n",
      "ax.view_init(30, 60)"
     ],
     "language": "python",
     "metadata": {},
     "outputs": [
      {
       "output_type": "stream",
       "stream": "stdout",
       "text": [
        "Populating the interactive namespace from numpy and matplotlib\n"
       ]
      }
     ],
     "prompt_number": 13
    },
    {
     "cell_type": "code",
     "collapsed": false,
     "input": [
      "mli_activity = squeeze(mli_frames_norm)\n",
      "ind = 26\n",
      "autocorr = correlate(mli_activity[:,ind], mli_activity[:,ind])[0]\n",
      "corrs = []\n",
      "for i in range(N_MLI):\n",
      "    corrs.append((i, correlate(mli_activity[:,ind], mli_activity[:,i])[0]/autocorr))"
     ],
     "language": "python",
     "metadata": {},
     "outputs": [],
     "prompt_number": 12
    },
    {
     "cell_type": "code",
     "collapsed": false,
     "input": [
      "sorted(corrs, key=lambda x: x[1], reverse=True)"
     ],
     "language": "python",
     "metadata": {},
     "outputs": [
      {
       "metadata": {},
       "output_type": "pyout",
       "prompt_number": 13,
       "text": [
        "[(26, 1.0),\n",
        " (138, 0.17090453485034421),\n",
        " (146, 0.15772412531922075),\n",
        " (144, 0.14791953906630856),\n",
        " (148, 0.14153022948861127),\n",
        " (78, 0.14134440994889766),\n",
        " (104, 0.12709159291798594),\n",
        " (49, 0.12163509688528469),\n",
        " (129, 0.1207063988833008),\n",
        " (54, 0.11662285910671386),\n",
        " (90, 0.11180675870216407),\n",
        " (147, 0.10518221726325271),\n",
        " (6, 0.10344358313872958),\n",
        " (149, 0.093172467759956176),\n",
        " (118, 0.089531935931251291),\n",
        " (152, 0.088784309633057695),\n",
        " (108, 0.081931082303091998),\n",
        " (126, 0.080108181277118995),\n",
        " (96, 0.079372905871664373),\n",
        " (106, 0.078729317438503865),\n",
        " (125, 0.076814631047968887),\n",
        " (30, 0.06767764283899555),\n",
        " (141, 0.065911642868531364),\n",
        " (94, 0.064587272560395384),\n",
        " (107, 0.062899952332766587),\n",
        " (139, 0.062635481650001559),\n",
        " (112, 0.061860505738438827),\n",
        " (159, 0.060215547000138529),\n",
        " (7, 0.057934661326206567),\n",
        " (48, 0.057424267232398914),\n",
        " (124, 0.049045370877282467),\n",
        " (132, 0.043228336446302897),\n",
        " (158, 0.042685666787353999),\n",
        " (133, 0.042298165590431445),\n",
        " (23, 0.03880148429568446),\n",
        " (113, 0.034994921563444734),\n",
        " (74, 0.032609816396249401),\n",
        " (151, 0.032590562891703735),\n",
        " (130, 0.032078625640020182),\n",
        " (142, 0.031034777894433433),\n",
        " (34, 0.030393788791666102),\n",
        " (71, 0.029975557840973773),\n",
        " (39, 0.02870017306358812),\n",
        " (131, 0.028266654586497991),\n",
        " (52, 0.026543232567413609),\n",
        " (50, 0.025582587308819165),\n",
        " (1, 0.024339800064011766),\n",
        " (68, 0.023841511509527676),\n",
        " (44, 0.023012114245574766),\n",
        " (87, 0.021035880426049043),\n",
        " (0, 0.019962948770382016),\n",
        " (9, 0.019393122302425972),\n",
        " (14, 0.018460080575767455),\n",
        " (5, 0.017648381396948541),\n",
        " (24, 0.01745525712871665),\n",
        " (45, 0.012986917407012384),\n",
        " (36, 0.010649484218213979),\n",
        " (79, 0.010375586380580016),\n",
        " (2, 0.0098699885968619779),\n",
        " (110, 0.0093696783877609251),\n",
        " (35, 0.0090694745747838014),\n",
        " (85, 0.007317462021573083),\n",
        " (155, 0.0059814928153757866),\n",
        " (154, 0.005711574036736655),\n",
        " (95, 0.0055524854366074319),\n",
        " (134, 0.0052955034381553592),\n",
        " (65, 0.0049570277937956951),\n",
        " (153, 0.0049481387163891836),\n",
        " (69, 0.0049375612341130883),\n",
        " (111, 0.0030455466694663596),\n",
        " (17, 0.0030076974989631799),\n",
        " (102, 0.0029792007273591976),\n",
        " (77, 0.0027435500215690434),\n",
        " (128, 0.00249063703800129),\n",
        " (11, 0.0),\n",
        " (12, 0.0),\n",
        " (16, 0.0),\n",
        " (18, 0.0),\n",
        " (31, 0.0),\n",
        " (40, 0.0),\n",
        " (51, 0.0),\n",
        " (58, 0.0),\n",
        " (82, 0.0),\n",
        " (83, 0.0),\n",
        " (84, 0.0),\n",
        " (89, 0.0),\n",
        " (91, 0.0),\n",
        " (97, 0.0),\n",
        " (109, 0.0),\n",
        " (121, 0.0),\n",
        " (122, 0.0),\n",
        " (136, 0.0),\n",
        " (100, -0.00016948254590606044),\n",
        " (81, -0.00055621961165560241),\n",
        " (157, -0.00060285925464245759),\n",
        " (20, -0.00088020319988798667),\n",
        " (103, -0.0016061084984606113),\n",
        " (15, -0.0019479171681715559),\n",
        " (92, -0.0029957793118994625),\n",
        " (72, -0.003142114606963833),\n",
        " (47, -0.0034076075808072968),\n",
        " (101, -0.0037121613212667097),\n",
        " (86, -0.0038816221126623776),\n",
        " (55, -0.0039969828287045039),\n",
        " (137, -0.0049586861877047765),\n",
        " (99, -0.0057177518252015617),\n",
        " (33, -0.0065119797809934906),\n",
        " (114, -0.0066145705113721982),\n",
        " (156, -0.0067427372920711342),\n",
        " (3, -0.0082898314185780586),\n",
        " (25, -0.012135330839952276),\n",
        " (135, -0.012278403056024966),\n",
        " (10, -0.014010345095765792),\n",
        " (43, -0.014154840194155704),\n",
        " (8, -0.015455840561317427),\n",
        " (38, -0.016419396703936558),\n",
        " (62, -0.017253413896096161),\n",
        " (63, -0.018122908607338374),\n",
        " (70, -0.01849565737828375),\n",
        " (98, -0.01977905452770079),\n",
        " (116, -0.022072535395250583),\n",
        " (145, -0.022155603547707417),\n",
        " (4, -0.023123150098164669),\n",
        " (13, -0.023411945636671989),\n",
        " (57, -0.025170356416307438),\n",
        " (42, -0.033249026464439349),\n",
        " (93, -0.035644460067177482),\n",
        " (150, -0.036117556376393745),\n",
        " (143, -0.036923714408934522),\n",
        " (37, -0.040014859807601375),\n",
        " (88, -0.041216349138231204),\n",
        " (28, -0.043858156013513949),\n",
        " (120, -0.045577802624981019),\n",
        " (76, -0.050462836720917524),\n",
        " (59, -0.051241423661585385),\n",
        " (117, -0.052381977691204951),\n",
        " (56, -0.053940545232361775),\n",
        " (115, -0.053955133144468932),\n",
        " (27, -0.054732675429884782),\n",
        " (60, -0.063383768321231423),\n",
        " (75, -0.063734509644697027),\n",
        " (123, -0.066334827722062312),\n",
        " (64, -0.068478653229914505),\n",
        " (19, -0.068682481010945567),\n",
        " (127, -0.070563866372135839),\n",
        " (67, -0.071612739542982307),\n",
        " (32, -0.072449956573684027),\n",
        " (21, -0.073629508536030341),\n",
        " (66, -0.077819822983199546),\n",
        " (80, -0.085426506792293189),\n",
        " (61, -0.086322489240837491),\n",
        " (119, -0.10494942266090973),\n",
        " (46, -0.10499256287733978),\n",
        " (22, -0.11525019457996143),\n",
        " (41, -0.11648324232210076),\n",
        " (140, -0.11745927609627979),\n",
        " (29, -0.12054135149986167),\n",
        " (73, -0.13939945697772266),\n",
        " (105, -0.17630467500808111),\n",
        " (53, -0.18065855750822901)]"
       ]
      }
     ],
     "prompt_number": 13
    },
    {
     "cell_type": "code",
     "collapsed": false,
     "input": [
      "103, 138, 54, 52, 7\n",
      "127, 52, 115, 54, 7\n",
      "138,142, 54, 99, 60\n",
      "138, 146, 144, 148, 78"
     ],
     "language": "python",
     "metadata": {},
     "outputs": []
    }
   ],
   "metadata": {}
  }
 ]
}