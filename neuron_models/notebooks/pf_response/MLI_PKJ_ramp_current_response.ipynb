{
 "metadata": {
  "name": ""
 },
 "nbformat": 3,
 "nbformat_minor": 0,
 "worksheets": [
  {
   "cells": [
    {
     "cell_type": "markdown",
     "metadata": {},
     "source": [
      "<h2>MLI-PKJ net ramp current response<h2>"
     ]
    },
    {
     "cell_type": "markdown",
     "metadata": {},
     "source": [
      "The purpose of this experiment is to explore the response of the neurons in the network when they all receive increasing amounts of depolarizing current simultaneously."
     ]
    },
    {
     "cell_type": "code",
     "collapsed": true,
     "input": [
      "%load_ext autoreload\n",
      "%autoreload 2\n",
      "import datetime\n",
      "import os\n",
      "from brian import *\n",
      "import sys\n",
      "sys.path.append('../../../')\n",
      "from neuron_models import *\n",
      "import cPickle\n",
      "\n",
      "import time\n",
      "set_global_preferences(useweave=True, usenewpropagate=True, usecodegen=True, usecodegenweave=True)\n",
      "defaultclock.dt = .25*ms\n",
      "from statsmodels.tsa.stattools import acf\n",
      "from pandas import *"
     ],
     "language": "python",
     "metadata": {},
     "outputs": [
      {
       "output_type": "stream",
       "stream": "stderr",
       "text": [
        "/home/bill/anaconda/lib/python2.7/site-packages/brian/utils/sparse_patch/__init__.py:39: UserWarning: Couldn't find matching sparse matrix patch for scipy version 0.13.0, but in most cases this shouldn't be a problem.\n",
        "  warnings.warn(\"Couldn't find matching sparse matrix patch for scipy version %s, but in most cases this shouldn't be a problem.\" % scipy.__version__)\n"
       ]
      }
     ],
     "prompt_number": 1
    },
    {
     "cell_type": "code",
     "collapsed": false,
     "input": [
      "def ramp_current(t,t0,t1,I_max):\n",
      "    if t<t0: return 0.\n",
      "    elif t>t1: return I_max\n",
      "    else: return I_max/(t1-t0)*(t-t0)"
     ],
     "language": "python",
     "metadata": {},
     "outputs": [],
     "prompt_number": 2
    },
    {
     "cell_type": "code",
     "collapsed": true,
     "input": [
      "load_saved_synapses = True\n",
      "save_results = False\n",
      "\n",
      "T = 5*second\n",
      "N_MLI = 160\n",
      "N_PKJ = 16\n",
      "MLI = MLIGroup(N_MLI)\n",
      "PKJ = PurkinjeCellGroup(N_PKJ)"
     ],
     "language": "python",
     "metadata": {},
     "outputs": [
      {
       "output_type": "stream",
       "stream": "stderr",
       "text": [
        "brian.stateupdater: WARNING  Using codegen CStateUpdater\n"
       ]
      },
      {
       "output_type": "stream",
       "stream": "stderr",
       "text": [
        "brian.stateupdater: WARNING  Using codegen CStateUpdater\n"
       ]
      }
     ],
     "prompt_number": 3
    },
    {
     "cell_type": "code",
     "collapsed": false,
     "input": [
      "# synaptic weights\n",
      "w_mli_pkj = 1.25\n",
      "w_mli_mli = 1.\n",
      "w_pkj_mli = 1.\n",
      "\n",
      "# Synapses\n",
      "S_MLI_PKJ = Synapses(MLI,PKJ,model='w:1',pre='g_inh+=PKJ.g_inh_*w')\n",
      "S_MLI_MLI = Synapses(MLI,MLI,model='w:1',pre='g_inh+=MLI.g_inh_*w')\n",
      "S_PKJ_MLI = Synapses(PKJ,MLI,model='w:1',pre='g_inh+=MLI.g_inh_*w')\n",
      "\n",
      "# Connections\n",
      "if load_saved_synapses:\n",
      "    syn_dir = '/media/Data/research/paper #1/synapses/'\n",
      "    S_MLI_PKJ = load_synapses(S_MLI_PKJ, 'S_MLI_PKJ', syn_dir)\n",
      "    S_MLI_MLI = load_synapses(S_MLI_MLI, 'S_MLI_MLI', syn_dir)\n",
      "    S_PKJ_MLI = load_synapses(S_PKJ_MLI, 'S_PKJ_MLI', syn_dir)\n",
      "else:\n",
      "    connect_mli_pkj(S_MLI_PKJ,pkj_dist=8,syn_prob=.25)\n",
      "    connect_mli_mli(S_MLI_MLI,dist=80,syn_prob=.05)\n",
      "    S_PKJ_MLI[:,:] = '((j/(N_MLI/N_PKJ)-i)%N_PKJ <= 2) & ((j/(N_MLI/N_PKJ)-i)%N_PKJ > 0) & (j%(N_MLI/N_PKJ)<3) & (rand()<.5)'\n",
      "    S_MLI_PKJ.w[:,:] = 'rand()*w_mli_pkj'\n",
      "    S_MLI_MLI.w[:,:] = 'rand()*w_mli_mli'\n",
      "    S_PKJ_MLI.w[:,:] = 'rand()*w_pkj_mli'\n",
      "\n",
      "\n",
      "print 'Convergences'\n",
      "print 'MLI->PKJ convergence: ', len(S_MLI_PKJ)/float(N_PKJ)\n",
      "print 'MLI->MLI convergence: ', len(S_MLI_MLI)/float(N_MLI)\n",
      "print 'PKJ->MLI-BS convergence: ', len(S_PKJ_MLI)/(float(N_MLI))\n",
      "print '\\nDivergences'\n",
      "print 'MLI->PKJ divergence: ', len(S_MLI_PKJ)/float(N_MLI)\n",
      "print 'MLI->MLI divergence: ', len(S_MLI_MLI)/float(N_MLI)\n",
      "print 'PKJ->MLI-BS divergence: ', len(S_PKJ_MLI)/float(N_PKJ)"
     ],
     "language": "python",
     "metadata": {},
     "outputs": [
      {
       "output_type": "stream",
       "stream": "stdout",
       "text": [
        "Convergences\n",
        "MLI->PKJ convergence:  19.125\n",
        "MLI->MLI convergence: "
       ]
      },
      {
       "output_type": "stream",
       "stream": "stdout",
       "text": [
        " 4.15\n",
        "PKJ->MLI-BS convergence:  0.275\n",
        "\n",
        "Divergences"
       ]
      },
      {
       "output_type": "stream",
       "stream": "stdout",
       "text": [
        "\n",
        "MLI->PKJ divergence:  1.9125\n",
        "MLI->MLI divergence: "
       ]
      },
      {
       "output_type": "stream",
       "stream": "stdout",
       "text": [
        " 4.15\n",
        "PKJ->MLI-BS divergence:  2.75\n"
       ]
      }
     ],
     "prompt_number": 4
    },
    {
     "cell_type": "code",
     "collapsed": false,
     "input": [
      "d_mli = rand(N_MLI)\n",
      "d_pkj = rand(N_PKJ)\n",
      "@network_operation(Clock(dt=defaultclock.dt))\n",
      "def random_current():\n",
      "    PKJ.I = gamma(0.430303,0.195962,size=len(PKJ))*nA + ramp_current(defaultclock.t,2*second,3*second,.15*nA)*d_pkj\n",
      "    MLI.I = gamma(3.966333,0.006653,size=len(MLI))*nA + ramp_current(defaultclock.t,2*second,3*second,.07*nA)*d_mli"
     ],
     "language": "python",
     "metadata": {},
     "outputs": [],
     "prompt_number": 5
    },
    {
     "cell_type": "code",
     "collapsed": false,
     "input": [
      "# Monitor\n",
      "MS_MLI = SpikeMonitor(MLI)\n",
      "MR_MLI = PopulationRateMonitor(MLI,bin=1*ms)\n",
      "MISI_MLI = ISIHistogramMonitor(MLI,bins=arange(0,162,2)*ms)\n",
      "MV_MLI = StateMonitor(MLI, 'V', record=range(N_MLI))\n",
      "\n",
      "MS_PKJ = SpikeMonitor(PKJ)\n",
      "MR_PKJ = PopulationRateMonitor(PKJ,bin=1*ms)\n",
      "MISI_PKJ = ISIHistogramMonitor(PKJ,bins=arange(0,162,2)*ms)\n",
      "MV_PKJ = StateMonitor(PKJ, 'V', record=range(N_PKJ))\n",
      "\n",
      "start = time.time()\n",
      "run(T)\n",
      "print time.time() - start"
     ],
     "language": "python",
     "metadata": {},
     "outputs": [
      {
       "output_type": "stream",
       "stream": "stdout",
       "text": [
        "15.2524859905\n"
       ]
      }
     ],
     "prompt_number": 6
    },
    {
     "cell_type": "code",
     "collapsed": false,
     "input": [
      "if save_results: \n",
      "    # save monitors for reproducibility\n",
      "    monitors = {'MS_MLI':MS_MLI, 'MR_MLI':MR_MLI, 'MISI_MLI':MISI_MLI, 'MV_MLI':MV_MLI, 'MS_PKJ':MS_PKJ, 'MR_PKJ':MR_PKJ, 'MISI_PKJ':MISI_PKJ, 'MV_PKJ':MV_PKJ}\n",
      "    out_dir = '/media/Data/research/paper #1/monitors/'\n",
      "    for name, mon in monitors.iteritems():\n",
      "        cPickle.dump(mon, open(out_dir+'%s.pkl'%name,'w'))\n",
      "        \n",
      "    # save connections for reproducibility\n",
      "    syn_dir = '/media/Data/research/paper #1/synapses/'\n",
      "    save_synapses(S_MLI_PKJ, 'S_MLI_PKJ', syn_dir)\n",
      "    save_synapses(S_MLI_MLI, 'S_MLI_MLI', syn_dir)\n",
      "    save_synapses(S_PKJ_MLI, 'S_PKJ_MLI', syn_dir)"
     ],
     "language": "python",
     "metadata": {},
     "outputs": [],
     "prompt_number": 7
    },
    {
     "cell_type": "code",
     "collapsed": false,
     "input": [
      "l = array([1,2,3,4])\n",
      "l[(l<4) & (l>1)]"
     ],
     "language": "python",
     "metadata": {},
     "outputs": [
      {
       "metadata": {},
       "output_type": "pyout",
       "prompt_number": 8,
       "text": [
        "array([2, 3])"
       ]
      }
     ],
     "prompt_number": 8
    },
    {
     "cell_type": "code",
     "collapsed": false,
     "input": [
      "def mean_frs(spike_monitor, N, t1, t2):\n",
      "    frs = []\n",
      "    for i in range(N):\n",
      "        spiketimes = spike_monitor.spiketimes[i]\n",
      "        spiketimes = spiketimes[(spiketimes>=t1)&(spiketimes<t2)]\n",
      "        fr = mean(diff(spiketimes)**-1)\n",
      "        if not isnan(fr):\n",
      "            frs.append(fr)\n",
      "    return frs"
     ],
     "language": "python",
     "metadata": {},
     "outputs": [],
     "prompt_number": 9
    },
    {
     "cell_type": "code",
     "collapsed": false,
     "input": [
      "figure()\n",
      "hist(mean_frs(MS_MLI,N_MLI,0,2),15,alpha=.4,color='#8C2318', edgecolor='w')\n",
      "hist(mean_frs(MS_MLI,N_MLI,4,5),15,alpha=.4,color='#0B486B', edgecolor='w')\n",
      "\n",
      "figure()\n",
      "hist(mean_frs(MS_PKJ,N_PKJ,0,2),15,alpha=.4,color='#8C2318', edgecolor='w')\n",
      "hist(mean_frs(MS_PKJ,N_PKJ,4,5),15,alpha=.4,color='#0B486B', edgecolor='w')"
     ],
     "language": "python",
     "metadata": {},
     "outputs": [
      {
       "metadata": {},
       "output_type": "pyout",
       "prompt_number": 10,
       "text": [
        "(array([ 1.,  0.,  0.,  0.,  1.,  0.,  1.,  2.,  1.,  1.,  1.,  3.,  1.,\n",
        "        2.,  1.]),\n",
        " array([  3.87596899,   8.49412487,  13.11228075,  17.73043663,\n",
        "        22.34859251,  26.96674839,  31.58490427,  36.20306015,\n",
        "        40.82121603,  45.4393719 ,  50.05752778,  54.67568366,\n",
        "        59.29383954,  63.91199542,  68.5301513 ,  73.14830718]),\n",
        " <a list of 15 Patch objects>)"
       ]
      },
      {
       "metadata": {},
       "output_type": "display_data",
       "png": "[encoded data removed]",
       "text": [
        "<matplotlib.figure.Figure at 0x7b63890>"
       ]
      },
      {
       "metadata": {},
       "output_type": "display_data",
       "png": "[encoded data removed]",
       "text": [
        "<matplotlib.figure.Figure at 0x9d28b50>"
       ]
      }
     ],
     "prompt_number": 10
    },
    {
     "cell_type": "code",
     "collapsed": false,
     "input": [
      "# plot histogram\n",
      "fig = figure(figsize=(16,4), dpi=600)\n",
      "ax = fig.add_subplot(121)\n",
      "ax.hist([mean(diff(MS_MLI.spiketimes[i][MS_MLI.spiketimes[i]<2]))**-1 for i in range(N_MLI)],15,color='#8C2318', edgecolor='w')\n",
      "simpleaxis(ax)\n",
      "tick_params(labelsize=20)\n",
      "xlabel('Mean firing rate (Hz)', fontsize=20)\n",
      "ylabel('Number of cells', fontsize=20, labelpad=10)\n",
      "#title('MLI mean firing rates', fontsize=20)\n",
      "\n",
      "ax = fig.add_subplot(122)\n",
      "counts, bins, _ = ax.hist([mean(diff(MS_PKJ.spiketimes[i]))**-1 for i in range(N_PKJ)],9,color='#0B486B',edgecolor='w')\n",
      "simpleaxis(ax)\n",
      "tick_params(labelsize=20)\n",
      "xlabel('Mean firing rate (Hz)', fontsize=20)\n",
      "ylabel('Number of cells', fontsize=20, labelpad=10)\n",
      "#title('PKJ mean firing rates', fontsize=20)\n",
      "yticks(range(int(counts.max()+1)))\n",
      "\n",
      "fig.subplots_adjust(wspace=.3)\n",
      "#fig.savefig('/media/Data/research/paper #1/population_rate_histograms_color.png')"
     ],
     "language": "python",
     "metadata": {},
     "outputs": []
    },
    {
     "cell_type": "code",
     "collapsed": false,
     "input": [],
     "language": "python",
     "metadata": {},
     "outputs": []
    }
   ],
   "metadata": {}
  }
 ]
}