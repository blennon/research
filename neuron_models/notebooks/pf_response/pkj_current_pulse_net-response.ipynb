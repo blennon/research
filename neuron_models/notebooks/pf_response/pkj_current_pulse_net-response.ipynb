{
 "metadata": {
  "name": ""
 },
 "nbformat": 3,
 "nbformat_minor": 0,
 "worksheets": [
  {
   "cells": [
    {
     "cell_type": "markdown",
     "metadata": {},
     "source": [
      "<h2>PKJ current pulse, network response<h2>"
     ]
    },
    {
     "cell_type": "markdown",
     "metadata": {},
     "source": [
      "This experiment will measure the response of all the neurons in the network in response to a current pulse injected into a single neuron."
     ]
    },
    {
     "cell_type": "code",
     "collapsed": true,
     "input": [
      "%load_ext autoreload\n",
      "%autoreload 2\n",
      "import datetime\n",
      "import os\n",
      "from brian import *\n",
      "import sys\n",
      "sys.path.append('../../../')\n",
      "from neuron_models import *\n",
      "import cPickle\n",
      "\n",
      "import time\n",
      "set_global_preferences(useweave=True, usenewpropagate=True, usecodegen=True, usecodegenweave=True)\n",
      "defaultclock.dt = .25*ms\n",
      "from statsmodels.tsa.stattools import acf\n",
      "from pandas import *"
     ],
     "language": "python",
     "metadata": {},
     "outputs": [
      {
       "output_type": "stream",
       "stream": "stderr",
       "text": [
        "/home/bill/anaconda/lib/python2.7/site-packages/brian/utils/sparse_patch/__init__.py:39: UserWarning: Couldn't find matching sparse matrix patch for scipy version 0.13.0, but in most cases this shouldn't be a problem.\n",
        "  warnings.warn(\"Couldn't find matching sparse matrix patch for scipy version %s, but in most cases this shouldn't be a problem.\" % scipy.__version__)\n"
       ]
      }
     ],
     "prompt_number": 1
    },
    {
     "cell_type": "code",
     "collapsed": false,
     "input": [
      "def step_current(t,t0,t1,I_max):\n",
      "    if t<=t0 or t>t1: return 0.\n",
      "    else: return I_max"
     ],
     "language": "python",
     "metadata": {},
     "outputs": [],
     "prompt_number": 2
    },
    {
     "cell_type": "code",
     "collapsed": true,
     "input": [
      "load_saved_synapses = True\n",
      "save_results = False\n",
      "\n",
      "T = 1.5*second\n",
      "N_MLI = 160\n",
      "N_PKJ = 16\n",
      "MLI = MLIGroup(N_MLI)\n",
      "PKJ = PurkinjeCellGroup(N_PKJ)"
     ],
     "language": "python",
     "metadata": {},
     "outputs": [
      {
       "output_type": "stream",
       "stream": "stderr",
       "text": [
        "brian.stateupdater: WARNING  Using codegen CStateUpdater\n"
       ]
      },
      {
       "output_type": "stream",
       "stream": "stderr",
       "text": [
        "brian.stateupdater: WARNING  Using codegen CStateUpdater\n"
       ]
      }
     ],
     "prompt_number": 3
    },
    {
     "cell_type": "code",
     "collapsed": false,
     "input": [
      "# synaptic weights\n",
      "w_mli_pkj = 1.25\n",
      "w_mli_mli = 1.\n",
      "w_pkj_mli = 1.\n",
      "\n",
      "# Synapses\n",
      "S_MLI_PKJ = Synapses(MLI,PKJ,model='w:1',pre='g_inh+=PKJ.g_inh_*w')\n",
      "S_MLI_MLI = Synapses(MLI,MLI,model='w:1',pre='g_inh+=MLI.g_inh_*w')\n",
      "S_PKJ_MLI = Synapses(PKJ,MLI,model='w:1',pre='g_inh+=MLI.g_inh_*w')\n",
      "\n",
      "# Connections\n",
      "if load_saved_synapses:\n",
      "    syn_dir = '/media/Data/research/paper #1/synapses/'\n",
      "    S_MLI_PKJ = load_synapses(S_MLI_PKJ, 'S_MLI_PKJ', syn_dir)\n",
      "    S_MLI_MLI = load_synapses(S_MLI_MLI, 'S_MLI_MLI', syn_dir)\n",
      "    S_PKJ_MLI = load_synapses(S_PKJ_MLI, 'S_PKJ_MLI', syn_dir)\n",
      "else:\n",
      "    connect_mli_pkj(S_MLI_PKJ,pkj_dist=8,syn_prob=.25)\n",
      "    connect_mli_mli(S_MLI_MLI,dist=80,syn_prob=.05)\n",
      "    S_PKJ_MLI[:,:] = '((j/(N_MLI/N_PKJ)-i)%N_PKJ <= 2) & ((j/(N_MLI/N_PKJ)-i)%N_PKJ > 0) & (j%(N_MLI/N_PKJ)<3) & (rand()<.5)'\n",
      "    S_MLI_PKJ.w[:,:] = 'rand()*w_mli_pkj'\n",
      "    S_MLI_MLI.w[:,:] = 'rand()*w_mli_mli'\n",
      "    S_PKJ_MLI.w[:,:] = 'rand()*w_pkj_mli'\n",
      "\n",
      "\n",
      "print 'Convergences'\n",
      "print 'MLI->PKJ convergence: ', len(S_MLI_PKJ)/float(N_PKJ)\n",
      "print 'MLI->MLI convergence: ', len(S_MLI_MLI)/float(N_MLI)\n",
      "print 'PKJ->MLI-BS convergence: ', len(S_PKJ_MLI)/(float(N_MLI))\n",
      "print '\\nDivergences'\n",
      "print 'MLI->PKJ divergence: ', len(S_MLI_PKJ)/float(N_MLI)\n",
      "print 'MLI->MLI divergence: ', len(S_MLI_MLI)/float(N_MLI)\n",
      "print 'PKJ->MLI-BS divergence: ', len(S_PKJ_MLI)/float(N_PKJ)"
     ],
     "language": "python",
     "metadata": {},
     "outputs": [
      {
       "output_type": "stream",
       "stream": "stdout",
       "text": [
        "Convergences\n",
        "MLI->PKJ convergence:  19.125\n",
        "MLI->MLI convergence: "
       ]
      },
      {
       "output_type": "stream",
       "stream": "stdout",
       "text": [
        " 4.15\n",
        "PKJ->MLI-BS convergence:  0.275\n",
        "\n",
        "Divergences"
       ]
      },
      {
       "output_type": "stream",
       "stream": "stdout",
       "text": [
        "\n",
        "MLI->PKJ divergence:  1.9125\n",
        "MLI->MLI divergence: "
       ]
      },
      {
       "output_type": "stream",
       "stream": "stdout",
       "text": [
        " 4.15\n",
        "PKJ->MLI-BS divergence:  2.75\n"
       ]
      }
     ],
     "prompt_number": 4
    },
    {
     "cell_type": "code",
     "collapsed": false,
     "input": [
      "#d_mli = rand(N_MLI)\n",
      "d_pkj = zeros(N_PKJ)\n",
      "d_pkj[7] = 1.\n",
      "@network_operation(Clock(dt=defaultclock.dt))\n",
      "def random_current():\n",
      "    PKJ.I = gamma(0.430303,0.195962,size=len(PKJ))*nA + step_current(defaultclock.t,500*ms,1*second,.15*nA)*d_pkj\n",
      "    MLI.I = gamma(3.966333,0.006653,size=len(MLI))*nA #+ ramp_current(defaultclock.t,2*second,3*second,.07*nA)*d_mli"
     ],
     "language": "python",
     "metadata": {},
     "outputs": [],
     "prompt_number": 5
    },
    {
     "cell_type": "code",
     "collapsed": false,
     "input": [
      "# Monitor\n",
      "MS_MLI = SpikeMonitor(MLI)\n",
      "#MR_MLI = PopulationRateMonitor(MLI,bin=1*ms)\n",
      "#MISI_MLI = ISIHistogramMonitor(MLI,bins=arange(0,162,2)*ms)\n",
      "#MV_MLI = StateMonitor(MLI, 'V', record=range(N_MLI))\n",
      "\n",
      "MS_PKJ = SpikeMonitor(PKJ)\n",
      "#MR_PKJ = PopulationRateMonitor(PKJ,bin=1*ms)\n",
      "#MISI_PKJ = ISIHistogramMonitor(PKJ,bins=arange(0,162,2)*ms)\n",
      "#MV_PKJ = StateMonitor(PKJ, 'V', record=range(N_PKJ))\n",
      "\n",
      "start = time.time()\n",
      "run(T)\n",
      "print time.time() - start"
     ],
     "language": "python",
     "metadata": {},
     "outputs": [
      {
       "output_type": "stream",
       "stream": "stdout",
       "text": [
        "2.6494820118\n"
       ]
      }
     ],
     "prompt_number": 6
    },
    {
     "cell_type": "code",
     "collapsed": false,
     "input": [
      "def mean_frs(spike_monitor, t1, t2):\n",
      "    frs = []\n",
      "    for i in range(len(spike_monitor.spiketimes)):\n",
      "        spiketimes = spike_monitor.spiketimes[i]\n",
      "        spiketimes = spiketimes[(spiketimes>=t1)&(spiketimes<t2)]\n",
      "        fr = mean(diff(spiketimes)**-1)\n",
      "        frs.append(nan_to_num(fr))\n",
      "    return array(frs)"
     ],
     "language": "python",
     "metadata": {},
     "outputs": [],
     "prompt_number": 7
    },
    {
     "cell_type": "code",
     "collapsed": false,
     "input": [
      "def extract_fr_frames(spike_monitor,dt,win_len,tfinal):\n",
      "    i = 0\n",
      "    frames = []\n",
      "    while dt*i+win_len<=tfinal:\n",
      "        frames.append(mean_frs(spike_monitor,dt*i,dt*i+win_len))\n",
      "        i+=1\n",
      "    return frames"
     ],
     "language": "python",
     "metadata": {},
     "outputs": [],
     "prompt_number": 8
    },
    {
     "cell_type": "code",
     "collapsed": false,
     "input": [
      "pkj_frames_baseline = extract_fr_frames(MS_PKJ,10e-3,100e-3,.5)\n",
      "pkj_baseline = mean(squeeze(pkj_frames_baseline),axis=0)\n",
      "pkj_frames = extract_fr_frames(MS_PKJ,10e-3,100e-3,1.5)\n",
      "pkj_frames_norm = [fr-pkj_baseline for fr in pkj_frames]"
     ],
     "language": "python",
     "metadata": {},
     "outputs": [],
     "prompt_number": 9
    },
    {
     "cell_type": "code",
     "collapsed": false,
     "input": [
      "from matplotlib.animation import FuncAnimation\n",
      "\n",
      "def update(data):\n",
      "    line.set_data(range(data.shape[0]),data)\n",
      "    return mat \n",
      "\n",
      "fig, ax = subplots()\n",
      "line, = ax.plot(pkj_frames_norm[0])\n",
      "ylim([-20,50])\n",
      "#plt.colorbar(mat)\n",
      "ani = FuncAnimation(fig, update, pkj_frames_norm, interval=250)\n",
      "ani.save('pkj_response.mp4')#, fps=5, bitrate=1000)"
     ],
     "language": "python",
     "metadata": {},
     "outputs": [
      {
       "metadata": {},
       "output_type": "display_data",
       "png": "[encoded data removed]",
       "text": [
        "<matplotlib.figure.Figure at 0x78bb7d0>"
       ]
      }
     ],
     "prompt_number": 11
    },
    {
     "cell_type": "code",
     "collapsed": false,
     "input": [
      "%pylab qt\n",
      "from mpl_toolkits.mplot3d import Axes3D\n",
      "from matplotlib import cm as colormap\n",
      "fig = figure(figsize=(12,10))\n",
      "ax = fig.gca(projection='3d')\n",
      "X = arange(0,16,1)\n",
      "Y = arange(0,len(pkj_frames),1)\n",
      "X, Y = meshgrid(X,Y)\n",
      "Z = squeeze(pkj_frames_norm)\n",
      "surf = ax.plot_surface(X,Y,Z, rstride=1,cstride=1,cmap=colormap.coolwarm,linewidth=0,antialiased=False)\n",
      "ax.view_init(30, 60)"
     ],
     "language": "python",
     "metadata": {},
     "outputs": [
      {
       "output_type": "stream",
       "stream": "stdout",
       "text": [
        "Populating the interactive namespace from numpy and matplotlib\n"
       ]
      }
     ],
     "prompt_number": 13
    },
    {
     "cell_type": "code",
     "collapsed": false,
     "input": [
      "pkj_activity = squeeze(pkj_frames_norm)\n",
      "for i in range(N_PKJ):\n",
      "    print i, correlate(pkj_activity[:,7], pkj_activity[:,i])[0]/correlate(pkj_activity[:,7], pkj_activity[:,7])[0]"
     ],
     "language": "python",
     "metadata": {},
     "outputs": [
      {
       "output_type": "stream",
       "stream": "stdout",
       "text": [
        "0 0.0139732357195\n",
        "1 0.0690937239337\n",
        "2 0.0355200479103\n",
        "3 0.153793609977\n",
        "4 0.060028259902\n",
        "5 0.0553987593127\n",
        "6 -0.0637487938081\n",
        "7 1.0\n",
        "8 0.00423683557487\n",
        "9 -0.0399641730351\n",
        "10 -0.0427255953583\n",
        "11 0.0463765290836\n",
        "12 0.107486037641\n",
        "13 -0.0504210001444\n",
        "14 0.0257814149825\n",
        "15 -0.00488429328684\n"
       ]
      }
     ],
     "prompt_number": 10
    },
    {
     "cell_type": "code",
     "collapsed": false,
     "input": [],
     "language": "python",
     "metadata": {},
     "outputs": []
    }
   ],
   "metadata": {}
  }
 ]
}