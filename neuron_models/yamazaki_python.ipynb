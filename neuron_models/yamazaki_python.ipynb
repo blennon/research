{
 "metadata": {
  "name": "yamazaki_python"
 },
 "nbformat": 3,
 "nbformat_minor": 0,
 "worksheets": [
  {
   "cells": [
    {
     "cell_type": "code",
     "collapsed": false,
     "input": [
      "spikes1 = rand(800)\n",
      "spikes1[spikes1>.5] = 1.\n",
      "spikes1[spikes1<=.5] = 0.\n",
      "spikes2 = rand(200)\n",
      "spikes2[spikes2>.9] = 1.\n",
      "spikes2[spikes2<=.9] = 0.\n",
      "spikes = hstack((spikes1,spikes2,zeros(1000)))"
     ],
     "language": "python",
     "metadata": {},
     "outputs": [],
     "prompt_number": 1
    },
    {
     "cell_type": "code",
     "collapsed": false,
     "input": [
      "from brian import *\n",
      "from granular_layer import *\n",
      "defaultclock.dt = 1.*ms"
     ],
     "language": "python",
     "metadata": {},
     "outputs": [],
     "prompt_number": 1
    },
    {
     "cell_type": "code",
     "collapsed": false,
     "input": [
      "C_GO = 28.0\n",
      "R_GO = 0.428\n",
      "E_leak_GO = -55.0\n",
      "g_leak_GO = 2.3#(1.0/(R_GO))\n",
      "E_ex_GO = 0.0\n",
      "g_ex_GO = 45.5\n",
      "E_ahp_GO = -72.7\n",
      "g_ahp_GO = 20.0\n",
      "tau_ampa_gogr = 1.5\n",
      "tau1_nmda_gogr = 31.0\n",
      "tau2_nmda_gogr = 170.0\n",
      "r_ampa_gogr = 0.8\n",
      "r1_nmda_gogr = (0.2*0.33)\n",
      "r2_nmda_gogr = (0.2*0.67)\n",
      "tau_ahp_go = 5.0\n",
      "TH_GO = -52.\n",
      "\n",
      "dt = 1.\n",
      "decay_ampa_gogr = exp(-dt/tau_ampa_gogr)\n",
      "decay1_nmda_gogr = exp(-dt/tau1_nmda_gogr)\n",
      "decay2_nmda_gogr = exp(-dt/tau2_nmda_gogr)\n",
      "decay_ahp_go = exp(-dt/tau_ahp_go)\n",
      "\n",
      "conn_weight_gogr = 2./(49.*100)"
     ],
     "language": "python",
     "metadata": {},
     "outputs": [],
     "prompt_number": 2
    },
    {
     "cell_type": "code",
     "collapsed": false,
     "input": [
      "def update_u(u,g_gogr,ahp_go):\n",
      "    dudt = (1./C_GO)*(-g_leak_GO*(u-E_leak_GO)\n",
      "                    -g_ex_GO*g_gogr*(u-E_ex_GO)\n",
      "                    -g_ahp_GO*ahp_go*(u-E_ahp_GO))\n",
      "    return u + dudt*dt"
     ],
     "language": "python",
     "metadata": {},
     "outputs": [],
     "prompt_number": 3
    },
    {
     "cell_type": "code",
     "collapsed": false,
     "input": [
      "spikes = rand(200)\n",
      "spikes[spikes>.98] = 1.\n",
      "spikes[spikes<=.98] = 0."
     ],
     "language": "python",
     "metadata": {},
     "outputs": [],
     "prompt_number": 4
    },
    {
     "cell_type": "code",
     "collapsed": false,
     "input": [
      "spikes = zeros(200)\n",
      "spikes[50] = 1.\n",
      "spikes[100] = 1.\n",
      "spikes[150]=1."
     ],
     "language": "python",
     "metadata": {},
     "outputs": [],
     "prompt_number": 5
    },
    {
     "cell_type": "code",
     "collapsed": false,
     "input": [
      "u = [E_leak_GO]\n",
      "psp_gr_ampa = [0.]\n",
      "psp_gr_nmda1 = [0.]\n",
      "psp_gr_nmda2 = [0.]\n",
      "psp_gr = [0.]\n",
      "ahp_go = [0.]\n",
      "g_gogr = [0.]\n",
      "GO_spikes = [0.]\n",
      "for s in spikes:\n",
      "    psp_gr_ampa.append(psp_gr_ampa[-1] * decay_ampa_gogr + s)\n",
      "    psp_gr_nmda1.append(psp_gr_nmda1[-1] * decay1_nmda_gogr + s)\n",
      "    psp_gr_nmda2.append(psp_gr_nmda2[-1] * decay2_nmda_gogr + s)\n",
      "    psp_gr.append(r_ampa_gogr*psp_gr_ampa[-1]+\n",
      "                  r1_nmda_gogr*psp_gr_nmda1[-1]+\n",
      "                  r2_nmda_gogr*psp_gr_nmda2[-1])\n",
      "    g_gogr.append(conn_weight_gogr*psp_gr[-1])\n",
      "    \n",
      "    if GO_spikes[-1] == 1.:\n",
      "        ahp_go.append(1.)\n",
      "    else:\n",
      "        ahp_go.append(ahp_go[-1]*decay_ahp_go)\n",
      "        \n",
      "    new_u = update_u(u[-1],g_gogr[-1],ahp_go[-1])\n",
      "    if new_u > TH_GO:\n",
      "        u.append(E_leak_GO)\n",
      "        GO_spikes.append(1.)\n",
      "    else:\n",
      "        u.append(new_u)\n",
      "        GO_spikes.append(0.)\n",
      "    "
     ],
     "language": "python",
     "metadata": {},
     "outputs": [],
     "prompt_number": 6
    },
    {
     "cell_type": "code",
     "collapsed": false,
     "input": [
      "GO = GolgiCellGroup(1)\n",
      "GO.V = GO.El\n",
      "GO.gahp = 0. * nsiemens\n",
      "GR = SpikeGeneratorGroup(1,[(0,t * ms) for t in nonzero(spikes)[0]])\n",
      "S_GR_GO = Synapses(GR,GO,model='w:1',pre='g_ampa+=GO.g_ampa_*conn_weight_gogr;g_nmda1+=GO.g_ampa_*conn_weight_gogr;g_nmda2+=GO.g_ampa_*conn_weight_gogr')\n",
      "S_GR_GO.connect_one_to_one()"
     ],
     "language": "python",
     "metadata": {},
     "outputs": [],
     "prompt_number": 7
    },
    {
     "cell_type": "code",
     "collapsed": false,
     "input": [
      "M_V = StateMonitor(GO,'V',record=0)\n",
      "run(200*ms)"
     ],
     "language": "python",
     "metadata": {},
     "outputs": [],
     "prompt_number": 8
    },
    {
     "cell_type": "code",
     "collapsed": false,
     "input": [
      "close('all')\n",
      "figure(1)\n",
      "subplot(311)\n",
      "plot(u)\n",
      "subplot(312)\n",
      "plot(GO_spikes)\n",
      "subplot(313)\n",
      "plot(spikes)\n",
      "figure(1)\n",
      "subplot(311)\n",
      "plot(M_V.times / ms, M_V[0] / mV)"
     ],
     "language": "python",
     "metadata": {},
     "outputs": [
      {
       "output_type": "pyout",
       "prompt_number": 9,
       "text": [
        "[<matplotlib.lines.Line2D at 0x5529150>]"
       ]
      }
     ],
     "prompt_number": 9
    },
    {
     "cell_type": "code",
     "collapsed": false,
     "input": [
      "norm(M_V[0]/mV-array(u)[:-1])"
     ],
     "language": "python",
     "metadata": {},
     "outputs": [
      {
       "output_type": "pyout",
       "prompt_number": 10,
       "text": [
        "0.0039290661939509293"
       ]
      }
     ],
     "prompt_number": 10
    },
    {
     "cell_type": "code",
     "collapsed": false,
     "input": [],
     "language": "python",
     "metadata": {},
     "outputs": [],
     "prompt_number": 10
    },
    {
     "cell_type": "code",
     "collapsed": false,
     "input": [],
     "language": "python",
     "metadata": {},
     "outputs": []
    }
   ],
   "metadata": {}
  }
 ]
}