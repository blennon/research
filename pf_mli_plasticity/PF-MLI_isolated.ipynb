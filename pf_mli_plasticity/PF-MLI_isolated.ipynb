{
 "metadata": {
  "name": "",
  "signature": "sha256:4dabc7291f7565f4e28ccd5a87aa87b74e31986f247457830591b73068fb8c76"
 },
 "nbformat": 3,
 "nbformat_minor": 0,
 "worksheets": [
  {
   "cells": [
    {
     "cell_type": "code",
     "collapsed": false,
     "input": [
      "from rate_model import *"
     ],
     "language": "python",
     "metadata": {},
     "outputs": [],
     "prompt_number": 1
    },
    {
     "cell_type": "code",
     "collapsed": false,
     "input": [
      "MLI0 = .5\n",
      "alpha = 1./(4+MLI0)\n",
      "delta = alpha*MLI0"
     ],
     "language": "python",
     "metadata": {},
     "outputs": [],
     "prompt_number": 2
    },
    {
     "cell_type": "code",
     "collapsed": false,
     "input": [
      "MLI = NeuronGroup(1, array([MLI0]))\n",
      "PF = NeuronGroup(3)\n",
      "CF = NeuronGroup(1)"
     ],
     "language": "python",
     "metadata": {},
     "outputs": [
      {
       "output_type": "stream",
       "stream": "stdout",
       "text": [
        "[ 0.]\n",
        "[ 0.5]\n",
        "[ 0.  0.  0.]\n",
        "[ 0.]\n"
       ]
      }
     ],
     "prompt_number": 29
    },
    {
     "cell_type": "code",
     "collapsed": false,
     "input": [
      "MLI_recorder = RecordState(MLI)\n",
      "PF_recorder = RecordState(PF)\n",
      "CF_recorder = RecordState(CF)"
     ],
     "language": "python",
     "metadata": {},
     "outputs": [],
     "prompt_number": 30
    },
    {
     "cell_type": "code",
     "collapsed": false,
     "input": [
      "W_CF_MLI = array([1])\n",
      "W_PF_MLI = array([delta, delta, 0])\n",
      "MLI.connect(CF, W_CF_MLI)\n",
      "MLI.connect(PF, W_PF_MLI)"
     ],
     "language": "python",
     "metadata": {},
     "outputs": [],
     "prompt_number": 31
    },
    {
     "cell_type": "code",
     "collapsed": false,
     "input": [
      "for i in range(200):\n",
      "    if 50<=i<100:\n",
      "        PF.set_state(array([0,1,1]))\n",
      "    elif 100<=i<150:\n",
      "        PF.set_state(array([1,1,1]))\n",
      "    elif 150<=i<190:\n",
      "        PF.set_state(array([1,0,0]))\n",
      "    elif i>=190:\n",
      "        CF.set_state(array([1]))\n",
      "    MLI_recorder.record()\n",
      "    PF_recorder.record()\n",
      "    CF_recorder.record()"
     ],
     "language": "python",
     "metadata": {},
     "outputs": [
      {
       "output_type": "stream",
       "stream": "stdout",
       "text": [
        "[0 1 1]\n",
        "[0 1 1]\n",
        "[0 1 1]\n",
        "[0 1 1]\n",
        "[0 1 1]\n",
        "[0 1 1]\n",
        "[0 1 1]\n",
        "[0 1 1]\n",
        "[0 1 1]\n",
        "[0 1 1]\n",
        "[0 1 1]\n",
        "[0 1 1]\n",
        "[0 1 1]\n",
        "[0 1 1]\n",
        "[0 1 1]\n",
        "[0 1 1]\n",
        "[0 1 1]\n",
        "[0 1 1]\n",
        "[0 1 1]\n",
        "[0 1 1]\n",
        "[0 1 1]\n",
        "[0 1 1]\n",
        "[0 1 1]\n",
        "[0 1 1]\n",
        "[0 1 1]\n",
        "[0 1 1]\n",
        "[0 1 1]\n",
        "[0 1 1]\n",
        "[0 1 1]\n",
        "[0 1 1]\n",
        "[0 1 1]\n",
        "[0 1 1]\n",
        "[0 1 1]\n",
        "[0 1 1]\n",
        "[0 1 1]\n",
        "[0 1 1]\n",
        "[0 1 1]\n",
        "[0 1 1]\n",
        "[0 1 1]\n",
        "[0 1 1]\n",
        "[0 1 1]\n",
        "[0 1 1]\n",
        "[0 1 1]\n",
        "[0 1 1]\n",
        "[0 1 1]\n",
        "[0 1 1]\n",
        "[0 1 1]\n",
        "[0 1 1]\n",
        "[0 1 1]\n",
        "[0 1 1]\n",
        "[1 1 1]\n",
        "[1 1 1]\n",
        "[1 1 1]\n",
        "[1 1 1]\n",
        "[1 1 1]\n",
        "[1 1 1]\n",
        "[1 1 1]\n",
        "[1 1 1]\n",
        "[1 1 1]\n",
        "[1 1 1]\n",
        "[1 1 1]\n",
        "[1 1 1]\n",
        "[1 1 1]\n",
        "[1 1 1]\n",
        "[1 1 1]\n",
        "[1 1 1]\n",
        "[1 1 1]\n",
        "[1 1 1]\n",
        "[1 1 1]\n",
        "[1 1 1]\n",
        "[1 1 1]\n",
        "[1 1 1]\n",
        "[1 1 1]\n",
        "[1 1 1]\n",
        "[1 1 1]\n",
        "[1 1 1]\n",
        "[1 1 1]\n",
        "[1 1 1]\n",
        "[1 1 1]\n",
        "[1 1 1]\n",
        "[1 1 1]\n",
        "[1 1 1]\n",
        "[1 1 1]\n",
        "[1 1 1]\n",
        "[1 1 1]\n",
        "[1 1 1]\n",
        "[1 1 1]\n",
        "[1 1 1]\n",
        "[1 1 1]\n",
        "[1 1 1]\n",
        "[1 1 1]\n",
        "[1 1 1]\n",
        "[1 1 1]\n",
        "[1 1 1]\n",
        "[1 1 1]\n",
        "[1 1 1]\n",
        "[1 1 1]\n",
        "[1 1 1]\n",
        "[1 1 1]\n",
        "[1 1 1]\n",
        "[1 0 0]\n",
        "[1 0 0]\n",
        "[1 0 0]\n",
        "[1 0 0]\n",
        "[1 0 0]\n",
        "[1 0 0]\n",
        "[1 0 0]\n",
        "[1 0 0]\n",
        "[1 0 0]\n",
        "[1 0 0]\n",
        "[1 0 0]\n",
        "[1 0 0]\n",
        "[1 0 0]\n",
        "[1 0 0]\n",
        "[1 0 0]\n",
        "[1 0 0]\n",
        "[1 0 0]\n",
        "[1 0 0]\n",
        "[1 0 0]\n",
        "[1 0 0]\n",
        "[1 0 0]\n",
        "[1 0 0]\n",
        "[1 0 0]\n",
        "[1 0 0]\n",
        "[1 0 0]\n",
        "[1 0 0]\n",
        "[1 0 0]"
       ]
      },
      {
       "output_type": "stream",
       "stream": "stdout",
       "text": [
        "\n",
        "[1 0 0]\n",
        "[1 0 0]\n",
        "[1 0 0]\n",
        "[1 0 0]\n",
        "[1 0 0]\n",
        "[1 0 0]\n",
        "[1 0 0]\n",
        "[1 0 0]\n",
        "[1 0 0]\n",
        "[1 0 0]\n",
        "[1 0 0]\n",
        "[1 0 0]\n",
        "[1 0 0]\n",
        "[1]\n",
        "[1]\n",
        "[1]\n",
        "[1]\n",
        "[1]\n",
        "[1]\n",
        "[1]\n",
        "[1]\n",
        "[1]\n",
        "[1]\n"
       ]
      }
     ],
     "prompt_number": 32
    },
    {
     "cell_type": "code",
     "collapsed": false,
     "input": [
      "figure()\n",
      "plot(CF_recorder.get_recording())\n",
      "\n",
      "figure()\n",
      "plot(PF_recorder.get_recording()[0,:],'r--')\n",
      "plot(PF_recorder.get_recording()[1,:],'b--')\n",
      "plot(PF_recorder.get_recording()[2,:],'g_')\n",
      "ylim([0,2.5])\n"
     ],
     "language": "python",
     "metadata": {},
     "outputs": [
      {
       "metadata": {},
       "output_type": "pyout",
       "prompt_number": 33,
       "text": [
        "(0, 2.5)"
       ]
      },
      {
       "metadata": {},
       "output_type": "display_data",
       "png": "[encoded data removed]",
       "text": [
        "<matplotlib.figure.Figure at 0x29fef50>"
       ]
      },
      {
       "metadata": {},
       "output_type": "display_data",
       "png": "[encoded data removed]",
       "text": [
        "<matplotlib.figure.Figure at 0x2f82810>"
       ]
      }
     ],
     "prompt_number": 33
    },
    {
     "cell_type": "code",
     "collapsed": false,
     "input": [
      "plot"
     ],
     "language": "python",
     "metadata": {},
     "outputs": [
      {
       "metadata": {},
       "output_type": "pyout",
       "prompt_number": 34,
       "text": [
        "<function matplotlib.pyplot.plot>"
       ]
      }
     ],
     "prompt_number": 34
    },
    {
     "cell_type": "code",
     "collapsed": false,
     "input": [],
     "language": "python",
     "metadata": {},
     "outputs": []
    }
   ],
   "metadata": {}
  }
 ]
}