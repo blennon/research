{
 "metadata": {
  "name": "",
  "signature": "sha256:dea73f4c5cf535d8bd27fd0a5b86a66fa76be178bc375232d70919caedc49f36"
 },
 "nbformat": 3,
 "nbformat_minor": 0,
 "worksheets": [
  {
   "cells": [
    {
     "cell_type": "code",
     "collapsed": false,
     "input": [
      "from rate_model import *"
     ],
     "language": "python",
     "metadata": {},
     "outputs": [],
     "prompt_number": 35
    },
    {
     "cell_type": "code",
     "collapsed": false,
     "input": [
      "class PFMLINetwork(object):\n",
      "    '''\n",
      "    PF-MLI network consists of:\n",
      "        - 3 PFs\n",
      "        - 1 CF\n",
      "        - 1 MLI\n",
      "    '''\n",
      "    \n",
      "    def __init__(self):\n",
      "        '''\n",
      "        initialize the network\n",
      "        '''\n",
      "        # define constants\n",
      "        self.MLI0 = .5\n",
      "        self.alpha = 1./(4+self.MLI0)\n",
      "        self.delta = self.alpha*self.MLI0\n",
      "        self.beta = .01\n",
      "        \n",
      "        # create neuron groups\n",
      "        self.MLI = NeuronGroup(1, array([self.MLI0]))\n",
      "        self.PF = NeuronGroup(3)\n",
      "        self.CF = NeuronGroup(1)\n",
      "        \n",
      "        # create recorders\n",
      "        self.MLI_recorder = RecordState(self.MLI)\n",
      "        self.PF_recorder = RecordState(self.PF)\n",
      "        self.CF_recorder = RecordState(self.CF)\n",
      "        \n",
      "        # define connections\n",
      "        self.W_CF_MLI = array([1])\n",
      "        self.W_PF_MLI = array([self.delta, self.delta, 0])\n",
      "        self.MLI.connect(self.CF, self.W_CF_MLI)\n",
      "        self.MLI.connect(self.PF, self.W_PF_MLI)\n",
      "    \n",
      "    def reset_network_state(self):\n",
      "        '''\n",
      "        reset the state of all neuron groups in the network\n",
      "        '''\n",
      "        self.MLI.reset_state()\n",
      "        self.PF.reset_state()\n",
      "        self.CF.reset_state()\n",
      "        \n",
      "    def reset_recordings(self):\n",
      "        self.MLI_recorder.clear_recording()\n",
      "        self.PF_recorder.clear_recording()\n",
      "        self.CF_recorder.clear_recording()\n",
      "        \n",
      "    def reset_network(self):\n",
      "        self.reset_network_state()\n",
      "        self.reset_recordings()\n",
      "    \n",
      "    def run_net(self):\n",
      "        '''\n",
      "        run the network\n",
      "        '''\n",
      "        for i in range(250):\n",
      "            if 50<=i<100:\n",
      "                self.PF.set_state(array([0,1,1]))\n",
      "            elif 100<=i<150:\n",
      "                #self.PF.set_state(array([1,1,1]))\n",
      "                self.PF.set_state(array([0,1,1]))\n",
      "            elif 150<=i<190:\n",
      "                #self.PF.set_state(array([1,0,0]))\n",
      "                self.PF.set_state(array([0,0,0]))\n",
      "            elif 190<=i<200:\n",
      "                self.CF.set_state(array([0]))\n",
      "            elif i>=200:\n",
      "                self.CF.set_state(array([0]))\n",
      "                self.PF.set_state(array([0,0,0]))\n",
      "            self.MLI.update()\n",
      "            self.MLI_recorder.record()\n",
      "            self.PF_recorder.record()\n",
      "            self.CF_recorder.record()\n",
      "            self.update_weights()\n",
      "    \n",
      "    def update_weights(self):\n",
      "        '''\n",
      "        update the PF-MLI weights\n",
      "        '''\n",
      "        delta_w = (self.alpha*self.MLI.get_state() - self.W_PF_MLI)*self.PF.get_state()\n",
      "        self.W_PF_MLI += self.beta * delta_w        \n",
      "        \n",
      "    def get_recordings(self):\n",
      "        return self.MLI_recorder.get_recording(), self.PF_recorder.get_recording(), self.CF_recorder.get_recording()\n",
      "    "
     ],
     "language": "python",
     "metadata": {},
     "outputs": [],
     "prompt_number": 44
    },
    {
     "cell_type": "code",
     "collapsed": false,
     "input": [
      "class Connection(object):\n",
      "    '''\n",
      "    Defines a connection object between two neuron groups\n",
      "    '''\n",
      "    \n",
      "    def __init__(self, src, trg, W=None):\n",
      "        '''\n",
      "        src: source neuron group\n",
      "        trg: target neuron group\n",
      "        W: connection matrix, set to zeros if None\n",
      "        '''\n",
      "        self.src, self.trg = src, trg\n",
      "        self.state = zeros(src.N, trg.N)\n",
      "        if W is not None:\n",
      "            if W.shape != self.state.shape:\n",
      "                raise Exception('Dimensions of W do not match src x trg')\n",
      "            self.state = W\n",
      "    \n",
      "    def update(self):\n",
      "        raise NotImplementedError\n",
      "    \n",
      "    def get_state(self):\n",
      "        return self.state\n",
      "    \n",
      "    def get_source(self):\n",
      "        return self.src\n",
      "\n",
      "class PF_MLI_Connection(Connection):\n",
      "    \n",
      "    def update(self):\n",
      "        '''\n",
      "        define the update rule for this connection\n",
      "        '''\n",
      "        pass"
     ],
     "language": "python",
     "metadata": {},
     "outputs": []
    },
    {
     "cell_type": "code",
     "collapsed": false,
     "input": [
      "net = PFMLINetwork()\n",
      "net.run_net()\n",
      "MLI_rec, PF_rec, CF_rec = net.get_recordings()"
     ],
     "language": "python",
     "metadata": {},
     "outputs": [],
     "prompt_number": 45
    },
    {
     "cell_type": "code",
     "collapsed": false,
     "input": [
      "net.reset_network()\n",
      "net.run_net()\n",
      "MLI_rec, PF_rec, CF_rec = net.get_recordings()"
     ],
     "language": "python",
     "metadata": {},
     "outputs": [],
     "prompt_number": 46
    },
    {
     "cell_type": "code",
     "collapsed": false,
     "input": [
      "figure(figsize=(8,2))\n",
      "plot(MLI_rec, linewidth=2)\n",
      "title('MLI', fontsize=16)\n",
      "\n",
      "figure(figsize=(8,2))\n",
      "plot(CF_rec,'g--', linewidth=2)\n",
      "ylim([0,1.1])\n",
      "title('CF', fontsize=16)\n",
      "\n",
      "figure(figsize=(8,2))\n",
      "plot(PF_rec[0,:],'r--', linewidth=2)\n",
      "ylim([0,1.1])\n",
      "title('PF 1', fontsize=16)\n",
      "\n",
      "figure(figsize=(8,2))\n",
      "plot(PF_rec[1,:],'b--', linewidth=2)\n",
      "ylim([0,1.1])\n",
      "title('PF 2', fontsize=16)\n",
      "\n",
      "figure(figsize=(8,2))\n",
      "plot(PF_rec[2,:],'k--', linewidth=2)\n",
      "ylim([0,1.1])\n",
      "title('PF 3', fontsize=16)"
     ],
     "language": "python",
     "metadata": {},
     "outputs": [
      {
       "metadata": {},
       "output_type": "pyout",
       "prompt_number": 47,
       "text": [
        "<matplotlib.text.Text at 0x55d0750>"
       ]
      },
      {
       "metadata": {},
       "output_type": "display_data",
       "png": "[encoded data removed]",
       "text": [
        "<matplotlib.figure.Figure at 0x55beed0>"
       ]
      },
      {
       "metadata": {},
       "output_type": "display_data",
       "png": "[encoded data removed]",
       "text": [
        "<matplotlib.figure.Figure at 0x49604d0>"
       ]
      },
      {
       "metadata": {},
       "output_type": "display_data",
       "png": "[encoded data removed]",
       "text": [
        "<matplotlib.figure.Figure at 0x58c41d0>"
       ]
      },
      {
       "metadata": {},
       "output_type": "display_data",
       "png": "[encoded data removed]",
       "text": [
        "<matplotlib.figure.Figure at 0x4ac0c10>"
       ]
      },
      {
       "metadata": {},
       "output_type": "display_data",
       "png": "[encoded data removed]",
       "text": [
        "<matplotlib.figure.Figure at 0x55dcd90>"
       ]
      }
     ],
     "prompt_number": 47
    },
    {
     "cell_type": "code",
     "collapsed": false,
     "input": [
      "figure(figsize=(8,2))\n",
      "plot(MLI_rec, linewidth=2)\n",
      "title('MLI', fontsize=16)\n",
      "\n",
      "figure(figsize=(8,2))\n",
      "plot(CF_rec,'g--', linewidth=2)\n",
      "ylim([0,1.1])\n",
      "title('CF', fontsize=16)\n",
      "\n",
      "figure(figsize=(8,2))\n",
      "plot(PF_rec[0,:],'r--', linewidth=2)\n",
      "ylim([0,1.1])\n",
      "title('PF 1', fontsize=16)\n",
      "\n",
      "figure(figsize=(8,2))\n",
      "plot(PF_rec[1,:],'b--', linewidth=2)\n",
      "ylim([0,1.1])\n",
      "title('PF 2', fontsize=16)\n",
      "\n",
      "figure(figsize=(8,2))\n",
      "plot(PF_rec[2,:],'k--', linewidth=2)\n",
      "ylim([0,1.1])\n",
      "title('PF 3', fontsize=16)"
     ],
     "language": "python",
     "metadata": {},
     "outputs": [
      {
       "metadata": {},
       "output_type": "pyout",
       "prompt_number": 4,
       "text": [
        "<matplotlib.text.Text at 0x3d92b90>"
       ]
      },
      {
       "metadata": {},
       "output_type": "display_data",
       "png": "[encoded data removed]",
       "text": [
        "<matplotlib.figure.Figure at 0x3901290>"
       ]
      },
      {
       "metadata": {},
       "output_type": "display_data",
       "png": "[encoded data removed]",
       "text": [
        "<matplotlib.figure.Figure at 0x3914f50>"
       ]
      },
      {
       "metadata": {},
       "output_type": "display_data",
       "png": "[encoded data removed]",
       "text": [
        "<matplotlib.figure.Figure at 0x3916490>"
       ]
      },
      {
       "metadata": {},
       "output_type": "display_data",
       "png": "[encoded data removed]",
       "text": [
        "<matplotlib.figure.Figure at 0x3aa1790>"
       ]
      },
      {
       "metadata": {},
       "output_type": "display_data",
       "png": "[encoded data removed]",
       "text": [
        "<matplotlib.figure.Figure at 0x3c16a90>"
       ]
      }
     ],
     "prompt_number": 4
    },
    {
     "cell_type": "code",
     "collapsed": false,
     "input": [
      "dd"
     ],
     "language": "python",
     "metadata": {},
     "outputs": [
      {
       "metadata": {},
       "output_type": "pyout",
       "prompt_number": 17,
       "text": [
        "<matplotlib.text.Text at 0x42d51d0>"
       ]
      },
      {
       "metadata": {},
       "output_type": "display_data",
       "png": "[encoded data removed]",
       "text": [
        "<matplotlib.figure.Figure at 0x422bb50>"
       ]
      }
     ],
     "prompt_number": 17
    },
    {
     "cell_type": "code",
     "collapsed": false,
     "input": [],
     "language": "python",
     "metadata": {},
     "outputs": []
    }
   ],
   "metadata": {}
  }
 ]
}