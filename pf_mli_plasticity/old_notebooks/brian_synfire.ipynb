{
 "metadata": {
  "name": "",
  "signature": "sha256:3df2feffe67021d5c06ed1c5d79d5d97d37c3fb132b8de3c94232ed46c87942d"
 },
 "nbformat": 3,
 "nbformat_minor": 0,
 "worksheets": [
  {
   "cells": [
    {
     "cell_type": "code",
     "collapsed": false,
     "input": [
      "from brian import *\n",
      "\n",
      "# Neuron model parameters\n",
      "Vr = -70*mV\n",
      "Vt = -55*mV\n",
      "taum = 10*ms\n",
      "taupsp = 0.325*ms\n",
      "weight = 4.86 * mV\n",
      "\n",
      "# Neuron model\n",
      "eqs=Equations('''\n",
      "dV/dt=(-(V-Vr)+x)*(1./taum) : volt\n",
      "dx/dt=(-x+y)*(1./taupsp) : volt\n",
      "dy/dt=-y*(1./taupsp)+25.27*mV/ms+(39.24*mV/ms**0.5)*xi : volt\n",
      "''')\n",
      "\n",
      "# Neuron groups\n",
      "P = NeuronGroup(N=1000, model=eqs,threshold=Vt,reset=Vr,refractory=1*ms)\n",
      "Pinput = PulsePacket(t=50*ms,n=85,sigma=1*ms)\n",
      "\n",
      "# The network structure\n",
      "Pgp = [P.subgroup(100) for i in range(10)]\n",
      "C = Connection(P,P,'y')\n",
      "\n",
      "for i in range(9):\n",
      "    C.connect_full(Pgp[i],Pgp[i+1],weight)\n",
      "    \n",
      "Cinput = Connection(Pinput,Pgp[0],'y')\n",
      "Cinput.connect_full(weight=weight)\n",
      "\n",
      "# Record the spikes\n",
      "Mgp = [SpikeMonitor(p) for p in Pgp]\n",
      "Minput = SpikeMonitor(Pinput)\n",
      "monitors = [Minput]+Mgp\n",
      "\n",
      "# Setup the network, and run it\n",
      "P.V = Vr + rand(len(P)) * (Vt-Vr)\n",
      "run(100*ms)\n",
      "\n",
      "# Plot result\n",
      "figure(figsize=(10,8))\n",
      "raster_plot(showgrouplines=True,*monitors)\n",
      "show()"
     ],
     "language": "python",
     "metadata": {},
     "outputs": [
      {
       "output_type": "stream",
       "stream": "stderr",
       "text": [
        "/home/bill/anaconda/lib/python2.7/site-packages/brian/utils/sparse_patch/__init__.py:39: UserWarning: Couldn't find matching sparse matrix patch for scipy version 0.14.0, but in most cases this shouldn't be a problem.\n",
        "  warnings.warn(\"Couldn't find matching sparse matrix patch for scipy version %s, but in most cases this shouldn't be a problem.\" % scipy.__version__)\n",
        "/home/bill/anaconda/lib/python2.7/site-packages/brian/synapses/spikequeue.py:490: UserWarning: Using C++ SpikeQueue\n",
        "  warnings.warn('Using C++ SpikeQueue')\n"
       ]
      },
      {
       "metadata": {},
       "output_type": "display_data",
       "png": "[encoded data removed]",
       "text": [
        "<matplotlib.figure.Figure at 0x59a2d10>"
       ]
      }
     ],
     "prompt_number": 1
    },
    {
     "cell_type": "code",
     "collapsed": false,
     "input": [],
     "language": "python",
     "metadata": {},
     "outputs": []
    }
   ],
   "metadata": {}
  }
 ]
}