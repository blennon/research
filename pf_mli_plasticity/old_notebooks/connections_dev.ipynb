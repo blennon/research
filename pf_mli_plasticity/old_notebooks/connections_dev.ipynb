{
 "metadata": {
  "name": "",
  "signature": "sha256:d67b6e9827f4f0159bd9f3955e7c98565c121d6ec99d947179ff729ce9079d0b"
 },
 "nbformat": 3,
 "nbformat_minor": 0,
 "worksheets": [
  {
   "cells": [
    {
     "cell_type": "code",
     "collapsed": false,
     "input": [
      "from rate_model import *"
     ],
     "language": "python",
     "metadata": {},
     "outputs": [],
     "prompt_number": 2
    },
    {
     "cell_type": "code",
     "collapsed": false,
     "input": [
      "MLI = NeuronGroup(2, resting_state=array([1,0]))\n",
      "PF = NeuronGroup(3, resting_state=array([1,1,0]))"
     ],
     "language": "python",
     "metadata": {},
     "outputs": [],
     "prompt_number": 4
    },
    {
     "cell_type": "code",
     "collapsed": false,
     "input": [
      "assert PF.get_num_neurons() == 3"
     ],
     "language": "python",
     "metadata": {},
     "outputs": [],
     "prompt_number": 5
    },
    {
     "cell_type": "code",
     "collapsed": false,
     "input": [
      "class Connection(object):\n",
      "    '''\n",
      "    Defines a connection object between two neuron groups\n",
      "    \n",
      "    the 'state' is the connection matrix\n",
      "    '''\n",
      "    \n",
      "    def __init__(self, src, trg, W=None):\n",
      "        '''\n",
      "        src: source neuron group\n",
      "        trg: target neuron group\n",
      "        W: connection matrix, set to zeros if None. dimensions should be (num trg neurons, num src neurons)\n",
      "        '''\n",
      "        self.src, self.trg = src, trg\n",
      "        self.state = zeros((trg.get_num_neurons(),src.get_num_neurons()))\n",
      "        if W is not None:\n",
      "            if W.shape != self.state.shape:\n",
      "                raise Exception('Dimensions of W do not match src x trg')\n",
      "            self.state = W\n",
      "    \n",
      "    def update(self):\n",
      "        '''\n",
      "        update the connection matrix\n",
      "        '''\n",
      "        raise NotImplementedError\n",
      "    \n",
      "    def get_state(self):\n",
      "        '''\n",
      "        returns the connection matrix\n",
      "        '''\n",
      "        return self.state\n",
      "    \n",
      "    def get_source(self):\n",
      "        '''\n",
      "        return the source neuron group\n",
      "        '''\n",
      "        return self.src\n",
      "\n",
      "class PF_MLI_Connection(Connection):\n",
      "    '''\n",
      "    Defines the connection between PFs and MLIs\n",
      "    '''\n",
      "    def __init__(self, src, trg, W=None):\n",
      "        super(PF_MLI_Connection,self).__init__(src, trg, W)\n",
      "        \n",
      "    def update(self, beta=.01):\n",
      "        '''\n",
      "        define the update rule for this connection\n",
      "        \n",
      "        dW/dt = B(MLI - w)PF if w>0\n",
      "        '''\n",
      "        MLI = self.trg.get_state()[...,None]\n",
      "        PF = self.src.get_state()[...,None]\n",
      "        dw_dt = beta*(MLI - self.state)*PF.T\n",
      "        # only update active synapses, i.e. w > 0\n",
      "        self.state[self.state>0] += dw_dt[self.state>0]"
     ],
     "language": "python",
     "metadata": {},
     "outputs": [],
     "prompt_number": 29
    },
    {
     "cell_type": "code",
     "collapsed": false,
     "input": [
      "C_PF_MLI = PF_MLI_Connection(PF,MLI)\n",
      "assert C_PF_MLI.get_state().shape == (2,3)"
     ],
     "language": "python",
     "metadata": {},
     "outputs": [],
     "prompt_number": 30
    },
    {
     "cell_type": "code",
     "collapsed": false,
     "input": [
      "W = array([[ 0.5,  0.5,  0.  ],[ 0.  ,  0.  ,  0.  ]])\n",
      "C_PF_MLI = PF_MLI_Connection(PF,MLI,W)\n",
      "C_PF_MLI.update()\n",
      "W_ = array([[ 0.505,  0.505,  0.  ],[ 0.  ,  0.  ,  0.  ]])\n",
      "assert (C_PF_MLI.get_state() - W_).sum() == 0"
     ],
     "language": "python",
     "metadata": {},
     "outputs": [],
     "prompt_number": 33
    },
    {
     "cell_type": "code",
     "collapsed": false,
     "input": [
      "C_PF_MLI.get_state()"
     ],
     "language": "python",
     "metadata": {},
     "outputs": [
      {
       "metadata": {},
       "output_type": "pyout",
       "prompt_number": 32,
       "text": [
        "array([[ 0.,  0.,  0.],\n",
        "       [ 0.,  0.,  0.]])"
       ]
      }
     ],
     "prompt_number": 32
    },
    {
     "cell_type": "code",
     "collapsed": false,
     "input": [
      "array([[1,1,1]]).shape"
     ],
     "language": "python",
     "metadata": {},
     "outputs": [
      {
       "metadata": {},
       "output_type": "pyout",
       "prompt_number": 35,
       "text": [
        "(1, 3)"
       ]
      }
     ],
     "prompt_number": 35
    },
    {
     "cell_type": "code",
     "collapsed": false,
     "input": [],
     "language": "python",
     "metadata": {},
     "outputs": []
    }
   ],
   "metadata": {}
  }
 ]
}