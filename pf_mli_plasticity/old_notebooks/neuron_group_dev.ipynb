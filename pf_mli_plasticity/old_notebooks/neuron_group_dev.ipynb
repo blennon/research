{
 "metadata": {
  "name": "",
  "signature": "sha256:65271a5c18ed73b3ee28cfc84747814d2d4ea384a724ddbd54554ac825c552f4"
 },
 "nbformat": 3,
 "nbformat_minor": 0,
 "worksheets": [
  {
   "cells": [
    {
     "cell_type": "code",
     "collapsed": false,
     "input": [
      "class NeuronGroup(object):\n",
      "    '''\n",
      "    Defines a rate based model for a neuron group with 'N' neurons\n",
      "    '''\n",
      "    \n",
      "    def __init__(self, N, resting_state=None):\n",
      "        '''\n",
      "        N: number of neurons in this group\n",
      "        '''\n",
      "        self.N = N\n",
      "        self.state = zeros(N)\n",
      "        self.resting_state = resting_state\n",
      "        self.sources, self.weights = [], []\n",
      "        self.update()\n",
      "        \n",
      "    def connect(self, source, weights):\n",
      "        '''\n",
      "        connect source neuron group 'source' with synaptic weights 'weights'\n",
      "        '''\n",
      "        self.sources.append(source)\n",
      "        self.weights.append(weights)\n",
      "        \n",
      "    def set_state(self, state):\n",
      "        '''\n",
      "        set the state of the neurons to 'state'\n",
      "        '''\n",
      "        if state.shape != self.state.shape:\n",
      "            raise Exception('Mismatch between neuron group dimension and input state dimension')\n",
      "        self.state = state\n",
      "        \n",
      "    def reset_state(self):\n",
      "        '''\n",
      "        reset the state of the neurons\n",
      "        '''\n",
      "        self.set_state(zeros(self.N))\n",
      "        if self.resting_state is not None:\n",
      "            self.set_state(self.resting_state.copy())\n",
      "        \n",
      "    def update(self):\n",
      "        '''\n",
      "        update the state of the neurons given the inputs\n",
      "        '''\n",
      "        self.reset_state()\n",
      "        for s,W in zip(self.sources,self.weights):\n",
      "            self.state += dot(s.get_state(),W)\n",
      "            \n",
      "    def get_state(self):\n",
      "        '''\n",
      "        return the state of the neurons\n",
      "        '''\n",
      "        return self.state          "
     ],
     "language": "python",
     "metadata": {},
     "outputs": [],
     "prompt_number": 32
    },
    {
     "cell_type": "code",
     "collapsed": false,
     "input": [
      "MLI = NeuronGroup(1, array([1]))\n",
      "PF = NeuronGroup(3, array([1,1,1]))\n",
      "MLI.connect(PF,array([1,1,1]))\n",
      "MLI.update()\n",
      "assert MLI.get_state()[0] == 4"
     ],
     "language": "python",
     "metadata": {},
     "outputs": [],
     "prompt_number": 62
    },
    {
     "cell_type": "code",
     "collapsed": false,
     "input": [
      "class RecordState(object):\n",
      "    '''\n",
      "    record the state of the neuron group\n",
      "    '''\n",
      "    def __init__(self, neuron_group):\n",
      "        self.neuron_group = neuron_group\n",
      "        self.history = []\n",
      "        self.record()\n",
      "        \n",
      "    def record(self):\n",
      "        self.history.append(self.neuron_group.get_state().copy())\n",
      "        \n",
      "    def get_recording(self):\n",
      "        return squeeze(self.history).T"
     ],
     "language": "python",
     "metadata": {},
     "outputs": [],
     "prompt_number": 57
    },
    {
     "cell_type": "code",
     "collapsed": false,
     "input": [
      "MLI = NeuronGroup(1, array([1]))\n",
      "MLI_recorder = RecordState(MLI)\n",
      "PF = NeuronGroup(3, array([1,1,1]))\n",
      "MLI.connect(PF,array([1,1,1]))\n",
      "MLI.update()\n",
      "MLI_recorder.record()\n",
      "assert MLI_recorder.get_recording().sum() == 5"
     ],
     "language": "python",
     "metadata": {},
     "outputs": [],
     "prompt_number": 77
    },
    {
     "cell_type": "markdown",
     "metadata": {},
     "source": [
      "<h2>Test response over time</h2>"
     ]
    },
    {
     "cell_type": "code",
     "collapsed": false,
     "input": [
      "MLI = NeuronGroup(1, array([1]))\n",
      "PF = NeuronGroup(2)\n",
      "MLI.connect(PF, array([1,1]))\n",
      "MLI_rec = RecordState(MLI)\n",
      "PF_rec = RecordState(PF)"
     ],
     "language": "python",
     "metadata": {},
     "outputs": [],
     "prompt_number": 58
    },
    {
     "cell_type": "code",
     "collapsed": false,
     "input": [
      "for i in range(10):\n",
      "    if i>2 and i<5:\n",
      "        PF.set_state(array([1,0]))\n",
      "    if i>=5 and i<=7:\n",
      "        PF.set_state(array([0,0]))\n",
      "    if i>7:\n",
      "        PF.set_state(array([0,1]))\n",
      "    MLI.update()\n",
      "    MLI_rec.record()\n",
      "    PF_rec.record()"
     ],
     "language": "python",
     "metadata": {},
     "outputs": [],
     "prompt_number": 59
    },
    {
     "cell_type": "code",
     "collapsed": false,
     "input": [
      "figure()\n",
      "plot(MLI_rec.get_recording())\n",
      "figure()\n",
      "plot(PF_rec.get_recording()[0,:])\n",
      "plot(PF_rec.get_recording()[1,:])"
     ],
     "language": "python",
     "metadata": {},
     "outputs": [
      {
       "metadata": {},
       "output_type": "pyout",
       "prompt_number": 62,
       "text": [
        "[<matplotlib.lines.Line2D at 0x4146e50>]"
       ]
      },
      {
       "metadata": {},
       "output_type": "display_data",
       "png": "[encoded data removed]",
       "text": [
        "<matplotlib.figure.Figure at 0x372e310>"
       ]
      },
      {
       "metadata": {},
       "output_type": "display_data",
       "png": "[encoded data removed]",
       "text": [
        "<matplotlib.figure.Figure at 0x4070f50>"
       ]
      }
     ],
     "prompt_number": 62
    },
    {
     "cell_type": "code",
     "collapsed": false,
     "input": [
      "PF_rec.get_recording().shape"
     ],
     "language": "python",
     "metadata": {},
     "outputs": [
      {
       "metadata": {},
       "output_type": "pyout",
       "prompt_number": 61,
       "text": [
        "(2, 11)"
       ]
      }
     ],
     "prompt_number": 61
    },
    {
     "cell_type": "code",
     "collapsed": false,
     "input": [],
     "language": "python",
     "metadata": {},
     "outputs": []
    }
   ],
   "metadata": {}
  }
 ]
}