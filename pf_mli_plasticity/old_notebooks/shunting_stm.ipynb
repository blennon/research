{
 "metadata": {
  "name": "",
  "signature": "sha256:cd91b54ac62b62108f26adf582180f7a22aab247acb5cb4a6107562a1b8ea777"
 },
 "nbformat": 3,
 "nbformat_minor": 0,
 "worksheets": [
  {
   "cells": [
    {
     "cell_type": "code",
     "collapsed": false,
     "input": [
      "def shunting_eq(Iexc, Iinh, A,B,C,D,E,F):\n",
      "    return (C*Iexc - E*Iinh + A*B)/(A+D*Iexc+F*Iinh)\n",
      "\n",
      "A = 1.\n",
      "B = 0.\n",
      "C = 1.\n",
      "D = 1.\n",
      "E = 0.\n",
      "F = 0\n",
      "x = linspace(0,1,1000)\n",
      "plot(x, shunting_eq(x,0.,A,B,C,D,E,F),'b')\n",
      "#plot(x, shunting_eq(x,0.,4,B,C,D,E,F),'g')\n",
      "plot(x, shunting_eq(x,0.,1.5,B,C,D,E,F),'g')\n",
      "#plot(x, .1*x,'r')"
     ],
     "language": "python",
     "metadata": {},
     "outputs": [
      {
       "metadata": {},
       "output_type": "pyout",
       "prompt_number": 43,
       "text": [
        "[<matplotlib.lines.Line2D at 0x6fb06d0>]"
       ]
      },
      {
       "metadata": {},
       "output_type": "display_data",
       "png": "[encoded data removed]",
       "text": [
        "<matplotlib.figure.Figure at 0x6fe8a10>"
       ]
      }
     ],
     "prompt_number": 43
    },
    {
     "cell_type": "code",
     "collapsed": false,
     "input": [
      "a = [98,120,77,131,48,29,95,67,30,45,75,160,475,85,189,159,60,319,63,118]"
     ],
     "language": "python",
     "metadata": {},
     "outputs": [],
     "prompt_number": 44
    },
    {
     "cell_type": "code",
     "collapsed": false,
     "input": [
      "hist(a)"
     ],
     "language": "python",
     "metadata": {},
     "outputs": [
      {
       "metadata": {},
       "output_type": "pyout",
       "prompt_number": 45,
       "text": [
        "(array([ 7.,  6.,  4.,  1.,  0.,  0.,  1.,  0.,  0.,  1.]),\n",
        " array([  29. ,   73.6,  118.2,  162.8,  207.4,  252. ,  296.6,  341.2,\n",
        "         385.8,  430.4,  475. ]),\n",
        " <a list of 10 Patch objects>)"
       ]
      },
      {
       "metadata": {},
       "output_type": "display_data",
       "png": "[encoded data removed]",
       "text": [
        "<matplotlib.figure.Figure at 0x5c69490>"
       ]
      }
     ],
     "prompt_number": 45
    },
    {
     "cell_type": "code",
     "collapsed": false,
     "input": [
      "mean(a)"
     ],
     "language": "python",
     "metadata": {},
     "outputs": [
      {
       "metadata": {},
       "output_type": "pyout",
       "prompt_number": 46,
       "text": [
        "122.15000000000001"
       ]
      }
     ],
     "prompt_number": 46
    },
    {
     "cell_type": "code",
     "collapsed": false,
     "input": [
      "median(a)"
     ],
     "language": "python",
     "metadata": {},
     "outputs": [
      {
       "metadata": {},
       "output_type": "pyout",
       "prompt_number": 47,
       "text": [
        "90.0"
       ]
      }
     ],
     "prompt_number": 47
    },
    {
     "cell_type": "code",
     "collapsed": false,
     "input": [],
     "language": "python",
     "metadata": {},
     "outputs": []
    }
   ],
   "metadata": {}
  }
 ]
}