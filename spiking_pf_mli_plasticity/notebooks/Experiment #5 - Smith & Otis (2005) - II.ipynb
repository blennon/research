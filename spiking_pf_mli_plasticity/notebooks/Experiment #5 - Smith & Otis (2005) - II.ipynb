{
 "metadata": {
  "name": "",
  "signature": "sha256:32f1b2f1b09c54aeb2a77adb88f8b734374a1125942f04ebb4d260dc5e433238"
 },
 "nbformat": 3,
 "nbformat_minor": 0,
 "worksheets": [
  {
   "cells": [
    {
     "cell_type": "markdown",
     "metadata": {},
     "source": [
      "<h1>Experiment #5 - Smith & Otis (2005) - II</h1>\n",
      "This experiment simulates a single MLI isolated from inhibitory synaptic current that fires spontaneously. The PF-MLI weights begin near equilibrium values. The experiment begins with a 2.5 second baseline period where the MLI and PFs fire spontaneously, followed by hyperpolarizing current injected into the neuron to reduce its membrane potential to -80 mV (simulated current clamp). During the first 5 seconds, the PFs fire at a baseline rate of .33 Hz (according to Poisson statistics). Starting at 5 seconds, a parallel fiber bundle is then stimulated to produce 1 Hz firing (according to Poisson statistics) contin. "
     ]
    },
    {
     "cell_type": "code",
     "collapsed": false,
     "input": [
      "%load_ext autoreload\n",
      "%autoreload 2\n",
      "import sys\n",
      "sys.path.append(\"../../\")\n",
      "from brian import *\n",
      "from neuron_models import *\n",
      "\n",
      "from spiking_pf_mli_plasticity import *\n",
      "import seaborn as sns"
     ],
     "language": "python",
     "metadata": {},
     "outputs": [
      {
       "output_type": "stream",
       "stream": "stderr",
       "text": [
        "/home/bill/anaconda/lib/python2.7/site-packages/brian/utils/sparse_patch/__init__.py:39: UserWarning: Couldn't find matching sparse matrix patch for scipy version 0.14.0, but in most cases this shouldn't be a problem.\n",
        "  warnings.warn(\"Couldn't find matching sparse matrix patch for scipy version %s, but in most cases this shouldn't be a problem.\" % scipy.__version__)\n",
        "/home/bill/anaconda/lib/python2.7/site-packages/brian/synapses/spikequeue.py:490: UserWarning: Using C++ SpikeQueue\n",
        "  warnings.warn('Using C++ SpikeQueue')\n"
       ]
      }
     ],
     "prompt_number": 1
    },
    {
     "cell_type": "code",
     "collapsed": false,
     "input": [
      "N_GR = 8\n",
      "eq_time = 5*second\n",
      "trial_time = 1*second\n",
      "stim_len = 100*ms\n",
      "    \n",
      "def pf_rates(t):\n",
      "    '''\n",
      "    parallel fire input stimulus -- Poisson rates\n",
      "    '''\n",
      "    if t>=eq_time and t%(trial_time)<stim_len:\n",
      "        return ones(N_GR)*1*Hz\n",
      "    return ones(N_GR)*.33*Hz\n",
      "        \n",
      "def run_net(initial_weights):\n",
      "    \n",
      "    defaultclock.dt = .25*ms\n",
      "    \n",
      "    # set up the network\n",
      "    GR = PoissonGroup(N_GR,rates=pf_rates)\n",
      "    MLI = MLIGroup(1)\n",
      "    S_GR_MLI = Synapses(GR,MLI,model='w:1',pre='g_ampa_fast+=MLI.g_ampa_*w; g_ampa_slow+=MLI.g_ampa_*w; g_nmda+=MLI.g_nmda_*w')\n",
      "    S_GR_MLI[:,:] = 1\n",
      "    S_GR_MLI.w[:,:] = initial_weights\n",
      "\n",
      "    @network_operation(Clock(dt=defaultclock.dt))\n",
      "    def random_current():\n",
      "        MLI.I = gamma(3.966333,0.006653,size=len(MLI)) * nA\n",
      "        # hyperpolizing current (current clamp)\n",
      "        if defaultclock.t >= 2.5*second:\n",
      "            MLI.I -= .045 * nA\n",
      "\n",
      "    # monitors\n",
      "    record_clock = Clock(1*ms)\n",
      "    GR_S = SpikeMonitor(GR)\n",
      "    GR_R = RealTimeRateMonitor(GR, record=True, record_clock=record_clock)\n",
      "    MLI_V = StateMonitor(MLI, 'V', record=True, clock=record_clock)\n",
      "    MLI_S = SpikeMonitor(MLI)\n",
      "    MLI_R = RealTimeRateMonitor(MLI, tau_f=60*ms, tau_r=15*ms, record=True, record_clock=record_clock)\n",
      "    W = StateMonitor(S_GR_MLI,'w',record=True, clock=record_clock)\n",
      "    \n",
      "    # plasticity\n",
      "    @network_operation(defaultclock)\n",
      "    def learn():\n",
      "        update_weights(S_GR_MLI, GR_R, MLI_R)\n",
      "        \n",
      "    run(1*30*second)\n",
      "    \n",
      "    return GR_S, GR_R, MLI_V, MLI_S, MLI_R, W, S_GR_MLI.w[:,:]"
     ],
     "language": "python",
     "metadata": {},
     "outputs": []
    },
    {
     "cell_type": "code",
     "collapsed": false,
     "input": [
      "GR_S, GR_R, MLI_V, MLI_S, MLI_R, W, w = run_net(.22*ones(N_GR))"
     ],
     "language": "python",
     "metadata": {},
     "outputs": []
    },
    {
     "cell_type": "code",
     "collapsed": false,
     "input": [
      "T_show_end = 10\n",
      "fig = figure(figsize(20,14))\n",
      "ax1, ax2, ax3, ax4 = plot_pf_mli_w_fig(MLI_V,MLI_S,MLI_R,GR_R,W,fig,defaultclock,T_show_end)\n",
      "ax1.set_yticks(range(-80,20,20))\n",
      "ax1.set_xticks(range(0,T_show_end+1,1))\n",
      "ax2.set_yticks(range(0,100,20))\n",
      "ax2.set_xticks(range(0,T_show_end+1,1))\n",
      "ax3.set_xticks(range(0,T_show_end+1,1))"
     ],
     "language": "python",
     "metadata": {},
     "outputs": []
    },
    {
     "cell_type": "code",
     "collapsed": false,
     "input": [
      "fig = figure(figsize(24,6))\n",
      "plot_weights_by_trial(fig,W,trial_time,eq_time,1*ms)\n",
      "title('Weight at end of trial',fontsize=22)"
     ],
     "language": "python",
     "metadata": {},
     "outputs": []
    },
    {
     "cell_type": "code",
     "collapsed": false,
     "input": [],
     "language": "python",
     "metadata": {},
     "outputs": []
    }
   ],
   "metadata": {}
  }
 ]
}