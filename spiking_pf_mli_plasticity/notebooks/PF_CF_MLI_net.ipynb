{
 "metadata": {
  "name": "",
  "signature": "sha256:091835df3e54cd68d3ca1d1ee509ee54abdfb59f2a9ebf5d6d23739e5060bf0f"
 },
 "nbformat": 3,
 "nbformat_minor": 0,
 "worksheets": [
  {
   "cells": [
    {
     "cell_type": "markdown",
     "metadata": {},
     "source": [
      "<h2>Experiments with MLI\n",
      "    & PKJ ISIs<h2>"
     ]
    },
    {
     "cell_type": "markdown",
     "metadata": {},
     "source": [
      "The goal of this experiment is to add additional realism to the anatomical connectivity of the network.  E.g. random weights, increased convergence/divergence ratios, etc."
     ]
    },
    {
     "cell_type": "code",
     "collapsed": true,
     "input": [
      "%load_ext autoreload\n",
      "%autoreload 2\n",
      "import datetime\n",
      "import os\n",
      "from brian import *\n",
      "import sys\n",
      "sys.path.append('../../')\n",
      "from neuron_models import *\n",
      "from spiking_pf_mli_plasticity import *\n",
      "import cPickle\n",
      "\n",
      "import time\n",
      "set_global_preferences(useweave=True, usenewpropagate=True, usecodegenweave=True)\n",
      "defaultclock.dt = .25*ms\n",
      "from statsmodels.tsa.stattools import acf\n",
      "from pandas import *"
     ],
     "language": "python",
     "metadata": {},
     "outputs": [
      {
       "output_type": "stream",
       "stream": "stdout",
       "text": [
        "The autoreload extension is already loaded. To reload it, use:\n",
        "  %reload_ext autoreload\n"
       ]
      }
     ],
     "prompt_number": 45
    },
    {
     "cell_type": "code",
     "collapsed": true,
     "input": [
      "T = 10*second\n",
      "N_MLI = 160\n",
      "MLI = MLIGroup(N_MLI)\n"
     ],
     "language": "python",
     "metadata": {},
     "outputs": [],
     "prompt_number": 2
    },
    {
     "cell_type": "code",
     "collapsed": false,
     "input": [
      "def setup_mli_net(initial_weights, pf_rates, cf_rates, wmin, N_CF=2):\n",
      "    '''\n",
      "    sets up several PF-MLI networks in parallel for simulation. I.e. N_GR=N_MLI\n",
      "    and one PF uniquely contacts one MLI (no crossover). Thus, these are independent\n",
      "    experiments\n",
      "    :param N_GR: number of granule cells -- and number of MLIs\n",
      "    :param initial_weights: array, initial weights for PF-MLI synapses\n",
      "    :param pf_rates: a function that returns the firing rates of GRs as a function of time\n",
      "    :param wmin: the minimum weight value allowed for PF-MLI synapses, [0,1)\n",
      "    :return: GR neuron group, MLI neuron group, GR-MLI synapses object\n",
      "    \n",
      "    TO DO \n",
      "    - GR-MLI connections\n",
      "    - CF trace\n",
      "    '''\n",
      "    MLI_groups = 16\n",
      "    N_MLI_per_group = 10\n",
      "    N_MLI = MLI_groups * N_MLI_per_group\n",
      "    GR_cluster_width = 3\n",
      "    N_GR = N_MLI/10 * GR_cluster_width*15\n",
      "    GR_len = GR_cluster_width*15\n",
      "    GR_width = MLI_groups\n",
      "    \n",
      "    GR = PoissonGroup(N_GR,rates=pf_rates)\n",
      "    CF = PoissonGroup(N_CF,rates=cf_rates)\n",
      "    MLI = MLIGroup(N_MLI)\n",
      "    \n",
      "    # synaptic weights\n",
      "    w_mli_mli = 1.\n",
      "    w_cf_mli = .33\n",
      "\n",
      "    # MLI-MLI Synapses\n",
      "    S_MLI_MLI = Synapses(MLI,MLI,model='w:1',pre='g_inh+=MLI.g_inh_*w')\n",
      "    connect_mli_mli(S_MLI_MLI,dist=80,syn_prob=.05)\n",
      "    S_MLI_MLI.w[:,:] = 'rand()*w_mli_mli'\n",
      "\n",
      "    # GR-MLI Synapses\n",
      "    S_GR_MLI = Synapses(GR,MLI,model='''w:1\n",
      "                        v:1''',pre='g_ampa_fast+=MLI.g_ampa_*v; g_ampa_slow+=MLI.g_ampa_*v; n+=1')\n",
      "    #S_GR_MLI[:,:] = 'abs((i/GR_len)-(j/N_MLI_per_group))<=1'\n",
      "    S_GR_MLI = connect_gr_mli(S_GR_MLI)\n",
      "    S_GR_MLI.w[:,:] = initial_weights\n",
      "    S_GR_MLI.v[:,:] = wmin + (1-wmin)*S_GR_MLI.w[:,:]\n",
      "    \n",
      "    # CF-MLI Synapses\n",
      "    u,tau = .19, 2.1*second\n",
      "    S_CF_MLI = Synapses(CF,MLI,model='''w:1\n",
      "                        s:1''', pre='''s+=(1-s)*(1-exp(-(t-lastupdate)/tau)); g_ampa_fast+=MLI.g_ampa_*s*w; \n",
      "                                       n+=3*s; s*=u''')\n",
      "    S_CF_MLI[:,:] = 1.\n",
      "    S_CF_MLI.w = w_cf_mli\n",
      "    S_CF_MLI.s = 1.\n",
      "    \n",
      "    return GR, CF, MLI, S_GR_MLI, S_CF_MLI"
     ],
     "language": "python",
     "metadata": {},
     "outputs": [],
     "prompt_number": 98
    },
    {
     "cell_type": "code",
     "collapsed": false,
     "input": [
      "GR, CF, MLI, S_GR_MLI, S_CF_MLI = setup_mli_net(.1, None,None, .1)"
     ],
     "language": "python",
     "metadata": {},
     "outputs": [],
     "prompt_number": 99
    },
    {
     "cell_type": "code",
     "collapsed": false,
     "input": [
      "def gr_mli_connections(N_MLI_groups=16,N_MLI_per_group=10, GR_cluster_width=3, N_GR_clusters=15):\n",
      "    GR_width = N_MLI_groups\n",
      "    GR_length = GR_cluster_width*N_GR_clusters\n",
      "    N_GR = GR_width * GR_length\n",
      "    N_MLI = N_MLI_groups * N_MLI_per_group\n",
      "    \n",
      "    connections = []\n",
      "    active = []\n",
      "    inactive = []\n",
      "    for i in range(N_GR):\n",
      "        for j in range(N_MLI):\n",
      "            if abs((i/GR_length)-(j/N_MLI_per_group)<=1):\n",
      "                connections.append((i,j))\n",
      "                if 21<=(i%GR_length)<24:\n",
      "                    active.append((i,j))\n",
      "                else:\n",
      "                    inactive.append((i,j))\n",
      "    return connections, active, inactive\n",
      "\n",
      "def connect_gr_mli(S_GR_MLI):\n",
      "    C, _, _ = gr_mli_connections()\n",
      "    for i,j in C:\n",
      "        S_GR_MLI[i,j] = True\n",
      "    return S_GR_MLI\n",
      "\n",
      "# testing\n",
      "C,active,inactive = gr_mli_connections()\n",
      "assert (0,10) in C\n",
      "assert (45,10) in C\n",
      "assert (90,10) in C\n",
      "assert (134,10) in C\n",
      "assert (135,10) not in C\n",
      "\n",
      "assert (22,0) in active\n",
      "assert (21+45,10) in active\n",
      "assert (21+90,10) in active\n",
      "assert (21+135,10) not in active"
     ],
     "language": "python",
     "metadata": {},
     "outputs": [],
     "prompt_number": 128
    },
    {
     "cell_type": "code",
     "collapsed": false,
     "input": [
      "# synaptic weights\n",
      "w_mli_mli = 1.\n",
      "\n",
      "# Synapses\n",
      "S_MLI_MLI = Synapses(MLI,MLI,model='w:1',pre='g_inh+=MLI.g_inh_*w')\n",
      "connect_mli_mli(S_MLI_MLI,dist=80,syn_prob=.05)\n",
      "S_MLI_MLI.w[:,:] = 'rand()*w_mli_mli'\n",
      "\n",
      "@network_operation(Clock(dt=defaultclock.dt))\n",
      "def random_current():\n",
      "    MLI.I = gamma(3.966333,0.006653,size=len(MLI)) * nA\n",
      "\n",
      "    \n",
      "# Monitor\n",
      "MS_MLI = SpikeMonitor(MLI)\n",
      "MR_MLI = PopulationRateMonitor(MLI,bin=1*ms)\n",
      "MISI_MLI = ISIHistogramMonitor(MLI,bins=arange(0,162,2)*ms)\n",
      "MV_MLI = StateMonitor(MLI, 'V', record=range(N_MLI))\n",
      "\n",
      "\n",
      "start = time.time()\n",
      "run(T)\n",
      "print time.time() - start"
     ],
     "language": "python",
     "metadata": {},
     "outputs": [
      {
       "output_type": "stream",
       "stream": "stderr",
       "text": [
        "brian.experimental.codegen.stateupdaters: WARNING  C compilation failed, falling back on Python.\n"
       ]
      },
      {
       "output_type": "stream",
       "stream": "stderr",
       "text": [
        "WARNING:brian.experimental.codegen.stateupdaters:C compilation failed, falling back on Python.\n"
       ]
      },
      {
       "output_type": "stream",
       "stream": "stdout",
       "text": [
        "26.6874401569\n"
       ]
      }
     ],
     "prompt_number": 3
    }
   ],
   "metadata": {}
  }
 ]
}