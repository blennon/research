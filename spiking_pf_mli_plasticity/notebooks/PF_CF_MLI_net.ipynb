{
 "metadata": {
  "name": "",
  "signature": "sha256:8860edeaf158666aaaa1c2e66e33685718859b2a637287dd9cec82aff2a5d1c1"
 },
 "nbformat": 3,
 "nbformat_minor": 0,
 "worksheets": [
  {
   "cells": [
    {
     "cell_type": "markdown",
     "metadata": {},
     "source": [
      "<h2>Experiments with MLI\n",
      "    & PKJ ISIs<h2>"
     ]
    },
    {
     "cell_type": "markdown",
     "metadata": {},
     "source": [
      "The goal of this experiment is to add additional realism to the anatomical connectivity of the network.  E.g. random weights, increased convergence/divergence ratios, etc."
     ]
    },
    {
     "cell_type": "code",
     "collapsed": true,
     "input": [
      "%load_ext autoreload\n",
      "%autoreload 2\n",
      "import datetime\n",
      "import os\n",
      "from brian import *\n",
      "import sys\n",
      "sys.path.append('../../')\n",
      "from neuron_models import *\n",
      "import cPickle\n",
      "\n",
      "import time\n",
      "set_global_preferences(useweave=True, usenewpropagate=True, usecodegen=True, usecodegenweave=True)\n",
      "defaultclock.dt = .25*ms\n",
      "from statsmodels.tsa.stattools import acf\n",
      "from pandas import *"
     ],
     "language": "python",
     "metadata": {},
     "outputs": [
      {
       "output_type": "stream",
       "stream": "stderr",
       "text": [
        "/home/bill/anaconda/lib/python2.7/site-packages/brian/utils/sparse_patch/__init__.py:39: UserWarning: Couldn't find matching sparse matrix patch for scipy version 0.14.0, but in most cases this shouldn't be a problem.\n",
        "  warnings.warn(\"Couldn't find matching sparse matrix patch for scipy version %s, but in most cases this shouldn't be a problem.\" % scipy.__version__)\n",
        "/home/bill/anaconda/lib/python2.7/site-packages/brian/synapses/spikequeue.py:490: UserWarning: Using C++ SpikeQueue\n",
        "  warnings.warn('Using C++ SpikeQueue')\n"
       ]
      }
     ],
     "prompt_number": 1
    },
    {
     "cell_type": "code",
     "collapsed": true,
     "input": [
      "T = 10*second\n",
      "N_MLI = 160\n",
      "MLI = MLIGroup(N_MLI)\n"
     ],
     "language": "python",
     "metadata": {},
     "outputs": [
      {
       "output_type": "stream",
       "stream": "stderr",
       "text": [
        "brian.stateupdater: WARNING  Using codegen CStateUpdater\n"
       ]
      },
      {
       "output_type": "stream",
       "stream": "stderr",
       "text": [
        "WARNING:brian.stateupdater:Using codegen CStateUpdater\n"
       ]
      },
      {
       "output_type": "stream",
       "stream": "stderr",
       "text": [
        "brian.stateupdater: WARNING  Using codegen CStateUpdater\n"
       ]
      },
      {
       "output_type": "stream",
       "stream": "stderr",
       "text": [
        "WARNING:brian.stateupdater:Using codegen CStateUpdater\n"
       ]
      }
     ],
     "prompt_number": 2
    },
    {
     "cell_type": "code",
     "collapsed": false,
     "input": [
      "def setup_mli_net(N_GR, initial_weights, pf_rates, wmin):\n",
      "    '''\n",
      "    sets up several PF-MLI networks in parallel for simulation. I.e. N_GR=N_MLI\n",
      "    and one PF uniquely contacts one MLI (no crossover). Thus, these are independent\n",
      "    experiments\n",
      "    :param N_GR: number of granule cells -- and number of MLIs\n",
      "    :param initial_weights: array, initial weights for PF-MLI synapses\n",
      "    :param pf_rates: a function that returns the firing rates of GRs as a function of time\n",
      "    :param wmin: the minimum weight value allowed for PF-MLI synapses, [0,1)\n",
      "    :return: GR neuron group, MLI neuron group, GR-MLI synapses object\n",
      "    \n",
      "    TO DO - GR-MLI, CF-MLI connection functions\n",
      "    '''\n",
      "    GR = PoissonGroup(N_GR,rates=pf_rates)\n",
      "    CF = PoissonGroup(N_CF,rates=cf_rates)\n",
      "    MLI = MLIGroup(N_MLI)\n",
      "    \n",
      "    # synaptic weights\n",
      "    w_mli_mli = 1.\n",
      "    w_cf_mli = .33\n",
      "\n",
      "    # MLI-MLI Synapses\n",
      "    S_MLI_MLI = Synapses(MLI,MLI,model='w:1',pre='g_inh+=MLI.g_inh_*w')\n",
      "    connect_mli_mli(S_MLI_MLI,dist=80,syn_prob=.05)\n",
      "    S_MLI_MLI.w[:,:] = 'rand()*w_mli_mli'\n",
      "\n",
      "    # GR-MLI Synapses\n",
      "    S_GR_MLI = Synapses(GR,MLI,model='''w:1\n",
      "                        v:1''',pre='g_ampa_fast+=MLI.g_ampa_*v; g_ampa_slow+=MLI.g_ampa_*v; n+=1')\n",
      "    #S_GR_MLI.connect_one_to_one()\n",
      "    S_GR_MLI.w[:,:] = initial_weights\n",
      "    S_GR_MLI.v[:,:] = wmin + (1-wmin)*S_GR_MLI.w[:,:]\n",
      "    \n",
      "    # CF-MLI Synapses\n",
      "    u,tau = .19, 2.1*second\n",
      "    S_CF_MLI = Synapses(CF,MLI,model='''w:1\n",
      "                        s:1''', pre='''s+=(1-s)*(1-exp(-(t-lastupdate)/tau)); g_ampa_fast+=MLI.g_ampa_*s*w; \n",
      "                                    g_ampa_slow+=MLI.g_ampa_*s*w; n+=s*w; s*=u''')\n",
      "    #S_CF_MLI.connect_one_to_one()\n",
      "    S_CF_MLI.w = w_cf_mli\n",
      "    S_CF_MLI.s = 1.\n",
      "    \n",
      "    return GR, CF, MLI, S_GR_MLI, S_CF_MLI"
     ],
     "language": "python",
     "metadata": {},
     "outputs": []
    },
    {
     "cell_type": "code",
     "collapsed": false,
     "input": [
      "# synaptic weights\n",
      "w_mli_mli = 1.\n",
      "\n",
      "# Synapses\n",
      "S_MLI_MLI = Synapses(MLI,MLI,model='w:1',pre='g_inh+=MLI.g_inh_*w')\n",
      "connect_mli_mli(S_MLI_MLI,dist=80,syn_prob=.05)\n",
      "S_MLI_MLI.w[:,:] = 'rand()*w_mli_mli'\n",
      "\n",
      "@network_operation(Clock(dt=defaultclock.dt))\n",
      "def random_current():\n",
      "    MLI.I = gamma(3.966333,0.006653,size=len(MLI)) * nA\n",
      "\n",
      "    \n",
      "# Monitor\n",
      "MS_MLI = SpikeMonitor(MLI)\n",
      "MR_MLI = PopulationRateMonitor(MLI,bin=1*ms)\n",
      "MISI_MLI = ISIHistogramMonitor(MLI,bins=arange(0,162,2)*ms)\n",
      "MV_MLI = StateMonitor(MLI, 'V', record=range(N_MLI))\n",
      "\n",
      "\n",
      "start = time.time()\n",
      "run(T)\n",
      "print time.time() - start"
     ],
     "language": "python",
     "metadata": {},
     "outputs": [
      {
       "output_type": "stream",
       "stream": "stderr",
       "text": [
        "brian.experimental.codegen.stateupdaters: WARNING  C compilation failed, falling back on Python.\n"
       ]
      },
      {
       "output_type": "stream",
       "stream": "stderr",
       "text": [
        "WARNING:brian.experimental.codegen.stateupdaters:C compilation failed, falling back on Python.\n"
       ]
      },
      {
       "output_type": "stream",
       "stream": "stdout",
       "text": [
        "26.6874401569\n"
       ]
      }
     ],
     "prompt_number": 3
    }
   ],
   "metadata": {}
  }
 ]
}