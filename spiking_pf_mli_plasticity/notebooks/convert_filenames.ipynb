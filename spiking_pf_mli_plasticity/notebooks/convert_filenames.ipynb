{
 "metadata": {
  "name": "",
  "signature": "sha256:6194ac590cc2d83e335719047e7c766a844c31a7789818ef631c4d40543faab1"
 },
 "nbformat": 3,
 "nbformat_minor": 0,
 "worksheets": [
  {
   "cells": [
    {
     "cell_type": "code",
     "collapsed": false,
     "input": [
      "import os"
     ],
     "language": "python",
     "metadata": {},
     "outputs": [],
     "prompt_number": 9
    },
    {
     "cell_type": "code",
     "collapsed": false,
     "input": [
      "d = dict([('exp1','Figure_1'),('exp3','Supplementary_Figure_2'),('exp4','Figure_4'),('exp5','Supplementary_Figure_4'),\n",
      "     ('exp6','Figure_3'),('exp7','Supplementary_Figure_5'),('exp8','Supplementary_Figure_6'),\n",
      "     ('exp8','Supplementary_Figure_6'),('exp9','Supplementary_Figure_7'),('exp10','Supplementary_Figure_1'),\n",
      "     ('exp11','Supplementary_Figure_3')])\n",
      "\n",
      "#d = dict([('exp11','Supplementary_Figure_3')])"
     ],
     "language": "python",
     "metadata": {},
     "outputs": [],
     "prompt_number": 19
    },
    {
     "cell_type": "code",
     "collapsed": false,
     "input": [
      "in_dir = '/home/bill/shared_folder/paper #2/'\n",
      "for fname in os.listdir(in_dir):\n",
      "    if fname == 'old': continue\n",
      "    for exp,fig in d.iteritems():\n",
      "        desc,ext = fname.split('.')\n",
      "        if 'lr' in fname:\n",
      "            exp_num = desc.split('_')[0]\n",
      "            if exp == exp_num:\n",
      "                print fname + '  -->  ' +fig+'_lr'+'.'+ext\n",
      "                os.rename(in_dir+fname,in_dir+fig+'_lr'+'.'+ext)\n",
      "        else:\n",
      "            if exp == desc:\n",
      "                print fname + '  -->  ' +fig+'.'+ext\n",
      "                os.rename(in_dir+fname,in_dir+fig+'.'+ext)"
     ],
     "language": "python",
     "metadata": {},
     "outputs": [
      {
       "output_type": "stream",
       "stream": "stdout",
       "text": [
        "exp11.eps  -->  Supplementary_Figure_3.eps\n",
        "exp11_lr.tiff  -->  Supplementary_Figure_3_lr.tiff\n",
        "exp11.jpeg  -->  Supplementary_Figure_3.jpeg\n",
        "exp11.tiff  -->  Supplementary_Figure_3.tiff\n"
       ]
      }
     ],
     "prompt_number": 20
    },
    {
     "cell_type": "code",
     "collapsed": false,
     "input": [
      "fname"
     ],
     "language": "python",
     "metadata": {},
     "outputs": [
      {
       "metadata": {},
       "output_type": "pyout",
       "prompt_number": 15,
       "text": [
        "'old'"
       ]
      }
     ],
     "prompt_number": 15
    },
    {
     "cell_type": "code",
     "collapsed": false,
     "input": [],
     "language": "python",
     "metadata": {},
     "outputs": []
    }
   ],
   "metadata": {}
  }
 ]
}