{
 "metadata": {
  "name": "",
  "signature": "sha256:e0b0409a348a1239542120b706338a7697a5dc895c74e1b0d8c73d0939039989"
 },
 "nbformat": 3,
 "nbformat_minor": 0,
 "worksheets": [
  {
   "cells": [
    {
     "cell_type": "code",
     "collapsed": false,
     "input": [
      "import sys\n",
      "sys.path.append(\"../../\")\n",
      "from brian import *\n",
      "from neuron_models import *\n",
      "from spiking_pf_mli_plasticity import *\n",
      "import time"
     ],
     "language": "python",
     "metadata": {},
     "outputs": [
      {
       "output_type": "stream",
       "stream": "stderr",
       "text": [
        "/home/bill/anaconda/lib/python2.7/site-packages/brian/utils/sparse_patch/__init__.py:39: UserWarning: Couldn't find matching sparse matrix patch for scipy version 0.14.0, but in most cases this shouldn't be a problem.\n",
        "  warnings.warn(\"Couldn't find matching sparse matrix patch for scipy version %s, but in most cases this shouldn't be a problem.\" % scipy.__version__)\n",
        "/home/bill/anaconda/lib/python2.7/site-packages/brian/synapses/spikequeue.py:490: UserWarning: Using C++ SpikeQueue\n",
        "  warnings.warn('Using C++ SpikeQueue')\n"
       ]
      }
     ],
     "prompt_number": 1
    },
    {
     "cell_type": "code",
     "collapsed": false,
     "input": [
      "a=1/(50*ms)\n",
      "b=1/(3*ms)\n",
      "c=1/(50*ms)\n",
      "\n",
      "input=SpikeGeneratorGroup(1, [(0, i*ms) for i in range(10,60,10)])\n",
      "neurons = MLIGroup(1)\n",
      "S=Synapses(input,neurons,\n",
      "           model='''dg/dt=-a*g+b*(x**2)*(1-g) : 1\n",
      "                    dx/dt=-c*x : 1\n",
      "                    w : 1 # synaptic weight\n",
      "                 ''',\n",
      "           pre='x+=w') # NMDA synapses\n",
      "neurons.g_nmda=S.g\n",
      "S[:,:]=True\n",
      "S.w=[.1]\n",
      "\n",
      "M=StateMonitor(S,'g',record=True)\n",
      "Mn=StateMonitor(S,'x',record=0)\n",
      "\n",
      "run(300*ms)"
     ],
     "language": "python",
     "metadata": {},
     "outputs": [],
     "prompt_number": 2
    },
    {
     "cell_type": "code",
     "collapsed": false,
     "input": [
      "subplot(211)\n",
      "plot(M.times/ms,M[0])\n",
      "subplot(212)\n",
      "plot(Mn.times/ms,Mn[0])\n",
      "plot(Mn.times/ms,Mn[0]**2)"
     ],
     "language": "python",
     "metadata": {},
     "outputs": [
      {
       "metadata": {},
       "output_type": "pyout",
       "prompt_number": 3,
       "text": [
        "[<matplotlib.lines.Line2D at 0x63eb950>]"
       ]
      },
      {
       "metadata": {},
       "output_type": "display_data",
       "png": "[encoded data removed]",
       "text": [
        "<matplotlib.figure.Figure at 0x5fc4490>"
       ]
      }
     ],
     "prompt_number": 3
    },
    {
     "cell_type": "code",
     "collapsed": false,
     "input": [
      "(120*pA)/(65*mV)"
     ],
     "language": "python",
     "metadata": {},
     "outputs": [
      {
       "metadata": {},
       "output_type": "pyout",
       "prompt_number": 5,
       "text": [
        "1.84615384615 * nsiemens"
       ]
      }
     ],
     "prompt_number": 5
    },
    {
     "cell_type": "code",
     "collapsed": false,
     "input": [],
     "language": "python",
     "metadata": {},
     "outputs": []
    }
   ],
   "metadata": {}
  }
 ]
}