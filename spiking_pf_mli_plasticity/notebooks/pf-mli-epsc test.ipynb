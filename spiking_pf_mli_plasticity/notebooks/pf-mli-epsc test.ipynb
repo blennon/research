{
 "metadata": {
  "name": "",
  "signature": "sha256:68521ce563ee711c4b35cd1b5a45352e0b7e0d2bb7d945eb9984e350a90e75dc"
 },
 "nbformat": 3,
 "nbformat_minor": 0,
 "worksheets": [
  {
   "cells": [
    {
     "cell_type": "code",
     "collapsed": false,
     "input": [
      "import sys\n",
      "sys.path.append(\"../../\")\n",
      "from brian import *\n",
      "from neuron_models import *\n",
      "from spiking_pf_mli_plasticity import *"
     ],
     "language": "python",
     "metadata": {},
     "outputs": [
      {
       "output_type": "stream",
       "stream": "stderr",
       "text": [
        "/home/bill/anaconda/lib/python2.7/site-packages/brian/utils/sparse_patch/__init__.py:39: UserWarning: Couldn't find matching sparse matrix patch for scipy version 0.14.0, but in most cases this shouldn't be a problem.\n",
        "  warnings.warn(\"Couldn't find matching sparse matrix patch for scipy version %s, but in most cases this shouldn't be a problem.\" % scipy.__version__)\n",
        "/home/bill/anaconda/lib/python2.7/site-packages/brian/synapses/spikequeue.py:490: UserWarning: Using C++ SpikeQueue\n",
        "  warnings.warn('Using C++ SpikeQueue')\n"
       ]
      }
     ],
     "prompt_number": 1
    },
    {
     "cell_type": "code",
     "collapsed": false,
     "input": [
      "defaultclock.dt = .25*ms\n",
      "\n",
      "MLI = MLIGroup(1)\n",
      "\n",
      "GR = SpikeGeneratorGroup(1, [(0,i*ms) for i in range(100,200,10)])\n",
      "S_GR_MLI = Synapses(GR,MLI,model='w:1',pre='g_ampa_fast+=MLI.g_ampa_*w; g_ampa_slow+=MLI.g_ampa_*w')\n",
      "S_GR_MLI.connect_one_to_one()\n",
      "S_GR_MLI.w[:,:] = 1.\n",
      "\n",
      "GR_S = SpikeMonitor(MLI)\n",
      "GR_V = StateMonitor(MLI, 'g_ampa', record=True)\n",
      "\n",
      "run(500*ms)"
     ],
     "language": "python",
     "metadata": {},
     "outputs": [],
     "prompt_number": 2
    },
    {
     "cell_type": "code",
     "collapsed": false,
     "input": [
      "figure(figsize=(10,4))\n",
      "GR_V.plot()"
     ],
     "language": "python",
     "metadata": {},
     "outputs": [
      {
       "metadata": {},
       "output_type": "display_data",
       "png": "[encoded data removed]",
       "text": [
        "<matplotlib.figure.Figure at 0x5c7ab50>"
       ]
      }
     ],
     "prompt_number": 3
    },
    {
     "cell_type": "code",
     "collapsed": false,
     "input": [],
     "language": "python",
     "metadata": {},
     "outputs": []
    }
   ],
   "metadata": {}
  }
 ]
}