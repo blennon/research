{
 "metadata": {
  "name": "",
  "signature": "sha256:c4dcc2ca15440e7dea788434d23f44dbca389a58796230ef40c65384d97ba435"
 },
 "nbformat": 3,
 "nbformat_minor": 0,
 "worksheets": [
  {
   "cells": [
    {
     "cell_type": "code",
     "collapsed": false,
     "input": [
      "import sys\n",
      "sys.path.append(\"../../\")\n",
      "from brian import *\n",
      "import neuron_models"
     ],
     "language": "python",
     "metadata": {},
     "outputs": [
      {
       "output_type": "stream",
       "stream": "stderr",
       "text": [
        "/home/bill/anaconda/lib/python2.7/site-packages/brian/utils/sparse_patch/__init__.py:39: UserWarning: Couldn't find matching sparse matrix patch for scipy version 0.14.0, but in most cases this shouldn't be a problem.\n",
        "  warnings.warn(\"Couldn't find matching sparse matrix patch for scipy version %s, but in most cases this shouldn't be a problem.\" % scipy.__version__)\n",
        "/home/bill/anaconda/lib/python2.7/site-packages/brian/synapses/spikequeue.py:490: UserWarning: Using C++ SpikeQueue\n",
        "  warnings.warn('Using C++ SpikeQueue')\n"
       ]
      }
     ],
     "prompt_number": 1
    },
    {
     "cell_type": "code",
     "collapsed": false,
     "input": [
      "def pf_rates(t):\n",
      "    '''\n",
      "    returns a firing rate as a function of time. To be used with\n",
      "    the Poisson group\n",
      "    \n",
      "    t: is the simulation time step\n",
      "    '''\n",
      "    if 50*ms <= t < 100*ms:\n",
      "        return 100*Hz\n",
      "    return 0*Hz"
     ],
     "language": "python",
     "metadata": {},
     "outputs": [],
     "prompt_number": 2
    },
    {
     "cell_type": "code",
     "collapsed": false,
     "input": [
      "class RealTimeRateMonitor(SpikeMonitor):\n",
      "    '''\n",
      "    Converts a spike train for each neuron to a rate code in real time\n",
      "    using a sum of exponentials kernel.\n",
      "\n",
      "    The kernel is of the form:\n",
      "    k(t) = ( exp(-t/tau_fall) - exp(-t/tau_rise) ) / (tau_fall - tau_rise)\n",
      "    '''\n",
      "    @check_units(tau_f=ms, tau_r=ms)\n",
      "    def __init__(self, neuron_group, tau_f=10.*ms, tau_r=2.*ms, record=False, record_clock=None):\n",
      "        '''\n",
      "        neuron_group: the neuron group for neurons to record\n",
      "        tau_f: fall time constant\n",
      "        tau_r: rise time constant\n",
      "        record: bool, True to store the history of the rate array\n",
      "        '''\n",
      "        self.tau_f = tau_f\n",
      "        self.tau_r = tau_r\n",
      "        self.record = record\n",
      "        self.record_clock = record_clock\n",
      "        self.recording = []\n",
      "        self.f = zeros(len(neuron_group))*Hz\n",
      "        self.r = zeros(len(neuron_group))*Hz\n",
      "        super(RealTimeRateMonitor, self).__init__(neuron_group)\n",
      "\n",
      "    def propagate(self, spikes):\n",
      "        '''\n",
      "        update the state of rising and falling firing rate traces\n",
      "\n",
      "        optionally, record the trace of firing rates\n",
      "        '''\n",
      "        dt = defaultclock.dt\n",
      "        self.f -= self.f*dt/self.tau_f\n",
      "        self.r -= self.r*dt/self.tau_r\n",
      "        if len(spikes):\n",
      "            self.f[spikes] += 1*Hz\n",
      "            self.r[spikes] += 1*Hz\n",
      "        if record:\n",
      "            if self.record_clock is not None:\n",
      "                if int(float(defaultclock.t)*100000) % int(float(self.record_clock.dt)*100000)==0:\n",
      "                    self.recording.append(self.get_firing_rates())\n",
      "            else:\n",
      "                self.recording.append(self.get_firing_rates())\n",
      "\n",
      "    def get_firing_rates(self):\n",
      "        '''\n",
      "        return the neuron firing rates for the current time step\n",
      "        '''\n",
      "        return (self.f - self.r)/(self.tau_f - self.tau_r)\n",
      "\n",
      "    def getvalues(self):\n",
      "        '''\n",
      "        return the values of the recording\n",
      "        '''\n",
      "        return self.recording"
     ],
     "language": "python",
     "metadata": {},
     "outputs": [],
     "prompt_number": 3
    },
    {
     "cell_type": "code",
     "collapsed": false,
     "input": [
      "GR = SpikeGeneratorGroup(1, array([(0,i*ms) for i in range(0,150,10)]))"
     ],
     "language": "python",
     "metadata": {},
     "outputs": [],
     "prompt_number": 4
    },
    {
     "cell_type": "code",
     "collapsed": false,
     "input": [
      "R = RealTimeRateMonitor(GR, record=True, record_clock=Clock(1*ms))\n",
      "S = SpikeMonitor(GR)"
     ],
     "language": "python",
     "metadata": {},
     "outputs": [],
     "prompt_number": 5
    },
    {
     "cell_type": "code",
     "collapsed": false,
     "input": [
      "run(150*ms)"
     ],
     "language": "python",
     "metadata": {},
     "outputs": [],
     "prompt_number": 6
    },
    {
     "cell_type": "code",
     "collapsed": false,
     "input": [
      "plot(R.getvalues())"
     ],
     "language": "python",
     "metadata": {},
     "outputs": [
      {
       "metadata": {},
       "output_type": "pyout",
       "prompt_number": 7,
       "text": [
        "[<matplotlib.lines.Line2D at 0x5d39550>]"
       ]
      },
      {
       "metadata": {},
       "output_type": "display_data",
       "png": "[encoded data removed]",
       "text": [
        "<matplotlib.figure.Figure at 0x5bca4d0>"
       ]
      }
     ],
     "prompt_number": 7
    },
    {
     "cell_type": "code",
     "collapsed": false,
     "input": [],
     "language": "python",
     "metadata": {},
     "outputs": []
    }
   ],
   "metadata": {}
  }
 ]
}